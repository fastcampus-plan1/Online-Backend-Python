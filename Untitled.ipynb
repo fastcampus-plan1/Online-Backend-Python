{
 "cells": [
  {
   "cell_type": "code",
   "execution_count": 3,
   "metadata": {},
   "outputs": [
    {
     "name": "stdout",
     "output_type": "stream",
     "text": [
      "12\n"
     ]
    }
   ],
   "source": [
    "a = 1+11\n",
    "print(a)"
   ]
  },
  {
   "cell_type": "code",
   "execution_count": 2,
   "metadata": {},
   "outputs": [
    {
     "name": "stdout",
     "output_type": "stream",
     "text": [
      "499500\n"
     ]
    }
   ],
   "source": [
    "a = 0\n",
    "for i in range(1000):\n",
    "    a += i\n",
    "\n",
    "print(a)\n"
   ]
  },
  {
   "cell_type": "markdown",
   "metadata": {},
   "source": [
    "# Hello\n",
    "\n",
    "This is a manual."
   ]
  },
  {
   "cell_type": "code",
   "execution_count": 1,
   "metadata": {},
   "outputs": [
    {
     "data": {
      "application/json": {
       "cell": {
        "!": "OSMagics",
        "HTML": "Other",
        "SVG": "Other",
        "bash": "Other",
        "capture": "ExecutionMagics",
        "code_wrap": "ExecutionMagics",
        "debug": "ExecutionMagics",
        "file": "Other",
        "html": "DisplayMagics",
        "javascript": "DisplayMagics",
        "js": "DisplayMagics",
        "latex": "DisplayMagics",
        "markdown": "DisplayMagics",
        "perl": "Other",
        "prun": "ExecutionMagics",
        "pypy": "Other",
        "python": "Other",
        "python2": "Other",
        "python3": "Other",
        "ruby": "Other",
        "script": "ScriptMagics",
        "sh": "Other",
        "svg": "DisplayMagics",
        "sx": "OSMagics",
        "system": "OSMagics",
        "time": "ExecutionMagics",
        "timeit": "ExecutionMagics",
        "writefile": "OSMagics"
       },
       "line": {
        "alias": "OSMagics",
        "alias_magic": "BasicMagics",
        "autoawait": "AsyncMagics",
        "autocall": "AutoMagics",
        "automagic": "AutoMagics",
        "autosave": "KernelMagics",
        "bookmark": "OSMagics",
        "cat": "Other",
        "cd": "OSMagics",
        "clear": "KernelMagics",
        "code_wrap": "ExecutionMagics",
        "colors": "BasicMagics",
        "conda": "PackagingMagics",
        "config": "ConfigMagics",
        "connect_info": "KernelMagics",
        "cp": "Other",
        "debug": "ExecutionMagics",
        "dhist": "OSMagics",
        "dirs": "OSMagics",
        "doctest_mode": "BasicMagics",
        "ed": "Other",
        "edit": "KernelMagics",
        "env": "OSMagics",
        "gui": "BasicMagics",
        "hist": "Other",
        "history": "HistoryMagics",
        "killbgscripts": "ScriptMagics",
        "ldir": "Other",
        "less": "KernelMagics",
        "lf": "Other",
        "lk": "Other",
        "ll": "Other",
        "load": "CodeMagics",
        "load_ext": "ExtensionMagics",
        "loadpy": "CodeMagics",
        "logoff": "LoggingMagics",
        "logon": "LoggingMagics",
        "logstart": "LoggingMagics",
        "logstate": "LoggingMagics",
        "logstop": "LoggingMagics",
        "ls": "Other",
        "lsmagic": "BasicMagics",
        "lx": "Other",
        "macro": "ExecutionMagics",
        "magic": "BasicMagics",
        "mamba": "PackagingMagics",
        "man": "KernelMagics",
        "matplotlib": "PylabMagics",
        "micromamba": "PackagingMagics",
        "mkdir": "Other",
        "more": "KernelMagics",
        "mv": "Other",
        "notebook": "BasicMagics",
        "page": "BasicMagics",
        "pastebin": "CodeMagics",
        "pdb": "ExecutionMagics",
        "pdef": "NamespaceMagics",
        "pdoc": "NamespaceMagics",
        "pfile": "NamespaceMagics",
        "pinfo": "NamespaceMagics",
        "pinfo2": "NamespaceMagics",
        "pip": "PackagingMagics",
        "popd": "OSMagics",
        "pprint": "BasicMagics",
        "precision": "BasicMagics",
        "prun": "ExecutionMagics",
        "psearch": "NamespaceMagics",
        "psource": "NamespaceMagics",
        "pushd": "OSMagics",
        "pwd": "OSMagics",
        "pycat": "OSMagics",
        "pylab": "PylabMagics",
        "qtconsole": "KernelMagics",
        "quickref": "BasicMagics",
        "recall": "HistoryMagics",
        "rehashx": "OSMagics",
        "reload_ext": "ExtensionMagics",
        "rep": "Other",
        "rerun": "HistoryMagics",
        "reset": "NamespaceMagics",
        "reset_selective": "NamespaceMagics",
        "rm": "Other",
        "rmdir": "Other",
        "run": "ExecutionMagics",
        "save": "CodeMagics",
        "sc": "OSMagics",
        "set_env": "OSMagics",
        "store": "StoreMagics",
        "sx": "OSMagics",
        "system": "OSMagics",
        "tb": "ExecutionMagics",
        "time": "ExecutionMagics",
        "timeit": "ExecutionMagics",
        "unalias": "OSMagics",
        "unload_ext": "ExtensionMagics",
        "who": "NamespaceMagics",
        "who_ls": "NamespaceMagics",
        "whos": "NamespaceMagics",
        "xdel": "NamespaceMagics",
        "xmode": "BasicMagics"
       }
      },
      "text/plain": [
       "Available line magics:\n",
       "%alias  %alias_magic  %autoawait  %autocall  %automagic  %autosave  %bookmark  %cat  %cd  %clear  %code_wrap  %colors  %conda  %config  %connect_info  %cp  %debug  %dhist  %dirs  %doctest_mode  %ed  %edit  %env  %gui  %hist  %history  %killbgscripts  %ldir  %less  %lf  %lk  %ll  %load  %load_ext  %loadpy  %logoff  %logon  %logstart  %logstate  %logstop  %ls  %lsmagic  %lx  %macro  %magic  %mamba  %man  %matplotlib  %micromamba  %mkdir  %more  %mv  %notebook  %page  %pastebin  %pdb  %pdef  %pdoc  %pfile  %pinfo  %pinfo2  %pip  %popd  %pprint  %precision  %prun  %psearch  %psource  %pushd  %pwd  %pycat  %pylab  %qtconsole  %quickref  %recall  %rehashx  %reload_ext  %rep  %rerun  %reset  %reset_selective  %rm  %rmdir  %run  %save  %sc  %set_env  %store  %sx  %system  %tb  %time  %timeit  %unalias  %unload_ext  %who  %who_ls  %whos  %xdel  %xmode\n",
       "\n",
       "Available cell magics:\n",
       "%%!  %%HTML  %%SVG  %%bash  %%capture  %%code_wrap  %%debug  %%file  %%html  %%javascript  %%js  %%latex  %%markdown  %%perl  %%prun  %%pypy  %%python  %%python2  %%python3  %%ruby  %%script  %%sh  %%svg  %%sx  %%system  %%time  %%timeit  %%writefile\n",
       "\n",
       "Automagic is ON, % prefix IS NOT needed for line magics."
      ]
     },
     "execution_count": 1,
     "metadata": {},
     "output_type": "execute_result"
    }
   ],
   "source": [
    "%lsmagic"
   ]
  },
  {
   "cell_type": "code",
   "execution_count": 2,
   "metadata": {},
   "outputs": [
    {
     "data": {
      "text/plain": [
       "'/Users/ryan/Online-Backend-Python'"
      ]
     },
     "execution_count": 2,
     "metadata": {},
     "output_type": "execute_result"
    }
   ],
   "source": [
    "%pwd"
   ]
  },
  {
   "cell_type": "code",
   "execution_count": 4,
   "metadata": {},
   "outputs": [
    {
     "name": "stdout",
     "output_type": "stream",
     "text": [
      "Writing example.py\n"
     ]
    }
   ],
   "source": [
    "%%writefile example.py\n",
    "def example_func(s):\n",
    "    print(\"this is an example func.\", s)"
   ]
  },
  {
   "cell_type": "code",
   "execution_count": 5,
   "metadata": {},
   "outputs": [],
   "source": [
    "# %load example.py\n",
    "def example_func(s):\n",
    "    print(\"this is an example func.\", s)\n"
   ]
  },
  {
   "cell_type": "code",
   "execution_count": 6,
   "metadata": {},
   "outputs": [
    {
     "name": "stdout",
     "output_type": "stream",
     "text": [
      "this is an example func. hello\n"
     ]
    }
   ],
   "source": [
    "import example\n",
    "example.example_func(\"hello\")"
   ]
  },
  {
   "cell_type": "code",
   "execution_count": 8,
   "metadata": {},
   "outputs": [
    {
     "name": "stderr",
     "output_type": "stream",
     "text": [
      "UsageError: %%timeit is a cell magic, but the cell body is empty. Did you mean the line magic %timeit (single %)?\n"
     ]
    }
   ],
   "source": [
    "%%timeit"
   ]
  },
  {
   "cell_type": "code",
   "execution_count": 9,
   "metadata": {},
   "outputs": [
    {
     "name": "stdout",
     "output_type": "stream",
     "text": [
      "1.71 µs ± 23.3 ns per loop (mean ± std. dev. of 7 runs, 1,000,000 loops each)\n"
     ]
    }
   ],
   "source": [
    "%%timeit\n",
    "a = 0\n",
    "for i in range(100):\n",
    "    a += i"
   ]
  },
  {
   "cell_type": "code",
   "execution_count": 10,
   "metadata": {},
   "outputs": [
    {
     "name": "stdout",
     "output_type": "stream",
     "text": [
      "CPU times: user 21 µs, sys: 1 µs, total: 22 µs\n",
      "Wall time: 25 µs\n"
     ]
    }
   ],
   "source": [
    "%%time\n",
    "a = 0\n",
    "for i in range(100):\n",
    "    a += i"
   ]
  },
  {
   "cell_type": "code",
   "execution_count": 11,
   "metadata": {},
   "outputs": [
    {
     "name": "stdout",
     "output_type": "stream",
     "text": [
      "5.88 µs ± 1.86 µs per loop (mean ± std. dev. of 7 runs, 10 loops each)\n"
     ]
    }
   ],
   "source": [
    "%%timeit -n 10\n",
    "\n",
    "a = 0\n",
    "for i in range(100):\n",
    "    a += i"
   ]
  },
  {
   "cell_type": "code",
   "execution_count": 12,
   "metadata": {},
   "outputs": [
    {
     "data": {
      "text/html": [
       "<div style=\"color: blue\">안녕하세요</div>\n"
      ],
      "text/plain": [
       "<IPython.core.display.HTML object>"
      ]
     },
     "metadata": {},
     "output_type": "display_data"
    }
   ],
   "source": [
    "%%html\n",
    "<div style=\"color: blue\">안녕하세요</div>"
   ]
  },
  {
   "cell_type": "code",
   "execution_count": 1,
   "metadata": {},
   "outputs": [
    {
     "name": "stdout",
     "output_type": "stream",
     "text": [
      "Message: no such window: target window already closed\n",
      "from unknown error: web view not found\n",
      "  (Session info: chrome=112.0.5615.121)\n",
      "Stacktrace:\n",
      "0   chromedriver                        0x00000001004ffae8 chromedriver + 4958952\n",
      "1   chromedriver                        0x00000001004f77b3 chromedriver + 4925363\n",
      "2   chromedriver                        0x00000001000b91d6 chromedriver + 475606\n",
      "3   chromedriver                        0x000000010008ecec chromedriver + 302316\n",
      "4   chromedriver                        0x0000000100127f2f chromedriver + 929583\n",
      "5   chromedriver                        0x000000010013d926 chromedriver + 1018150\n",
      "6   chromedriver                        0x00000001001229e3 chromedriver + 907747\n",
      "7   chromedriver                        0x00000001000ecaef chromedriver + 686831\n",
      "8   chromedriver                        0x00000001000ee00e chromedriver + 692238\n",
      "9   chromedriver                        0x00000001004bb9ad chromedriver + 4680109\n",
      "10  chromedriver                        0x00000001004c0c12 chromedriver + 4701202\n",
      "11  chromedriver                        0x00000001004c779f chromedriver + 4728735\n",
      "12  chromedriver                        0x00000001004c1b7a chromedriver + 4705146\n",
      "13  chromedriver                        0x000000010049427e chromedriver + 4518526\n",
      "14  chromedriver                        0x00000001004e1908 chromedriver + 4835592\n",
      "15  chromedriver                        0x00000001004e1a87 chromedriver + 4835975\n",
      "16  chromedriver                        0x00000001004f100f chromedriver + 4898831\n",
      "17  libsystem_pthread.dylib             0x00007ff8089bf202 _pthread_start + 99\n",
      "18  libsystem_pthread.dylib             0x00007ff8089babab thread_start + 15\n",
      "\n"
     ]
    },
    {
     "ename": "NoSuchWindowException",
     "evalue": "Message: no such window: target window already closed\nfrom unknown error: web view not found\n  (Session info: chrome=112.0.5615.121)\nStacktrace:\n0   chromedriver                        0x00000001004ffae8 chromedriver + 4958952\n1   chromedriver                        0x00000001004f77b3 chromedriver + 4925363\n2   chromedriver                        0x00000001000b91d6 chromedriver + 475606\n3   chromedriver                        0x000000010008ecec chromedriver + 302316\n4   chromedriver                        0x0000000100127f2f chromedriver + 929583\n5   chromedriver                        0x000000010013d926 chromedriver + 1018150\n6   chromedriver                        0x00000001001229e3 chromedriver + 907747\n7   chromedriver                        0x00000001000ecaef chromedriver + 686831\n8   chromedriver                        0x00000001000ee00e chromedriver + 692238\n9   chromedriver                        0x00000001004bb9ad chromedriver + 4680109\n10  chromedriver                        0x00000001004c0c12 chromedriver + 4701202\n11  chromedriver                        0x00000001004c779f chromedriver + 4728735\n12  chromedriver                        0x00000001004c1b7a chromedriver + 4705146\n13  chromedriver                        0x000000010049427e chromedriver + 4518526\n14  chromedriver                        0x00000001004e1908 chromedriver + 4835592\n15  chromedriver                        0x00000001004e1a87 chromedriver + 4835975\n16  chromedriver                        0x00000001004f100f chromedriver + 4898831\n17  libsystem_pthread.dylib             0x00007ff8089bf202 _pthread_start + 99\n18  libsystem_pthread.dylib             0x00007ff8089babab thread_start + 15\n",
     "output_type": "error",
     "traceback": [
      "\u001b[0;31m---------------------------------------------------------------------------\u001b[0m",
      "\u001b[0;31mNoSuchWindowException\u001b[0m                     Traceback (most recent call last)",
      "Cell \u001b[0;32mIn[1], line 2\u001b[0m\n\u001b[1;32m      1\u001b[0m \u001b[38;5;28;01mfrom\u001b[39;00m \u001b[38;5;21;01mselenium_crawler\u001b[39;00m\u001b[38;5;21;01m.\u001b[39;00m\u001b[38;5;21;01mkakaomap_scrap\u001b[39;00m \u001b[38;5;28;01mimport\u001b[39;00m get_data_from_kakaomap\n\u001b[0;32m----> 2\u001b[0m \u001b[43mget_data_from_kakaomap\u001b[49m\u001b[43m(\u001b[49m\u001b[43m)\u001b[49m\n",
      "File \u001b[0;32m~/Online-Backend-Python/selenium_crawler/kakaomap_scrap.py:73\u001b[0m, in \u001b[0;36mget_data_from_kakaomap\u001b[0;34m()\u001b[0m\n\u001b[1;32m     71\u001b[0m \u001b[38;5;28;01mexcept\u001b[39;00m \u001b[38;5;167;01mException\u001b[39;00m \u001b[38;5;28;01mas\u001b[39;00m e:\n\u001b[1;32m     72\u001b[0m     \u001b[38;5;28mprint\u001b[39m(e)\n\u001b[0;32m---> 73\u001b[0m     \u001b[38;5;28;01mraise\u001b[39;00m e\n",
      "File \u001b[0;32m~/Online-Backend-Python/selenium_crawler/kakaomap_scrap.py:57\u001b[0m, in \u001b[0;36mget_data_from_kakaomap\u001b[0;34m()\u001b[0m\n\u001b[1;32m     54\u001b[0m page_num \u001b[38;5;241m=\u001b[39m page_count \u001b[38;5;241m%\u001b[39m \u001b[38;5;241m5\u001b[39m \u001b[38;5;28;01mif\u001b[39;00m page_count \u001b[38;5;241m%\u001b[39m \u001b[38;5;241m5\u001b[39m \u001b[38;5;241m!=\u001b[39m \u001b[38;5;241m0\u001b[39m \u001b[38;5;28;01melse\u001b[39;00m \u001b[38;5;241m5\u001b[39m\n\u001b[1;32m     56\u001b[0m page_btn_id \u001b[38;5;241m=\u001b[39m \u001b[38;5;124mf\u001b[39m\u001b[38;5;124m\"\u001b[39m\u001b[38;5;124minfo.search.page.no\u001b[39m\u001b[38;5;132;01m{\u001b[39;00mpage_num\u001b[38;5;132;01m}\u001b[39;00m\u001b[38;5;124m\"\u001b[39m\n\u001b[0;32m---> 57\u001b[0m next_btn \u001b[38;5;241m=\u001b[39m \u001b[43mdriver\u001b[49m\u001b[38;5;241;43m.\u001b[39;49m\u001b[43mfind_element\u001b[49m\u001b[43m(\u001b[49m\u001b[43mBy\u001b[49m\u001b[38;5;241;43m.\u001b[39;49m\u001b[43mID\u001b[49m\u001b[43m,\u001b[49m\u001b[43m \u001b[49m\u001b[43mpage_btn_id\u001b[49m\u001b[43m)\u001b[49m\n\u001b[1;32m     58\u001b[0m next_btn\u001b[38;5;241m.\u001b[39mclick()\n\u001b[1;32m     59\u001b[0m wait \u001b[38;5;241m=\u001b[39m WebDriverWait(driver, \u001b[38;5;241m10\u001b[39m)\n",
      "File \u001b[0;32m~/Online-Backend-Python/venv/lib/python3.11/site-packages/selenium/webdriver/remote/webdriver.py:742\u001b[0m, in \u001b[0;36mWebDriver.find_element\u001b[0;34m(self, by, value)\u001b[0m\n\u001b[1;32m    739\u001b[0m     by \u001b[38;5;241m=\u001b[39m By\u001b[38;5;241m.\u001b[39mCSS_SELECTOR\n\u001b[1;32m    740\u001b[0m     value \u001b[38;5;241m=\u001b[39m \u001b[38;5;124mf\u001b[39m\u001b[38;5;124m'\u001b[39m\u001b[38;5;124m[name=\u001b[39m\u001b[38;5;124m\"\u001b[39m\u001b[38;5;132;01m{\u001b[39;00mvalue\u001b[38;5;132;01m}\u001b[39;00m\u001b[38;5;124m\"\u001b[39m\u001b[38;5;124m]\u001b[39m\u001b[38;5;124m'\u001b[39m\n\u001b[0;32m--> 742\u001b[0m \u001b[38;5;28;01mreturn\u001b[39;00m \u001b[38;5;28;43mself\u001b[39;49m\u001b[38;5;241;43m.\u001b[39;49m\u001b[43mexecute\u001b[49m\u001b[43m(\u001b[49m\u001b[43mCommand\u001b[49m\u001b[38;5;241;43m.\u001b[39;49m\u001b[43mFIND_ELEMENT\u001b[49m\u001b[43m,\u001b[49m\u001b[43m \u001b[49m\u001b[43m{\u001b[49m\u001b[38;5;124;43m\"\u001b[39;49m\u001b[38;5;124;43musing\u001b[39;49m\u001b[38;5;124;43m\"\u001b[39;49m\u001b[43m:\u001b[49m\u001b[43m \u001b[49m\u001b[43mby\u001b[49m\u001b[43m,\u001b[49m\u001b[43m \u001b[49m\u001b[38;5;124;43m\"\u001b[39;49m\u001b[38;5;124;43mvalue\u001b[39;49m\u001b[38;5;124;43m\"\u001b[39;49m\u001b[43m:\u001b[49m\u001b[43m \u001b[49m\u001b[43mvalue\u001b[49m\u001b[43m}\u001b[49m\u001b[43m)\u001b[49m[\u001b[38;5;124m\"\u001b[39m\u001b[38;5;124mvalue\u001b[39m\u001b[38;5;124m\"\u001b[39m]\n",
      "File \u001b[0;32m~/Online-Backend-Python/venv/lib/python3.11/site-packages/selenium/webdriver/remote/webdriver.py:348\u001b[0m, in \u001b[0;36mWebDriver.execute\u001b[0;34m(self, driver_command, params)\u001b[0m\n\u001b[1;32m    346\u001b[0m response \u001b[38;5;241m=\u001b[39m \u001b[38;5;28mself\u001b[39m\u001b[38;5;241m.\u001b[39mcommand_executor\u001b[38;5;241m.\u001b[39mexecute(driver_command, params)\n\u001b[1;32m    347\u001b[0m \u001b[38;5;28;01mif\u001b[39;00m response:\n\u001b[0;32m--> 348\u001b[0m     \u001b[38;5;28;43mself\u001b[39;49m\u001b[38;5;241;43m.\u001b[39;49m\u001b[43merror_handler\u001b[49m\u001b[38;5;241;43m.\u001b[39;49m\u001b[43mcheck_response\u001b[49m\u001b[43m(\u001b[49m\u001b[43mresponse\u001b[49m\u001b[43m)\u001b[49m\n\u001b[1;32m    349\u001b[0m     response[\u001b[38;5;124m\"\u001b[39m\u001b[38;5;124mvalue\u001b[39m\u001b[38;5;124m\"\u001b[39m] \u001b[38;5;241m=\u001b[39m \u001b[38;5;28mself\u001b[39m\u001b[38;5;241m.\u001b[39m_unwrap_value(response\u001b[38;5;241m.\u001b[39mget(\u001b[38;5;124m\"\u001b[39m\u001b[38;5;124mvalue\u001b[39m\u001b[38;5;124m\"\u001b[39m, \u001b[38;5;28;01mNone\u001b[39;00m))\n\u001b[1;32m    350\u001b[0m     \u001b[38;5;28;01mreturn\u001b[39;00m response\n",
      "File \u001b[0;32m~/Online-Backend-Python/venv/lib/python3.11/site-packages/selenium/webdriver/remote/errorhandler.py:229\u001b[0m, in \u001b[0;36mErrorHandler.check_response\u001b[0;34m(self, response)\u001b[0m\n\u001b[1;32m    227\u001b[0m         alert_text \u001b[38;5;241m=\u001b[39m value[\u001b[38;5;124m\"\u001b[39m\u001b[38;5;124malert\u001b[39m\u001b[38;5;124m\"\u001b[39m]\u001b[38;5;241m.\u001b[39mget(\u001b[38;5;124m\"\u001b[39m\u001b[38;5;124mtext\u001b[39m\u001b[38;5;124m\"\u001b[39m)\n\u001b[1;32m    228\u001b[0m     \u001b[38;5;28;01mraise\u001b[39;00m exception_class(message, screen, stacktrace, alert_text)  \u001b[38;5;66;03m# type: ignore[call-arg]  # mypy is not smart enough here\u001b[39;00m\n\u001b[0;32m--> 229\u001b[0m \u001b[38;5;28;01mraise\u001b[39;00m exception_class(message, screen, stacktrace)\n",
      "\u001b[0;31mNoSuchWindowException\u001b[0m: Message: no such window: target window already closed\nfrom unknown error: web view not found\n  (Session info: chrome=112.0.5615.121)\nStacktrace:\n0   chromedriver                        0x00000001004ffae8 chromedriver + 4958952\n1   chromedriver                        0x00000001004f77b3 chromedriver + 4925363\n2   chromedriver                        0x00000001000b91d6 chromedriver + 475606\n3   chromedriver                        0x000000010008ecec chromedriver + 302316\n4   chromedriver                        0x0000000100127f2f chromedriver + 929583\n5   chromedriver                        0x000000010013d926 chromedriver + 1018150\n6   chromedriver                        0x00000001001229e3 chromedriver + 907747\n7   chromedriver                        0x00000001000ecaef chromedriver + 686831\n8   chromedriver                        0x00000001000ee00e chromedriver + 692238\n9   chromedriver                        0x00000001004bb9ad chromedriver + 4680109\n10  chromedriver                        0x00000001004c0c12 chromedriver + 4701202\n11  chromedriver                        0x00000001004c779f chromedriver + 4728735\n12  chromedriver                        0x00000001004c1b7a chromedriver + 4705146\n13  chromedriver                        0x000000010049427e chromedriver + 4518526\n14  chromedriver                        0x00000001004e1908 chromedriver + 4835592\n15  chromedriver                        0x00000001004e1a87 chromedriver + 4835975\n16  chromedriver                        0x00000001004f100f chromedriver + 4898831\n17  libsystem_pthread.dylib             0x00007ff8089bf202 _pthread_start + 99\n18  libsystem_pthread.dylib             0x00007ff8089babab thread_start + 15\n"
     ]
    }
   ],
   "source": [
    "from selenium_crawler.kakaomap_scrap import get_data_from_kakaomap\n",
    "get_data_from_kakaomap()"
   ]
  },
  {
   "cell_type": "code",
   "execution_count": 4,
   "metadata": {},
   "outputs": [
    {
     "data": {
      "text/plain": [
       "[('<압구정> 압구정에서 핫한 꽁티드툴레아의 내돈내산 솔직 후기',\n",
       "  'https://blog.naver.com/ikmji/223276078156'),\n",
       " ('압구정로데오 브런치 꽁티드툴레아 메뉴 웨이팅 김치볶음밥 엔초비파스타',\n",
       "  'https://blog.naver.com/min11ju/223222440335'),\n",
       " ('압구정로데오 브런치맛집 꽁티드툴레아 오픈런(예약, 발렛 정보)',\n",
       "  'https://blog.naver.com/sye1229-/223190021747'),\n",
       " ('[서울 압구정 양식 맛집] 꽁티드툴레아', 'https://blog.naver.com/kkw_31/223192310632'),\n",
       " ('[압구정로데오/청담 맛집] 인스타 인증샷 핫플, ‘꽁티드툴레아’',\n",
       "  'https://blog.naver.com/pjhnuck/222922743352'),\n",
       " ('꽁티드툴레아 압구정 브런치', 'https://blog.naver.com/yeji9427/223057052419'),\n",
       " ('[서울/압구정로데오] 도산대로맛집 꽁티드툴레아 솔직리뷰|압구정로데오역맛집',\n",
       "  'https://blog.naver.com/dbsdl811/222729187472'),\n",
       " ('압구정로데오 #꽁티드툴레아 #호텔드앤유', 'https://blog.naver.com/lovemme_/223277865924'),\n",
       " ('압구정로데오 꽁티드툴레아 메뉴추천 연말 크리스마스',\n",
       "  'https://blog.naver.com/sujin6053/223302573922'),\n",
       " ('도산공원 브런치맛집 꽁티드툴레아 / 디퓨저 9번 머스키 리뷰',\n",
       "  'https://blog.naver.com/sz4alfzm/222857150463'),\n",
       " ('꽁티드툴레아 :: 초콜릿 무스가 유명한 압구정 브런치 카페 in 압구정 로데오',\n",
       "  'https://blog.naver.com/stern_always_sunny/222983381197'),\n",
       " ('도산공원 브런치 꽁티드툴레아 : 예약, 워크인 웨이팅 팁, 추천 메뉴, 가격',\n",
       "  'https://blog.naver.com/berrytaste/222907858721'),\n",
       " ('도산공원 맛집 꽁티드툴레아', 'https://blog.naver.com/dlgksk0628/222732542806'),\n",
       " ('압구정 브런치카페 도산공원 맛집 @꽁티드툴레아', 'https://blog.naver.com/my_nar/222902375739'),\n",
       " ('도산브런치맛집 _ 꽁티드툴레아 , 10꼬르소꼬모',\n",
       "  'https://blog.naver.com/ryukreon/222881709531'),\n",
       " ('도산공원 브런치 맛집, 꽁티드툴레아', 'https://blog.naver.com/geunnu/222696898273'),\n",
       " ('도산공원 꽁티드툴레아 인스타 핫플 초코무스 냠', 'https://blog.naver.com/rhrh208/222168757604'),\n",
       " ('[21년 11월] 구테로이테, 에스프레소 바, 압구정 묵전, 페이머스 버거, 꽁티드툴레아, 마리오네, 성수동 맛집... ',\n",
       "  'https://blog.naver.com/fcoverbong/222597048848'),\n",
       " ('[압구정 로데오] 음식 맛이 아쉬웠던 꽁티드툴레아 (주말 웨이팅, 메뉴 후기)',\n",
       "  'https://blog.naver.com/giveminbest/223072042080'),\n",
       " (\"서울 맛집 | 도산공원 브런치 '꽁티드툴레아’ + 주말 웨이팅, 추천 메뉴\",\n",
       "  'https://blog.naver.com/h_hyunkyo77/222973363053'),\n",
       " ('도산공원 브런치 맛집 꽁티드툴레아 김치볶음밥 초코무스 통베이컨 와플도',\n",
       "  'https://blog.naver.com/kibae9592/222902781812'),\n",
       " ('[압구정로데오] 도심 속 정원같이 너무 예뻤던 도산공원 브런치 카페 꽁티드툴레아',\n",
       "  'https://blog.naver.com/myeongsin5242/222741462361'),\n",
       " ('압구정로데오역 : 감각적인 공간에서 브런치 \"꽁티드툴레아\" 평일 방문, 웨이팅 후기',\n",
       "  'https://blog.naver.com/missyrose/223123412407'),\n",
       " ('압구정 도산공원 브런치 맛집 꽁티드툴레아', 'https://blog.naver.com/lunamode/222962008079')]"
      ]
     },
     "execution_count": 4,
     "metadata": {},
     "output_type": "execute_result"
    }
   ],
   "source": [
    "from selenium_crawler.naver_blog_scrap import crawl_naver_blog, crawl_naver_blog_by_requests, find_reivew_article\n",
    "\n",
    "# print(crawl_naver_blog('https://blog.naver.com/gangbuk_official/223177144192'))\n",
    "# crawl_naver_blog_by_requests('https://blog.naver.com/gangbuk_official/223177144192')\n",
    "# find_reivew_article(\"강남구\", \"노티드 청담\")\n",
    "# find_reivew_article(\"강남구\", \"알베르\")\n",
    "find_reivew_article(\"강남구\", \"꽁티드툴레아 도산점\")"
   ]
  },
  {
   "cell_type": "code",
   "execution_count": 2,
   "metadata": {},
   "outputs": [
    {
     "name": "stdout",
     "output_type": "stream",
     "text": [
      "['도산공원', '압구정로데오카페', '압구정카페', '압구정케이크', '청담카페', '데이트코스', '카카오페이', 'WIFI', '동물출입금지', '주차', '휠체어사용없음']\n"
     ]
    }
   ],
   "source": [
    "from selenium_crawler.kakao_place_scrap import scrap_kakao_place_info\n",
    "\n",
    "print(scrap_kakao_place_info(\"348276052\"))  # 노티드 청담\n",
    "# print(scrap_kakao_place_info(\"179244712\"))  # 꽁티드툴레아 도산\n"
   ]
  }
 ],
 "metadata": {
  "kernelspec": {
   "display_name": "Python 3 (ipykernel)",
   "language": "python",
   "name": "python3"
  },
  "language_info": {
   "codemirror_mode": {
    "name": "ipython",
    "version": 3
   },
   "file_extension": ".py",
   "mimetype": "text/x-python",
   "name": "python",
   "nbconvert_exporter": "python",
   "pygments_lexer": "ipython3",
   "version": "3.11.5"
  }
 },
 "nbformat": 4,
 "nbformat_minor": 4
}
