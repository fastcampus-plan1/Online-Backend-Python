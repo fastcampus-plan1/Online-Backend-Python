{
 "cells": [
  {
   "cell_type": "code",
   "execution_count": 3,
   "metadata": {},
   "outputs": [
    {
     "name": "stdout",
     "output_type": "stream",
     "text": [
      "12\n"
     ]
    }
   ],
   "source": [
    "a = 1+11\n",
    "print(a)"
   ]
  },
  {
   "cell_type": "code",
   "execution_count": 2,
   "metadata": {},
   "outputs": [
    {
     "name": "stdout",
     "output_type": "stream",
     "text": [
      "499500\n"
     ]
    }
   ],
   "source": [
    "a = 0\n",
    "for i in range(1000):\n",
    "    a += i\n",
    "\n",
    "print(a)\n"
   ]
  },
  {
   "cell_type": "markdown",
   "metadata": {},
   "source": [
    "# Hello\n",
    "\n",
    "This is a manual."
   ]
  },
  {
   "cell_type": "code",
   "execution_count": 1,
   "metadata": {},
   "outputs": [
    {
     "data": {
      "application/json": {
       "cell": {
        "!": "OSMagics",
        "HTML": "Other",
        "SVG": "Other",
        "bash": "Other",
        "capture": "ExecutionMagics",
        "code_wrap": "ExecutionMagics",
        "debug": "ExecutionMagics",
        "file": "Other",
        "html": "DisplayMagics",
        "javascript": "DisplayMagics",
        "js": "DisplayMagics",
        "latex": "DisplayMagics",
        "markdown": "DisplayMagics",
        "perl": "Other",
        "prun": "ExecutionMagics",
        "pypy": "Other",
        "python": "Other",
        "python2": "Other",
        "python3": "Other",
        "ruby": "Other",
        "script": "ScriptMagics",
        "sh": "Other",
        "svg": "DisplayMagics",
        "sx": "OSMagics",
        "system": "OSMagics",
        "time": "ExecutionMagics",
        "timeit": "ExecutionMagics",
        "writefile": "OSMagics"
       },
       "line": {
        "alias": "OSMagics",
        "alias_magic": "BasicMagics",
        "autoawait": "AsyncMagics",
        "autocall": "AutoMagics",
        "automagic": "AutoMagics",
        "autosave": "KernelMagics",
        "bookmark": "OSMagics",
        "cat": "Other",
        "cd": "OSMagics",
        "clear": "KernelMagics",
        "code_wrap": "ExecutionMagics",
        "colors": "BasicMagics",
        "conda": "PackagingMagics",
        "config": "ConfigMagics",
        "connect_info": "KernelMagics",
        "cp": "Other",
        "debug": "ExecutionMagics",
        "dhist": "OSMagics",
        "dirs": "OSMagics",
        "doctest_mode": "BasicMagics",
        "ed": "Other",
        "edit": "KernelMagics",
        "env": "OSMagics",
        "gui": "BasicMagics",
        "hist": "Other",
        "history": "HistoryMagics",
        "killbgscripts": "ScriptMagics",
        "ldir": "Other",
        "less": "KernelMagics",
        "lf": "Other",
        "lk": "Other",
        "ll": "Other",
        "load": "CodeMagics",
        "load_ext": "ExtensionMagics",
        "loadpy": "CodeMagics",
        "logoff": "LoggingMagics",
        "logon": "LoggingMagics",
        "logstart": "LoggingMagics",
        "logstate": "LoggingMagics",
        "logstop": "LoggingMagics",
        "ls": "Other",
        "lsmagic": "BasicMagics",
        "lx": "Other",
        "macro": "ExecutionMagics",
        "magic": "BasicMagics",
        "mamba": "PackagingMagics",
        "man": "KernelMagics",
        "matplotlib": "PylabMagics",
        "micromamba": "PackagingMagics",
        "mkdir": "Other",
        "more": "KernelMagics",
        "mv": "Other",
        "notebook": "BasicMagics",
        "page": "BasicMagics",
        "pastebin": "CodeMagics",
        "pdb": "ExecutionMagics",
        "pdef": "NamespaceMagics",
        "pdoc": "NamespaceMagics",
        "pfile": "NamespaceMagics",
        "pinfo": "NamespaceMagics",
        "pinfo2": "NamespaceMagics",
        "pip": "PackagingMagics",
        "popd": "OSMagics",
        "pprint": "BasicMagics",
        "precision": "BasicMagics",
        "prun": "ExecutionMagics",
        "psearch": "NamespaceMagics",
        "psource": "NamespaceMagics",
        "pushd": "OSMagics",
        "pwd": "OSMagics",
        "pycat": "OSMagics",
        "pylab": "PylabMagics",
        "qtconsole": "KernelMagics",
        "quickref": "BasicMagics",
        "recall": "HistoryMagics",
        "rehashx": "OSMagics",
        "reload_ext": "ExtensionMagics",
        "rep": "Other",
        "rerun": "HistoryMagics",
        "reset": "NamespaceMagics",
        "reset_selective": "NamespaceMagics",
        "rm": "Other",
        "rmdir": "Other",
        "run": "ExecutionMagics",
        "save": "CodeMagics",
        "sc": "OSMagics",
        "set_env": "OSMagics",
        "store": "StoreMagics",
        "sx": "OSMagics",
        "system": "OSMagics",
        "tb": "ExecutionMagics",
        "time": "ExecutionMagics",
        "timeit": "ExecutionMagics",
        "unalias": "OSMagics",
        "unload_ext": "ExtensionMagics",
        "who": "NamespaceMagics",
        "who_ls": "NamespaceMagics",
        "whos": "NamespaceMagics",
        "xdel": "NamespaceMagics",
        "xmode": "BasicMagics"
       }
      },
      "text/plain": [
       "Available line magics:\n",
       "%alias  %alias_magic  %autoawait  %autocall  %automagic  %autosave  %bookmark  %cat  %cd  %clear  %code_wrap  %colors  %conda  %config  %connect_info  %cp  %debug  %dhist  %dirs  %doctest_mode  %ed  %edit  %env  %gui  %hist  %history  %killbgscripts  %ldir  %less  %lf  %lk  %ll  %load  %load_ext  %loadpy  %logoff  %logon  %logstart  %logstate  %logstop  %ls  %lsmagic  %lx  %macro  %magic  %mamba  %man  %matplotlib  %micromamba  %mkdir  %more  %mv  %notebook  %page  %pastebin  %pdb  %pdef  %pdoc  %pfile  %pinfo  %pinfo2  %pip  %popd  %pprint  %precision  %prun  %psearch  %psource  %pushd  %pwd  %pycat  %pylab  %qtconsole  %quickref  %recall  %rehashx  %reload_ext  %rep  %rerun  %reset  %reset_selective  %rm  %rmdir  %run  %save  %sc  %set_env  %store  %sx  %system  %tb  %time  %timeit  %unalias  %unload_ext  %who  %who_ls  %whos  %xdel  %xmode\n",
       "\n",
       "Available cell magics:\n",
       "%%!  %%HTML  %%SVG  %%bash  %%capture  %%code_wrap  %%debug  %%file  %%html  %%javascript  %%js  %%latex  %%markdown  %%perl  %%prun  %%pypy  %%python  %%python2  %%python3  %%ruby  %%script  %%sh  %%svg  %%sx  %%system  %%time  %%timeit  %%writefile\n",
       "\n",
       "Automagic is ON, % prefix IS NOT needed for line magics."
      ]
     },
     "execution_count": 1,
     "metadata": {},
     "output_type": "execute_result"
    }
   ],
   "source": [
    "%lsmagic"
   ]
  },
  {
   "cell_type": "code",
   "execution_count": 2,
   "metadata": {},
   "outputs": [
    {
     "data": {
      "text/plain": [
       "'/Users/ryan/Online-Backend-Python'"
      ]
     },
     "execution_count": 2,
     "metadata": {},
     "output_type": "execute_result"
    }
   ],
   "source": [
    "%pwd"
   ]
  },
  {
   "cell_type": "code",
   "execution_count": 4,
   "metadata": {},
   "outputs": [
    {
     "name": "stdout",
     "output_type": "stream",
     "text": [
      "Writing example.py\n"
     ]
    }
   ],
   "source": [
    "%%writefile example.py\n",
    "def example_func(s):\n",
    "    print(\"this is an example func.\", s)"
   ]
  },
  {
   "cell_type": "code",
   "execution_count": 5,
   "metadata": {},
   "outputs": [],
   "source": [
    "# %load example.py\n",
    "def example_func(s):\n",
    "    print(\"this is an example func.\", s)\n"
   ]
  },
  {
   "cell_type": "code",
   "execution_count": 6,
   "metadata": {},
   "outputs": [
    {
     "name": "stdout",
     "output_type": "stream",
     "text": [
      "this is an example func. hello\n"
     ]
    }
   ],
   "source": [
    "import example\n",
    "example.example_func(\"hello\")"
   ]
  },
  {
   "cell_type": "code",
   "execution_count": 8,
   "metadata": {},
   "outputs": [
    {
     "name": "stderr",
     "output_type": "stream",
     "text": [
      "UsageError: %%timeit is a cell magic, but the cell body is empty. Did you mean the line magic %timeit (single %)?\n"
     ]
    }
   ],
   "source": [
    "%%timeit"
   ]
  },
  {
   "cell_type": "code",
   "execution_count": 9,
   "metadata": {},
   "outputs": [
    {
     "name": "stdout",
     "output_type": "stream",
     "text": [
      "1.71 µs ± 23.3 ns per loop (mean ± std. dev. of 7 runs, 1,000,000 loops each)\n"
     ]
    }
   ],
   "source": [
    "%%timeit\n",
    "a = 0\n",
    "for i in range(100):\n",
    "    a += i"
   ]
  },
  {
   "cell_type": "code",
   "execution_count": 10,
   "metadata": {},
   "outputs": [
    {
     "name": "stdout",
     "output_type": "stream",
     "text": [
      "CPU times: user 21 µs, sys: 1 µs, total: 22 µs\n",
      "Wall time: 25 µs\n"
     ]
    }
   ],
   "source": [
    "%%time\n",
    "a = 0\n",
    "for i in range(100):\n",
    "    a += i"
   ]
  },
  {
   "cell_type": "code",
   "execution_count": 11,
   "metadata": {},
   "outputs": [
    {
     "name": "stdout",
     "output_type": "stream",
     "text": [
      "5.88 µs ± 1.86 µs per loop (mean ± std. dev. of 7 runs, 10 loops each)\n"
     ]
    }
   ],
   "source": [
    "%%timeit -n 10\n",
    "\n",
    "a = 0\n",
    "for i in range(100):\n",
    "    a += i"
   ]
  },
  {
   "cell_type": "code",
   "execution_count": 12,
   "metadata": {},
   "outputs": [
    {
     "data": {
      "text/html": [
       "<div style=\"color: blue\">안녕하세요</div>\n"
      ],
      "text/plain": [
       "<IPython.core.display.HTML object>"
      ]
     },
     "metadata": {},
     "output_type": "display_data"
    }
   ],
   "source": [
    "%%html\n",
    "<div style=\"color: blue\">안녕하세요</div>"
   ]
  },
  {
   "cell_type": "code",
   "execution_count": 3,
   "metadata": {},
   "outputs": [
    {
     "data": {
      "text/plain": [
       "'<li class=\"PlaceItem clickArea\">\\n    <div data-id=\"btnsWrap\" class=\"utile_item\">\\n        <span data-id=\"screenOutName\" class=\"screen_out\">노티드 청담</span>\\n        <a href=\"#none\" data-id=\"fav\" class=\"fav\">\\n            <span class=\"ico_fav\">즐겨찾기</span><span class=\"num\"></span>\\n        </a>\\n        <a href=\"#none\" data-id=\"roadview\" class=\"roadview\">로드뷰</a>\\n        <button data-id=\"routeBtn\" type=\"button\" class=\"DirectionItemInfoBtn\">길찾기</button>\\n    <div class=\"FlagItemInfoLayer HIDDEN\">\\n\\t<div data-id=\"origin\" class=\"origin\">출발</div>\\n\\t<div data-id=\"via\" class=\"via\">경유</div>\\n\\t<div data-id=\"dest\" class=\"dest\">도착</div>\\n</div></div>\\n    <div class=\"thumb_item HIDDEN\">\\n        <img data-id=\"image\" src=\"\" width=\"70\" height=\"70\" class=\"thumb_g HIDDEN\" alt=\"\">\\n    </div>\\n    <div class=\"head_item clickArea\">\\n        <strong class=\"tit_name\">\\n            <a href=\"#none\" data-id=\"icon\" class=\"link_order clickArea\">A</a>\\n            <a href=\"#none\" data-id=\"name\" class=\"link_name\" title=\"노티드 청담\">노티드 청담</a>\\n        </strong>\\n        <span data-id=\"subcategory\" class=\"subcategory clickable\">디저트카페</span>\\n    </div>\\n    <div data-id=\"rating\" class=\"rating clickArea\">\\n        <span data-id=\"score\" class=\"score\">\\n            <span class=\"screen_out\">별점</span>\\n            <em data-id=\"scoreNum\" class=\"num\" title=\"3.8점\">3.8</em>\\n            <span class=\"backgroundStar\">\\n                <span data-id=\"star\" class=\"star\" style=\"width: 51.68px;\"></span>\\n            </span>\\n            <a href=\"https://place.map.kakao.com/348276052#comment\" data-id=\"numberofscore\" class=\"numberofscore\" target=\"_blank\">362건</a>\\n        </span>\\n        <span data-id=\"scoreBlind\" class=\"txt_blind HIDDEN\"><span class=\"ico_noti\"></span>후기 미제공</span>\\n        <span data-id=\"scoreGroove\" class=\"groove\"></span>\\n        <a href=\"https://place.map.kakao.com/348276052#review\" data-id=\"review\" class=\"review\" target=\"_blank\">리뷰 <em data-id=\"numberofreview\">1,908</em></a>\\n        <span data-id=\"tvshowInfo\" class=\"tvinfolabel\">tv소개</span>\\n    </div>\\n    <div class=\"info_item\">\\n        <div data-id=\"wrapCourseInfo\" class=\"wrapCourseInfo HIDDEN\"></div>\\n        <div data-id=\"wrapAddress\" class=\"addr\">\\n            <p data-id=\"address\" title=\"서울 강남구 도산대로53길 15 1층\">서울 강남구 도산대로53길 15 1층</p>\\n            <p data-id=\"otherAddr\" class=\"lot_number\" title=\"신사동 654-9\">(지번) 신사동 654-9</p>\\n        </div>\\n        <p data-id=\"gasinfo\" class=\"gasinfo HIDDEN\"></p>\\n        <p data-id=\"realEstates\" class=\"realEstates HIDDEN\"></p>\\n        <div data-id=\"openhour\" class=\"openhour\">\\n            <p data-id=\"periodWarp\" class=\"periodWarp\">\\n                <span data-id=\"periodStatus\" class=\"openhourTitle\">금일영업마감</span>\\n                <a data-id=\"periodTxt\" href=\"https://place.map.kakao.com/348276052?openhour=1\" target=\"_blank\">영업시간 매일 09:00 ~ 21:00</a>\\n            </p>\\n        </div>\\n        <div class=\"contact clickArea\">\\n            <span data-id=\"phone\" class=\"phone\">1800-6067</span><span class=\"ICON-middot\"></span>\\n            <a href=\"https://place.map.kakao.com/348276052\" data-id=\"moreview\" class=\"moreview\" target=\"_blank\">상세보기</a>\\n            <span class=\"ICON-middot\"></span><a href=\"https://knotted-order.com/\" data-id=\"homepage\" class=\"homepage\" target=\"_blank\">홈페이지</a>\\n            <a href=\"#none\" data-id=\"storeview\" class=\"storeview HIDDEN\">스토어뷰</a>\\n            <a href=\"#none\" data-id=\"intercity\" class=\"intercity HIDDEN\">실시간예매</a>\\n        </div>\\n    </div>\\n</li><li class=\"PlaceItem clickArea\">\\n    <div data-id=\"btnsWrap\" class=\"utile_item\">\\n        <span data-id=\"screenOutName\" class=\"screen_out\">꽁티드툴레아 도산점</span>\\n        <a href=\"#none\" data-id=\"fav\" class=\"fav\">\\n            <span class=\"ico_fav\">즐겨찾기</span><span class=\"num\"></span>\\n        </a>\\n        <a href=\"#none\" data-id=\"roadview\" class=\"roadview\">로드뷰</a>\\n        <button data-id=\"routeBtn\" type=\"button\" class=\"DirectionItemInfoBtn\">길찾기</button>\\n    <div class=\"FlagItemInfoLayer HIDDEN\">\\n\\t<div data-id=\"origin\" class=\"origin\">출발</div>\\n\\t<div data-id=\"via\" class=\"via\">경유</div>\\n\\t<div data-id=\"dest\" class=\"dest\">도착</div>\\n</div></div>\\n    <div class=\"thumb_item HIDDEN\">\\n        <img data-id=\"image\" src=\"\" width=\"70\" height=\"70\" class=\"thumb_g HIDDEN\" alt=\"\">\\n    </div>\\n    <div class=\"head_item clickArea\">\\n        <strong class=\"tit_name\">\\n            <a href=\"#none\" data-id=\"icon\" class=\"link_order clickArea\">B</a>\\n            <a href=\"#none\" data-id=\"name\" class=\"link_name\" title=\"꽁티드툴레아 도산점\">꽁티드툴레아 도산점</a>\\n        </strong>\\n        <span data-id=\"subcategory\" class=\"subcategory clickable\">디저트카페</span>\\n    </div>\\n    <div data-id=\"rating\" class=\"rating clickArea\">\\n        <span data-id=\"score\" class=\"score\">\\n            <span class=\"screen_out\">별점</span>\\n            <em data-id=\"scoreNum\" class=\"num\" title=\"3.3점\">3.3</em>\\n            <span class=\"backgroundStar\">\\n                <span data-id=\"star\" class=\"star\" style=\"width: 44.88px;\"></span>\\n            </span>\\n            <a href=\"https://place.map.kakao.com/179244712#comment\" data-id=\"numberofscore\" class=\"numberofscore\" target=\"_blank\">150건</a>\\n        </span>\\n        <span data-id=\"scoreBlind\" class=\"txt_blind HIDDEN\"><span class=\"ico_noti\"></span>후기 미제공</span>\\n        <span data-id=\"scoreGroove\" class=\"groove\"></span>\\n        <a href=\"https://place.map.kakao.com/179244712#review\" data-id=\"review\" class=\"review\" target=\"_blank\">리뷰 <em data-id=\"numberofreview\">922</em></a>\\n        <span data-id=\"tvshowInfo\" class=\"tvinfolabel\">tv소개</span>\\n    </div>\\n    <div class=\"info_item\">\\n        <div data-id=\"wrapCourseInfo\" class=\"wrapCourseInfo HIDDEN\"></div>\\n        <div data-id=\"wrapAddress\" class=\"addr\">\\n            <p data-id=\"address\" title=\"서울 강남구 도산대로49길 39 1층\">서울 강남구 도산대로49길 39 1층</p>\\n            <p data-id=\"otherAddr\" class=\"lot_number\" title=\"신사동 646-21\">(지번) 신사동 646-21</p>\\n        </div>\\n        <p data-id=\"gasinfo\" class=\"gasinfo HIDDEN\"></p>\\n        <p data-id=\"realEstates\" class=\"realEstates HIDDEN\"></p>\\n        <div data-id=\"openhour\" class=\"openhour\">\\n            <p data-id=\"periodWarp\" class=\"periodWarp\">\\n                <span data-id=\"periodStatus\" class=\"openhourTitle\">영업중</span>\\n                <a data-id=\"periodTxt\" href=\"https://place.map.kakao.com/179244712?openhour=1\" target=\"_blank\">월~토 11:00 ~ 24:00</a>\\n            </p>\\n        </div>\\n        <div class=\"contact clickArea\">\\n            <span data-id=\"phone\" class=\"phone\">070-8846-8490</span><span class=\"ICON-middot\"></span>\\n            <a href=\"https://place.map.kakao.com/179244712\" data-id=\"moreview\" class=\"moreview\" target=\"_blank\">상세보기</a>\\n            <span class=\"ICON-middot\"></span><a href=\"https://www.instagram.com/tulear_seoul\" data-id=\"homepage\" class=\"homepage\" target=\"_blank\">홈페이지</a>\\n            <a href=\"#none\" data-id=\"storeview\" class=\"storeview HIDDEN\">스토어뷰</a>\\n            <a href=\"#none\" data-id=\"intercity\" class=\"intercity HIDDEN\">실시간예매</a>\\n        </div>\\n    </div>\\n</li><li class=\"PlaceItem clickArea\">\\n    <div data-id=\"btnsWrap\" class=\"utile_item\">\\n        <span data-id=\"screenOutName\" class=\"screen_out\">알베르</span>\\n        <a href=\"#none\" data-id=\"fav\" class=\"fav\">\\n            <span class=\"ico_fav\">즐겨찾기</span><span class=\"num\"></span>\\n        </a>\\n        <a href=\"#none\" data-id=\"roadview\" class=\"roadview\">로드뷰</a>\\n        <button data-id=\"routeBtn\" type=\"button\" class=\"DirectionItemInfoBtn\">길찾기</button>\\n    <div class=\"FlagItemInfoLayer HIDDEN\">\\n\\t<div data-id=\"origin\" class=\"origin\">출발</div>\\n\\t<div data-id=\"via\" class=\"via\">경유</div>\\n\\t<div data-id=\"dest\" class=\"dest\">도착</div>\\n</div></div>\\n    <div class=\"thumb_item HIDDEN\">\\n        <img data-id=\"image\" src=\"\" width=\"70\" height=\"70\" class=\"thumb_g HIDDEN\" alt=\"\">\\n    </div>\\n    <div class=\"head_item clickArea\">\\n        <strong class=\"tit_name\">\\n            <a href=\"#none\" data-id=\"icon\" class=\"link_order clickArea\">C</a>\\n            <a href=\"#none\" data-id=\"name\" class=\"link_name\" title=\"알베르\">알베르</a>\\n        </strong>\\n        <span data-id=\"subcategory\" class=\"subcategory clickable\">카페</span>\\n    </div>\\n    <div data-id=\"rating\" class=\"rating clickArea\">\\n        <span data-id=\"score\" class=\"score\">\\n            <span class=\"screen_out\">별점</span>\\n            <em data-id=\"scoreNum\" class=\"num\" title=\"3.1점\">3.1</em>\\n            <span class=\"backgroundStar\">\\n                <span data-id=\"star\" class=\"star\" style=\"width: 42.16px;\"></span>\\n            </span>\\n            <a href=\"https://place.map.kakao.com/22837049#comment\" data-id=\"numberofscore\" class=\"numberofscore\" target=\"_blank\">233건</a>\\n        </span>\\n        <span data-id=\"scoreBlind\" class=\"txt_blind HIDDEN\"><span class=\"ico_noti\"></span>후기 미제공</span>\\n        <span data-id=\"scoreGroove\" class=\"groove\"></span>\\n        <a href=\"https://place.map.kakao.com/22837049#review\" data-id=\"review\" class=\"review\" target=\"_blank\">리뷰 <em data-id=\"numberofreview\">635</em></a>\\n        <span data-id=\"tvshowInfo\" class=\"tvinfolabel HIDDEN\">tv소개</span>\\n    </div>\\n    <div class=\"info_item\">\\n        <div data-id=\"wrapCourseInfo\" class=\"wrapCourseInfo HIDDEN\"></div>\\n        <div data-id=\"wrapAddress\" class=\"addr\">\\n            <p data-id=\"address\" title=\"서울 강남구 강남대로102길 34\">서울 강남구 강남대로102길 34</p>\\n            <p data-id=\"otherAddr\" class=\"lot_number\" title=\"역삼동 618-11\">(지번) 역삼동 618-11</p>\\n        </div>\\n        <p data-id=\"gasinfo\" class=\"gasinfo HIDDEN\"></p>\\n        <p data-id=\"realEstates\" class=\"realEstates HIDDEN\"></p>\\n        <div data-id=\"openhour\" class=\"openhour\">\\n            <p data-id=\"periodWarp\" class=\"periodWarp\">\\n                <span data-id=\"periodStatus\" class=\"openhourTitle\">영업중</span>\\n                <a data-id=\"periodTxt\" href=\"https://place.map.kakao.com/22837049?openhour=1\" target=\"_blank\">매일 10:00 ~ 23:00</a>\\n            </p>\\n        </div>\\n        <div class=\"contact clickArea\">\\n            <span data-id=\"phone\" class=\"phone\">02-566-6181</span><span class=\"ICON-middot\"></span>\\n            <a href=\"https://place.map.kakao.com/22837049\" data-id=\"moreview\" class=\"moreview\" target=\"_blank\">상세보기</a>\\n            <a href=\"#none\" data-id=\"homepage\" class=\"homepage HIDDEN\" target=\"_blank\">홈페이지</a>\\n            <a href=\"#none\" data-id=\"storeview\" class=\"storeview HIDDEN\">스토어뷰</a>\\n            <a href=\"#none\" data-id=\"intercity\" class=\"intercity HIDDEN\">실시간예매</a>\\n        </div>\\n    </div>\\n</li><li class=\"PlaceItem clickArea\">\\n    <div data-id=\"btnsWrap\" class=\"utile_item\">\\n        <span data-id=\"screenOutName\" class=\"screen_out\">블루보틀 역삼 카페</span>\\n        <a href=\"#none\" data-id=\"fav\" class=\"fav\">\\n            <span class=\"ico_fav\">즐겨찾기</span><span class=\"num\"></span>\\n        </a>\\n        <a href=\"#none\" data-id=\"roadview\" class=\"roadview\">로드뷰</a>\\n        <button data-id=\"routeBtn\" type=\"button\" class=\"DirectionItemInfoBtn\">길찾기</button>\\n    <div class=\"FlagItemInfoLayer HIDDEN\">\\n\\t<div data-id=\"origin\" class=\"origin\">출발</div>\\n\\t<div data-id=\"via\" class=\"via\">경유</div>\\n\\t<div data-id=\"dest\" class=\"dest\">도착</div>\\n</div></div>\\n    <div class=\"thumb_item HIDDEN\">\\n        <img data-id=\"image\" src=\"\" width=\"70\" height=\"70\" class=\"thumb_g HIDDEN\" alt=\"\">\\n    </div>\\n    <div class=\"head_item clickArea\">\\n        <strong class=\"tit_name\">\\n            <a href=\"#none\" data-id=\"icon\" class=\"link_order clickArea\">D</a>\\n            <a href=\"#none\" data-id=\"name\" class=\"link_name\" title=\"블루보틀 역삼 카페\">블루보틀 역삼 <strong>카페</strong></a>\\n        </strong>\\n        <span data-id=\"subcategory\" class=\"subcategory clickable\">카페</span>\\n    </div>\\n    <div data-id=\"rating\" class=\"rating clickArea\">\\n        <span data-id=\"score\" class=\"score\">\\n            <span class=\"screen_out\">별점</span>\\n            <em data-id=\"scoreNum\" class=\"num\" title=\"3.8점\">3.8</em>\\n            <span class=\"backgroundStar\">\\n                <span data-id=\"star\" class=\"star\" style=\"width: 51.68px;\"></span>\\n            </span>\\n            <a href=\"https://place.map.kakao.com/495658881#comment\" data-id=\"numberofscore\" class=\"numberofscore\" target=\"_blank\">119건</a>\\n        </span>\\n        <span data-id=\"scoreBlind\" class=\"txt_blind HIDDEN\"><span class=\"ico_noti\"></span>후기 미제공</span>\\n        <span data-id=\"scoreGroove\" class=\"groove\"></span>\\n        <a href=\"https://place.map.kakao.com/495658881#review\" data-id=\"review\" class=\"review\" target=\"_blank\">리뷰 <em data-id=\"numberofreview\">315</em></a>\\n        <span data-id=\"tvshowInfo\" class=\"tvinfolabel HIDDEN\">tv소개</span>\\n    </div>\\n    <div class=\"info_item\">\\n        <div data-id=\"wrapCourseInfo\" class=\"wrapCourseInfo HIDDEN\"></div>\\n        <div data-id=\"wrapAddress\" class=\"addr\">\\n            <p data-id=\"address\" title=\"서울 강남구 테헤란로 129 강남N타워 1층\">서울 강남구 테헤란로 129 강남N타워 1층</p>\\n            <p data-id=\"otherAddr\" class=\"lot_number\" title=\"역삼동 648-9\">(지번) 역삼동 648-9</p>\\n        </div>\\n        <p data-id=\"gasinfo\" class=\"gasinfo HIDDEN\"></p>\\n        <p data-id=\"realEstates\" class=\"realEstates HIDDEN\"></p>\\n        <div data-id=\"openhour\" class=\"openhour\">\\n            <p data-id=\"periodWarp\" class=\"periodWarp\">\\n                <span data-id=\"periodStatus\" class=\"openhourTitle\">금일영업마감</span>\\n                <a data-id=\"periodTxt\" href=\"https://place.map.kakao.com/495658881?openhour=1\" target=\"_blank\">영업시간 매일 08:00 ~ 20:30</a>\\n            </p>\\n        </div>\\n        <div class=\"contact clickArea\">\\n            <span data-id=\"phone\" class=\"phone\">1533-6906</span><span class=\"ICON-middot\"></span>\\n            <a href=\"https://place.map.kakao.com/495658881\" data-id=\"moreview\" class=\"moreview\" target=\"_blank\">상세보기</a>\\n            <span class=\"ICON-middot\"></span><a href=\"https://www.bluebottlecoffeekorea.com/\" data-id=\"homepage\" class=\"homepage\" target=\"_blank\">홈페이지</a>\\n            <a href=\"#none\" data-id=\"storeview\" class=\"storeview HIDDEN\">스토어뷰</a>\\n            <a href=\"#none\" data-id=\"intercity\" class=\"intercity HIDDEN\">실시간예매</a>\\n        </div>\\n    </div>\\n</li><li class=\"PlaceItem clickArea\">\\n    <div data-id=\"btnsWrap\" class=\"utile_item\">\\n        <span data-id=\"screenOutName\" class=\"screen_out\">마일스톤커피</span>\\n        <a href=\"#none\" data-id=\"fav\" class=\"fav\">\\n            <span class=\"ico_fav\">즐겨찾기</span><span class=\"num\"></span>\\n        </a>\\n        <a href=\"#none\" data-id=\"roadview\" class=\"roadview\">로드뷰</a>\\n        <button data-id=\"routeBtn\" type=\"button\" class=\"DirectionItemInfoBtn\">길찾기</button>\\n    <div class=\"FlagItemInfoLayer HIDDEN\">\\n\\t<div data-id=\"origin\" class=\"origin\">출발</div>\\n\\t<div data-id=\"via\" class=\"via\">경유</div>\\n\\t<div data-id=\"dest\" class=\"dest\">도착</div>\\n</div></div>\\n    <div class=\"thumb_item HIDDEN\">\\n        <img data-id=\"image\" src=\"\" width=\"70\" height=\"70\" class=\"thumb_g HIDDEN\" alt=\"\">\\n    </div>\\n    <div class=\"head_item clickArea\">\\n        <strong class=\"tit_name\">\\n            <a href=\"#none\" data-id=\"icon\" class=\"link_order clickArea\">E</a>\\n            <a href=\"#none\" data-id=\"name\" class=\"link_name\" title=\"마일스톤커피\">마일스톤커피</a>\\n        </strong>\\n        <span data-id=\"subcategory\" class=\"subcategory clickable\">커피전문점</span>\\n    </div>\\n    <div data-id=\"rating\" class=\"rating clickArea\">\\n        <span data-id=\"score\" class=\"score\">\\n            <span class=\"screen_out\">별점</span>\\n            <em data-id=\"scoreNum\" class=\"num\" title=\"4.4점\">4.4</em>\\n            <span class=\"backgroundStar\">\\n                <span data-id=\"star\" class=\"star\" style=\"width: 59.84px;\"></span>\\n            </span>\\n            <a href=\"https://place.map.kakao.com/22549791#comment\" data-id=\"numberofscore\" class=\"numberofscore\" target=\"_blank\">236건</a>\\n        </span>\\n        <span data-id=\"scoreBlind\" class=\"txt_blind HIDDEN\"><span class=\"ico_noti\"></span>후기 미제공</span>\\n        <span data-id=\"scoreGroove\" class=\"groove\"></span>\\n        <a href=\"https://place.map.kakao.com/22549791#review\" data-id=\"review\" class=\"review\" target=\"_blank\">리뷰 <em data-id=\"numberofreview\">861</em></a>\\n        <span data-id=\"tvshowInfo\" class=\"tvinfolabel HIDDEN\">tv소개</span>\\n    </div>\\n    <div class=\"info_item\">\\n        <div data-id=\"wrapCourseInfo\" class=\"wrapCourseInfo HIDDEN\"></div>\\n        <div data-id=\"wrapAddress\" class=\"addr\">\\n            <p data-id=\"address\" title=\"서울 강남구 논현로159길 49 1층\">서울 강남구 논현로159길 49 1층</p>\\n            <p data-id=\"otherAddr\" class=\"lot_number\" title=\"신사동 554-4\">(지번) 신사동 554-4</p>\\n        </div>\\n        <p data-id=\"gasinfo\" class=\"gasinfo HIDDEN\"></p>\\n        <p data-id=\"realEstates\" class=\"realEstates HIDDEN\"></p>\\n        <div data-id=\"openhour\" class=\"openhour\">\\n            <p data-id=\"periodWarp\" class=\"periodWarp\">\\n                <span data-id=\"periodStatus\" class=\"openhourTitle\">금일영업마감</span>\\n                <a data-id=\"periodTxt\" href=\"https://place.map.kakao.com/22549791?openhour=1\" target=\"_blank\">영업시간 매일 10:00 ~ 21:00</a>\\n            </p>\\n        </div>\\n        <div class=\"contact clickArea\">\\n            <span data-id=\"phone\" class=\"phone\">070-4219-1195</span><span class=\"ICON-middot\"></span>\\n            <a href=\"https://place.map.kakao.com/22549791\" data-id=\"moreview\" class=\"moreview\" target=\"_blank\">상세보기</a>\\n            <span class=\"ICON-middot\"></span><a href=\"https://www.instagram.com/milestone_coffee/\" data-id=\"homepage\" class=\"homepage\" target=\"_blank\">홈페이지</a>\\n            <a href=\"#none\" data-id=\"storeview\" class=\"storeview HIDDEN\">스토어뷰</a>\\n            <a href=\"#none\" data-id=\"intercity\" class=\"intercity HIDDEN\">실시간예매</a>\\n        </div>\\n    </div>\\n</li>'"
      ]
     },
     "execution_count": 3,
     "metadata": {},
     "output_type": "execute_result"
    }
   ],
   "source": [
    "from selenium_crawler.kakaomap_scrap import get_data_from_kakaomap\n",
    "get_data_from_kakaomap()"
   ]
  },
  {
   "cell_type": "code",
   "execution_count": null,
   "metadata": {},
   "outputs": [],
   "source": []
  }
 ],
 "metadata": {
  "kernelspec": {
   "display_name": "Python 3 (ipykernel)",
   "language": "python",
   "name": "python3"
  },
  "language_info": {
   "codemirror_mode": {
    "name": "ipython",
    "version": 3
   },
   "file_extension": ".py",
   "mimetype": "text/x-python",
   "name": "python",
   "nbconvert_exporter": "python",
   "pygments_lexer": "ipython3",
   "version": "3.11.5"
  }
 },
 "nbformat": 4,
 "nbformat_minor": 4
}
