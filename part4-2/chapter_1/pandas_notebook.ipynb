{
 "cells": [
  {
   "cell_type": "code",
   "execution_count": 2,
   "id": "59d0dd55-3145-4284-87fa-a5aa83616e3d",
   "metadata": {},
   "outputs": [
    {
     "data": {
      "text/plain": [
       "age\n",
       "18.0     5\n",
       "19.0    10\n",
       "20.0     7\n",
       "21.0    13\n",
       "22.0    11\n",
       "23.0    11\n",
       "24.0    10\n",
       "25.0     9\n",
       "26.0     9\n",
       "27.0    10\n",
       "28.0    11\n",
       "29.0    10\n",
       "30.0     4\n",
       "31.0    11\n",
       "32.0     4\n",
       "33.0     3\n",
       "34.0    11\n",
       "35.0     2\n",
       "36.0    11\n",
       "37.0    10\n",
       "38.0     6\n",
       "39.0     7\n",
       "40.0     8\n",
       "41.0     8\n",
       "42.0     7\n",
       "43.0    14\n",
       "44.0     9\n",
       "45.0     8\n",
       "46.0    10\n",
       "47.0    12\n",
       "48.0    14\n",
       "49.0     5\n",
       "50.0     9\n",
       "51.0     6\n",
       "52.0    13\n",
       "53.0    14\n",
       "54.0    10\n",
       "55.0     5\n",
       "56.0     8\n",
       "57.0    13\n",
       "58.0     7\n",
       "59.0    15\n",
       "60.0     7\n",
       "61.0    10\n",
       "62.0     8\n",
       "63.0    10\n",
       "64.0     8\n",
       "65.0     7\n",
       "66.0     9\n",
       "67.0     5\n",
       "68.0    14\n",
       "69.0    10\n",
       "70.0    10\n",
       "Name: customer_id, dtype: int64"
      ]
     },
     "execution_count": 2,
     "metadata": {},
     "output_type": "execute_result"
    }
   ],
   "source": [
    "import pandas as pd\n",
    "\n",
    "df = pd.read_csv(\"csv_files/combined_customers.csv\")\n",
    "df.groupby(\"age\")[\"customer_id\"].count()"
   ]
  },
  {
   "cell_type": "code",
   "execution_count": 3,
   "id": "d0494d79-8077-40a6-b688-a59e3b3c7c02",
   "metadata": {},
   "outputs": [
    {
     "name": "stdout",
     "output_type": "stream",
     "text": [
      "<class 'pandas.core.frame.DataFrame'>\n",
      "RangeIndex: 500 entries, 0 to 499\n",
      "Data columns (total 5 columns):\n",
      " #   Column       Non-Null Count  Dtype  \n",
      "---  ------       --------------  -----  \n",
      " 0   customer_id  500 non-null    int64  \n",
      " 1   name         500 non-null    object \n",
      " 2   age          478 non-null    float64\n",
      " 3   email        478 non-null    object \n",
      " 4   join_date    500 non-null    object \n",
      "dtypes: float64(1), int64(1), object(3)\n",
      "memory usage: 19.7+ KB\n"
     ]
    }
   ],
   "source": [
    "import pandas as pd\n",
    "\n",
    "df = pd.read_csv(\"csv_files/combined_customers.csv\")\n",
    "df.info()"
   ]
  },
  {
   "cell_type": "code",
   "execution_count": 5,
   "id": "568555ff-7567-4b22-b93f-d0fda35650c5",
   "metadata": {},
   "outputs": [
    {
     "data": {
      "text/plain": [
       "45.5"
      ]
     },
     "execution_count": 5,
     "metadata": {},
     "output_type": "execute_result"
    }
   ],
   "source": [
    "import pandas as pd\n",
    "\n",
    "df = pd.read_csv(\"csv_files/combined_customers.csv\")\n",
    "df[\"age\"].median()"
   ]
  },
  {
   "cell_type": "code",
   "execution_count": 6,
   "id": "996b8ba1-47d0-40d6-b174-5401770b8511",
   "metadata": {},
   "outputs": [
    {
     "data": {
      "text/plain": [
       "70.0"
      ]
     },
     "execution_count": 6,
     "metadata": {},
     "output_type": "execute_result"
    }
   ],
   "source": [
    "import pandas as pd\n",
    "\n",
    "df = pd.read_csv(\"csv_files/combined_customers.csv\")\n",
    "df[\"age\"].max()"
   ]
  },
  {
   "cell_type": "code",
   "execution_count": 7,
   "id": "5d5e2926-cbbb-457f-bf88-096ed43ec779",
   "metadata": {},
   "outputs": [
    {
     "data": {
      "text/plain": [
       "18.0"
      ]
     },
     "execution_count": 7,
     "metadata": {},
     "output_type": "execute_result"
    }
   ],
   "source": [
    "import pandas as pd\n",
    "\n",
    "df = pd.read_csv(\"csv_files/combined_customers.csv\")\n",
    "df[\"age\"].min()"
   ]
  },
  {
   "cell_type": "code",
   "execution_count": 4,
   "id": "d3f8a4da-5f6d-450a-b266-ae8b6e331dc6",
   "metadata": {},
   "outputs": [
    {
     "data": {
      "text/plain": [
       "44.47280334728033"
      ]
     },
     "execution_count": 4,
     "metadata": {},
     "output_type": "execute_result"
    }
   ],
   "source": [
    "import pandas as pd\n",
    "\n",
    "df = pd.read_csv(\"csv_files/combined_customers.csv\")\n",
    "df[\"age\"].mean()"
   ]
  },
  {
   "cell_type": "code",
   "execution_count": 11,
   "id": "19e58805-fa63-4a5a-9e21-8bb375a3ebc2",
   "metadata": {},
   "outputs": [
    {
     "data": {
      "text/html": [
       "<div>\n",
       "<style scoped>\n",
       "    .dataframe tbody tr th:only-of-type {\n",
       "        vertical-align: middle;\n",
       "    }\n",
       "\n",
       "    .dataframe tbody tr th {\n",
       "        vertical-align: top;\n",
       "    }\n",
       "\n",
       "    .dataframe thead th {\n",
       "        text-align: right;\n",
       "    }\n",
       "</style>\n",
       "<table border=\"1\" class=\"dataframe\">\n",
       "  <thead>\n",
       "    <tr style=\"text-align: right;\">\n",
       "      <th></th>\n",
       "      <th>customer_id</th>\n",
       "      <th>name</th>\n",
       "      <th>email</th>\n",
       "      <th>join_date</th>\n",
       "    </tr>\n",
       "  </thead>\n",
       "  <tbody>\n",
       "    <tr>\n",
       "      <th>0</th>\n",
       "      <td>1</td>\n",
       "      <td>Customer1</td>\n",
       "      <td>customer1@example.com</td>\n",
       "      <td>2023-01-27 06:52:22.275679</td>\n",
       "    </tr>\n",
       "    <tr>\n",
       "      <th>1</th>\n",
       "      <td>2</td>\n",
       "      <td>Customer2</td>\n",
       "      <td>customer2@example.com</td>\n",
       "      <td>2023-07-15 06:52:22.275698</td>\n",
       "    </tr>\n",
       "    <tr>\n",
       "      <th>2</th>\n",
       "      <td>3</td>\n",
       "      <td>Customer3</td>\n",
       "      <td>customer3@example.com</td>\n",
       "      <td>2023-01-24 06:52:22.275704</td>\n",
       "    </tr>\n",
       "    <tr>\n",
       "      <th>3</th>\n",
       "      <td>4</td>\n",
       "      <td>Customer4</td>\n",
       "      <td>customer4@example.com</td>\n",
       "      <td>2023-03-25 06:52:22.275709</td>\n",
       "    </tr>\n",
       "    <tr>\n",
       "      <th>4</th>\n",
       "      <td>5</td>\n",
       "      <td>Customer5</td>\n",
       "      <td>customer5@example.com</td>\n",
       "      <td>2023-03-25 06:52:22.275713</td>\n",
       "    </tr>\n",
       "  </tbody>\n",
       "</table>\n",
       "</div>"
      ],
      "text/plain": [
       "   customer_id       name                  email                   join_date\n",
       "0            1  Customer1  customer1@example.com  2023-01-27 06:52:22.275679\n",
       "1            2  Customer2  customer2@example.com  2023-07-15 06:52:22.275698\n",
       "2            3  Customer3  customer3@example.com  2023-01-24 06:52:22.275704\n",
       "3            4  Customer4  customer4@example.com  2023-03-25 06:52:22.275709\n",
       "4            5  Customer5  customer5@example.com  2023-03-25 06:52:22.275713"
      ]
     },
     "execution_count": 11,
     "metadata": {},
     "output_type": "execute_result"
    }
   ],
   "source": [
    "import pandas as pd\n",
    "\n",
    "df = pd.read_csv(\"csv_files/combined_customers.csv\")\n",
    "df.drop(labels=\"age\", axis=1, inplace=True)  # inplace\n",
    "df.head()"
   ]
  },
  {
   "cell_type": "code",
   "execution_count": 14,
   "id": "53f9f632-6040-4aba-afc8-adc9992d20ff",
   "metadata": {},
   "outputs": [
    {
     "data": {
      "text/plain": [
       "0       0.0\n",
       "1       0.0\n",
       "2       0.0\n",
       "3       0.0\n",
       "4       0.0\n",
       "       ... \n",
       "495    54.0\n",
       "496    57.0\n",
       "497    68.0\n",
       "498    29.0\n",
       "499    57.0\n",
       "Name: age, Length: 500, dtype: float64"
      ]
     },
     "execution_count": 14,
     "metadata": {},
     "output_type": "execute_result"
    }
   ],
   "source": [
    "import pandas as pd\n",
    "\n",
    "df = pd.read_csv(\"csv_files/combined_customers.csv\")\n",
    "df.head()\n",
    "df[\"age\"].fillna(0)"
   ]
  },
  {
   "cell_type": "code",
   "execution_count": 20,
   "id": "2eef32f9-b651-4899-978a-0babf4040ce8",
   "metadata": {},
   "outputs": [
    {
     "data": {
      "text/html": [
       "<div>\n",
       "<style scoped>\n",
       "    .dataframe tbody tr th:only-of-type {\n",
       "        vertical-align: middle;\n",
       "    }\n",
       "\n",
       "    .dataframe tbody tr th {\n",
       "        vertical-align: top;\n",
       "    }\n",
       "\n",
       "    .dataframe thead th {\n",
       "        text-align: right;\n",
       "    }\n",
       "</style>\n",
       "<table border=\"1\" class=\"dataframe\">\n",
       "  <thead>\n",
       "    <tr style=\"text-align: right;\">\n",
       "      <th></th>\n",
       "      <th>customer_id</th>\n",
       "      <th>name</th>\n",
       "      <th>age</th>\n",
       "      <th>email</th>\n",
       "      <th>join_date</th>\n",
       "    </tr>\n",
       "  </thead>\n",
       "  <tbody>\n",
       "    <tr>\n",
       "      <th>0</th>\n",
       "      <td>False</td>\n",
       "      <td>False</td>\n",
       "      <td>True</td>\n",
       "      <td>False</td>\n",
       "      <td>False</td>\n",
       "    </tr>\n",
       "    <tr>\n",
       "      <th>1</th>\n",
       "      <td>False</td>\n",
       "      <td>False</td>\n",
       "      <td>True</td>\n",
       "      <td>False</td>\n",
       "      <td>False</td>\n",
       "    </tr>\n",
       "    <tr>\n",
       "      <th>2</th>\n",
       "      <td>False</td>\n",
       "      <td>False</td>\n",
       "      <td>True</td>\n",
       "      <td>False</td>\n",
       "      <td>False</td>\n",
       "    </tr>\n",
       "    <tr>\n",
       "      <th>3</th>\n",
       "      <td>False</td>\n",
       "      <td>False</td>\n",
       "      <td>True</td>\n",
       "      <td>False</td>\n",
       "      <td>False</td>\n",
       "    </tr>\n",
       "    <tr>\n",
       "      <th>4</th>\n",
       "      <td>False</td>\n",
       "      <td>False</td>\n",
       "      <td>True</td>\n",
       "      <td>False</td>\n",
       "      <td>False</td>\n",
       "    </tr>\n",
       "    <tr>\n",
       "      <th>...</th>\n",
       "      <td>...</td>\n",
       "      <td>...</td>\n",
       "      <td>...</td>\n",
       "      <td>...</td>\n",
       "      <td>...</td>\n",
       "    </tr>\n",
       "    <tr>\n",
       "      <th>495</th>\n",
       "      <td>False</td>\n",
       "      <td>False</td>\n",
       "      <td>False</td>\n",
       "      <td>False</td>\n",
       "      <td>False</td>\n",
       "    </tr>\n",
       "    <tr>\n",
       "      <th>496</th>\n",
       "      <td>False</td>\n",
       "      <td>False</td>\n",
       "      <td>False</td>\n",
       "      <td>False</td>\n",
       "      <td>False</td>\n",
       "    </tr>\n",
       "    <tr>\n",
       "      <th>497</th>\n",
       "      <td>False</td>\n",
       "      <td>False</td>\n",
       "      <td>False</td>\n",
       "      <td>False</td>\n",
       "      <td>False</td>\n",
       "    </tr>\n",
       "    <tr>\n",
       "      <th>498</th>\n",
       "      <td>False</td>\n",
       "      <td>False</td>\n",
       "      <td>False</td>\n",
       "      <td>False</td>\n",
       "      <td>False</td>\n",
       "    </tr>\n",
       "    <tr>\n",
       "      <th>499</th>\n",
       "      <td>False</td>\n",
       "      <td>False</td>\n",
       "      <td>False</td>\n",
       "      <td>False</td>\n",
       "      <td>False</td>\n",
       "    </tr>\n",
       "  </tbody>\n",
       "</table>\n",
       "<p>500 rows × 5 columns</p>\n",
       "</div>"
      ],
      "text/plain": [
       "     customer_id   name    age  email  join_date\n",
       "0          False  False   True  False      False\n",
       "1          False  False   True  False      False\n",
       "2          False  False   True  False      False\n",
       "3          False  False   True  False      False\n",
       "4          False  False   True  False      False\n",
       "..           ...    ...    ...    ...        ...\n",
       "495        False  False  False  False      False\n",
       "496        False  False  False  False      False\n",
       "497        False  False  False  False      False\n",
       "498        False  False  False  False      False\n",
       "499        False  False  False  False      False\n",
       "\n",
       "[500 rows x 5 columns]"
      ]
     },
     "execution_count": 20,
     "metadata": {},
     "output_type": "execute_result"
    }
   ],
   "source": [
    "import pandas as pd\n",
    "\n",
    "df = pd.read_csv(\"csv_files/combined_customers.csv\")\n",
    "df.head()\n",
    "df.isnull()"
   ]
  },
  {
   "cell_type": "code",
   "execution_count": 23,
   "id": "fab2fdf1-0e37-48ff-9cf0-d954e23d2b04",
   "metadata": {},
   "outputs": [
    {
     "data": {
      "text/plain": [
       "0        1_패스트캠퍼스\n",
       "1        2_패스트캠퍼스\n",
       "2        3_패스트캠퍼스\n",
       "3        4_패스트캠퍼스\n",
       "4        5_패스트캠퍼스\n",
       "          ...    \n",
       "495    396_패스트캠퍼스\n",
       "496    397_패스트캠퍼스\n",
       "497    398_패스트캠퍼스\n",
       "498    399_패스트캠퍼스\n",
       "499    400_패스트캠퍼스\n",
       "Name: customer_id, Length: 500, dtype: object"
      ]
     },
     "execution_count": 23,
     "metadata": {},
     "output_type": "execute_result"
    }
   ],
   "source": [
    "import pandas as pd\n",
    "import numpy as np\n",
    "\n",
    "df = pd.read_csv(\"csv_files/combined_customers.csv\")\n",
    "\n",
    "def add_string(a):\n",
    "    return f\"{a}_패스트캠퍼스\"\n",
    "    \n",
    "df[\"customer_id\"].apply(add_string)\n",
    "\n"
   ]
  }
 ],
 "metadata": {
  "kernelspec": {
   "display_name": "Python 3 (ipykernel)",
   "language": "python",
   "name": "python3"
  },
  "language_info": {
   "codemirror_mode": {
    "name": "ipython",
    "version": 3
   },
   "file_extension": ".py",
   "mimetype": "text/x-python",
   "name": "python",
   "nbconvert_exporter": "python",
   "pygments_lexer": "ipython3",
   "version": "3.11.5"
  }
 },
 "nbformat": 4,
 "nbformat_minor": 5
}
