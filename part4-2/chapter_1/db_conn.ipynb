{
 "cells": [
  {
   "cell_type": "code",
   "execution_count": 2,
   "metadata": {},
   "outputs": [
    {
     "name": "stdout",
     "output_type": "stream",
     "text": [
      "      Name  Age Category\n",
      "0    Alice   30        A\n",
      "1      Bob   25        B\n",
      "2  Charlie   35        C\n",
      "3    Hello   55        A\n"
     ]
    }
   ],
   "source": [
    "from sqlalchemy import create_engine\n",
    "import pandas as pd\n",
    "\n",
    "# MySQL 연결 문자열: 'mysql+pymysql://{user}:{pw}@{host}:{port}/{db}'\n",
    "engine = create_engine('mysql+pymysql://root@localhost:3306/fdc_dm?charset=utf8')\n",
    "\n",
    "# 데이터베이스에 연결\n",
    "connection = engine.connect()\n",
    "query = \"\"\"\n",
    "SELECT \n",
    "  'Alice' AS Name, 30 AS Age, 'A' AS Category\n",
    "UNION ALL\n",
    "SELECT \n",
    "  'Bob', 25, 'B'\n",
    "UNION ALL\n",
    "SELECT \n",
    "  'Charlie', 35, 'C'\n",
    "  UNION ALL\n",
    "SELECT \n",
    "  'Hello', 55, 'A';\n",
    "\"\"\"\n",
    "df = pd.read_sql(query, connection)\n",
    "\n",
    "# 데이터프레임 출력\n",
    "print(df)"
   ]
  }
 ],
 "metadata": {
  "kernelspec": {
   "display_name": "Python 3 (ipykernel)",
   "language": "python",
   "name": "python3"
  },
  "language_info": {
   "codemirror_mode": {
    "name": "ipython",
    "version": 3
   },
   "file_extension": ".py",
   "mimetype": "text/x-python",
   "name": "python",
   "nbconvert_exporter": "python",
   "pygments_lexer": "ipython3",
   "version": "3.11.5"
  }
 },
 "nbformat": 4,
 "nbformat_minor": 4
}
