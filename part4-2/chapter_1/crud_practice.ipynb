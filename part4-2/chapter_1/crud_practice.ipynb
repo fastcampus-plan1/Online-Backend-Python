{
 "cells": [
  {
   "cell_type": "code",
   "execution_count": 2,
   "metadata": {},
   "outputs": [
    {
     "data": {
      "text/plain": [
       "1000"
      ]
     },
     "execution_count": 2,
     "metadata": {},
     "output_type": "execute_result"
    }
   ],
   "source": [
    "from sqlalchemy import create_engine\n",
    "import pandas as pd\n",
    "\n",
    "# MySQL 연결 문자열: 'mysql+pymysql://{user}:{pw}@{host}:{port}/{db}'\n",
    "engine = create_engine('mysql+pymysql://root@localhost:3306/fdc_dm?charset=utf8')\n",
    "\n",
    "# 데이터베이스에 연결\n",
    "connection = engine.connect()\n",
    "\n",
    "df = pd.read_csv('csv_files/employees_data.csv')\n",
    "df.to_sql('employees', connection, if_exists='append', index=False)"
   ]
  },
  {
   "cell_type": "code",
   "execution_count": 4,
   "metadata": {},
   "outputs": [
    {
     "name": "stdout",
     "output_type": "stream",
     "text": [
      "       id  age  salary  score category  on_leave\n",
      "0       1   18  101071     70        D         0\n",
      "1       2   21   71622      6        C         0\n",
      "2       3   21   53616     48        A         0\n",
      "3       4   57  136213      9        D         0\n",
      "4       5   27   94799     28        D         0\n",
      "..    ...  ...     ...    ...      ...       ...\n",
      "995   996   31  124035     18        B         1\n",
      "996   997   37  122332     74        C         1\n",
      "997   998   50   38913     15        B         1\n",
      "998   999   41  106016     88        A         0\n",
      "999  1000   22  111263     64        C         1\n",
      "\n",
      "[1000 rows x 6 columns]\n"
     ]
    }
   ],
   "source": [
    "from sqlalchemy import create_engine, text\n",
    "import pandas as pd\n",
    "engine = create_engine('mysql+pymysql://root@localhost:3306/fdc_dm?charset=utf8')\n",
    "connection = engine.connect()\n",
    "result = connection.execute(text('SELECT * FROM employees;'))\n",
    "df = pd.read_sql('SELECT * FROM employees;', connection);\n",
    "# 결과 출력\n",
    "# for row in result:\n",
    "#     print(row)\n",
    "print(df)\n"
   ]
  },
  {
   "cell_type": "code",
   "execution_count": 5,
   "metadata": {},
   "outputs": [
    {
     "name": "stdout",
     "output_type": "stream",
     "text": [
      "      id  age  salary  score category  on_leave\n",
      "0      1   18  101071     70        D     False\n",
      "3      4   57  136213      9        D     False\n",
      "13    14   19  138137     64        A     False\n",
      "16    17   41  140302      2        D      True\n",
      "19    20   55  117360     87        D      True\n",
      "..   ...  ...     ...    ...      ...       ...\n",
      "975  976   46  128410     53        D      True\n",
      "976  977   39  103195     82        A      True\n",
      "977  978   32  142222     80        A      True\n",
      "989  990   34  143698     45        A      True\n",
      "998  999   41  106016     88        A     False\n",
      "\n",
      "[225 rows x 6 columns]\n"
     ]
    }
   ],
   "source": [
    "import pandas as pd\n",
    "\n",
    "df = pd.read_csv(\"csv_files/employees_data.csv\")\n",
    "filtered_df = df[(df['salary'] >= 100000) & (df['category'].isin(['A', 'D']))]\n",
    "\n",
    "\n",
    "print(filtered_df)"
   ]
  },
  {
   "cell_type": "code",
   "execution_count": 7,
   "metadata": {},
   "outputs": [
    {
     "name": "stdout",
     "output_type": "stream",
     "text": [
      "      id  age  salary  score category  on_leave\n",
      "0      1   18  101071     70        D     False\n",
      "3      4   57  136213      9        D     False\n",
      "13    14   19  138137     64        E     False\n",
      "16    17   41  140302      2        D      True\n",
      "19    20   55  117360     87        D      True\n",
      "..   ...  ...     ...    ...      ...       ...\n",
      "975  976   46  128410     53        D      True\n",
      "976  977   39  103195     82        E      True\n",
      "977  978   32  142222     80        E      True\n",
      "989  990   34  143698     45        E      True\n",
      "998  999   41  106016     88        E     False\n",
      "\n",
      "[225 rows x 6 columns]\n"
     ]
    }
   ],
   "source": [
    "import pandas as pd\n",
    "\n",
    "df = pd.read_csv(\"csv_files/employees_data.csv\")\n",
    "filtered_df = df[(df['salary'] >= 100000) & (df['category'].isin(['A', 'D']))]\n",
    "filtered_df.loc[df['category'] == 'A', 'category'] = 'E'\n",
    "\n",
    "print(filtered_df)"
   ]
  },
  {
   "cell_type": "code",
   "execution_count": 1,
   "metadata": {},
   "outputs": [],
   "source": [
    "from sqlalchemy import create_engine, text\n",
    "\n",
    "engine = create_engine('mysql+pymysql://root@localhost:3306/fdc_dm?charset=utf8')\n",
    "connection = engine.connect()\n",
    "result = connection.execute(text(\"UPDATE employees SET category = 'E' WHERE salary >= 100000 AND category IN ('A', 'D');\"))\n",
    "connection.commit()\n",
    "# INSERT INTO employees (id, salary, ...) VALUES (101, 10000, ...);\n",
    "# DELETE FROM employees WHERE salary <= 1000;\n"
   ]
  },
  {
   "cell_type": "code",
   "execution_count": null,
   "metadata": {},
   "outputs": [],
   "source": []
  }
 ],
 "metadata": {
  "kernelspec": {
   "display_name": "Python 3 (ipykernel)",
   "language": "python",
   "name": "python3"
  },
  "language_info": {
   "codemirror_mode": {
    "name": "ipython",
    "version": 3
   },
   "file_extension": ".py",
   "mimetype": "text/x-python",
   "name": "python",
   "nbconvert_exporter": "python",
   "pygments_lexer": "ipython3",
   "version": "3.11.5"
  }
 },
 "nbformat": 4,
 "nbformat_minor": 4
}
