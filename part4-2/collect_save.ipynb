{
 "cells": [
  {
   "cell_type": "code",
   "execution_count": 2,
   "metadata": {},
   "outputs": [],
   "source": [
    "from crawler.restuarant_crawler import get_data_from_kakaomap\n",
    "\n",
    "# get_data_from_kakaomap(\"강남구 카페\", \"디저트\", \"카페\")\n",
    "# get_data_from_kakaomap(\"강남구 해장국\", \"한식\", \"국밥\")\n",
    "\n",
    "get_data_from_kakaomap(\"강남구 치킨\", \"한식\", \"치킨\")\n",
    "\n",
    "# search = [\n",
    "#     (\"강남구 파스타\", \"양식\", \"파스타\"),\n",
    "#     (\"강남구 초밥\", \"일식\", \"초밥\"),\n",
    "#     (\"강남구 라멘\", \"일식\", \"리멘\"),\n",
    "#     (\"강남구 스테이크\", \"양식\", \"스테이크\"),\n",
    "#     (\"강남구 중국집\", \"중식\", \"중식\"),\n",
    "#     (\"강남구 해물찜\", \"한식\", \"찜\"),\n",
    "#     (\"강남구 맥주집\", \"주점\", \"주점\"),\n",
    "#     (\"강남구 족발\", \"한식\", \"족발\"),\n",
    "#     (\"강남구 와플\", \"디저트\", \"디저트\"),\n",
    "#     (\"강남구 떡볶이\", \"한식\", \"분식\"),\n",
    "    \n",
    "# ]\n",
    "\n",
    "# for s in search:\n",
    "#     get_data_from_kakaomap(*s)"
   ]
  }
 ],
 "metadata": {
  "kernelspec": {
   "display_name": "Python 3 (ipykernel)",
   "language": "python",
   "name": "python3"
  },
  "language_info": {
   "codemirror_mode": {
    "name": "ipython",
    "version": 3
   },
   "file_extension": ".py",
   "mimetype": "text/x-python",
   "name": "python",
   "nbconvert_exporter": "python",
   "pygments_lexer": "ipython3",
   "version": "3.11.5"
  }
 },
 "nbformat": 4,
 "nbformat_minor": 4
}
