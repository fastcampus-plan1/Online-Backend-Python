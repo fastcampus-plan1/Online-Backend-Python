{
 "cells": [
  {
   "cell_type": "code",
   "execution_count": 3,
   "metadata": {},
   "outputs": [
    {
     "name": "stdout",
     "output_type": "stream",
     "text": [
      "measurement  humidity  temperature  wind\n",
      "day                                     \n",
      "1                  74           54    57\n",
      "2                  19           77    77\n",
      "3                  46           93    31\n",
      "4                  98           97    80\n",
      "5                  68           98    22\n",
      "6                  97           75    49\n",
      "7                  91           56    98\n",
      "8                  87           47    35\n",
      "9                  30           82    19\n",
      "10                 89           90    79\n"
     ]
    }
   ],
   "source": [
    "import pandas as pd\n",
    "\n",
    "df = pd.read_csv(\"csv_files/melt_pivot_data.csv\")\n",
    "# pivot 함수 사용 예시\n",
    "pivoted_df = df.pivot(index='day', columns='measurement', values='value')\n",
    "\n",
    "# 결과 확인\n",
    "print(pivoted_df)\n"
   ]
  },
  {
   "cell_type": "code",
   "execution_count": 5,
   "metadata": {},
   "outputs": [
    {
     "name": "stdout",
     "output_type": "stream",
     "text": [
      "    day  measurement  value\n",
      "0     1     humidity     74\n",
      "1     2     humidity     19\n",
      "2     3     humidity     46\n",
      "3     4     humidity     98\n",
      "4     5     humidity     68\n",
      "5     6     humidity     97\n",
      "6     7     humidity     91\n",
      "7     8     humidity     87\n",
      "8     9     humidity     30\n",
      "9    10     humidity     89\n",
      "10    1  temperature     54\n",
      "11    2  temperature     77\n",
      "12    3  temperature     93\n",
      "13    4  temperature     97\n",
      "14    5  temperature     98\n",
      "15    6  temperature     75\n",
      "16    7  temperature     56\n",
      "17    8  temperature     47\n",
      "18    9  temperature     82\n",
      "19   10  temperature     90\n",
      "20    1         wind     57\n",
      "21    2         wind     77\n",
      "22    3         wind     31\n",
      "23    4         wind     80\n",
      "24    5         wind     22\n",
      "25    6         wind     49\n",
      "26    7         wind     98\n",
      "27    8         wind     35\n",
      "28    9         wind     19\n",
      "29   10         wind     79\n"
     ]
    }
   ],
   "source": [
    "import pandas as pd\n",
    "\n",
    "df = pd.read_csv(\"csv_files/melt_pivot_data.csv\")\n",
    "pivoted_df = df.pivot(index='day', columns='measurement', values='value')\n",
    "melted_df = pivoted_df.reset_index().melt(id_vars=['day'], var_name='measurement', value_name='value')\n",
    "\n",
    "# # 결과 확인\n",
    "print(melted_df)\n"
   ]
  }
 ],
 "metadata": {
  "kernelspec": {
   "display_name": "Python 3 (ipykernel)",
   "language": "python",
   "name": "python3"
  },
  "language_info": {
   "codemirror_mode": {
    "name": "ipython",
    "version": 3
   },
   "file_extension": ".py",
   "mimetype": "text/x-python",
   "name": "python",
   "nbconvert_exporter": "python",
   "pygments_lexer": "ipython3",
   "version": "3.11.5"
  }
 },
 "nbformat": 4,
 "nbformat_minor": 4
}
