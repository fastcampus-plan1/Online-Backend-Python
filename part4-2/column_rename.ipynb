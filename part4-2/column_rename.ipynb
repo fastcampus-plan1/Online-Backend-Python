{
 "cells": [
  {
   "cell_type": "code",
   "execution_count": 3,
   "metadata": {},
   "outputs": [
    {
     "name": "stdout",
     "output_type": "stream",
     "text": [
      "     커스터머ID         name    나이                    email  \\\n",
      "0         1    Customer1   NaN    customer1@example.com   \n",
      "1         2    Customer2   NaN    customer2@example.com   \n",
      "2         3    Customer3   NaN    customer3@example.com   \n",
      "3         4    Customer4   NaN    customer4@example.com   \n",
      "4         5    Customer5   NaN    customer5@example.com   \n",
      "..      ...          ...   ...                      ...   \n",
      "495     396  Customer396  54.0  customer396@example.com   \n",
      "496     397  Customer397  57.0  customer397@example.com   \n",
      "497     398  Customer398  68.0  customer398@example.com   \n",
      "498     399  Customer399  29.0  customer399@example.com   \n",
      "499     400  Customer400  57.0  customer400@example.com   \n",
      "\n",
      "                      join_date  \n",
      "0    2023-01-27 06:52:22.275679  \n",
      "1    2023-07-15 06:52:22.275698  \n",
      "2    2023-01-24 06:52:22.275704  \n",
      "3    2023-03-25 06:52:22.275709  \n",
      "4    2023-03-25 06:52:22.275713  \n",
      "..                          ...  \n",
      "495  2023-02-09 06:54:12.151607  \n",
      "496  2023-03-25 06:54:12.151613  \n",
      "497  2023-02-19 06:54:12.151618  \n",
      "498  2023-07-18 06:54:12.151624  \n",
      "499  2023-01-22 06:54:12.151629  \n",
      "\n",
      "[500 rows x 5 columns]\n"
     ]
    }
   ],
   "source": [
    "import pandas as pd\n",
    "\n",
    "df = pd.read_csv(\"csv_files/combined_customers.csv\")\n",
    "df.rename(columns={'customer_id': '커스터머ID', 'age': '나이'}, inplace=True)\n",
    "print(df)"
   ]
  },
  {
   "cell_type": "code",
   "execution_count": 6,
   "metadata": {},
   "outputs": [
    {
     "name": "stdout",
     "output_type": "stream",
     "text": [
      "     커스터머ID           이름    나이                      이메일  \\\n",
      "0         1    Customer1   NaN    customer1@example.com   \n",
      "1         2    Customer2   NaN    customer2@example.com   \n",
      "2         3    Customer3   NaN    customer3@example.com   \n",
      "3         4    Customer4   NaN    customer4@example.com   \n",
      "4         5    Customer5   NaN    customer5@example.com   \n",
      "..      ...          ...   ...                      ...   \n",
      "495     396  Customer396  54.0  customer396@example.com   \n",
      "496     397  Customer397  57.0  customer397@example.com   \n",
      "497     398  Customer398  68.0  customer398@example.com   \n",
      "498     399  Customer399  29.0  customer399@example.com   \n",
      "499     400  Customer400  57.0  customer400@example.com   \n",
      "\n",
      "                           가입일시  \n",
      "0    2023-01-27 06:52:22.275679  \n",
      "1    2023-07-15 06:52:22.275698  \n",
      "2    2023-01-24 06:52:22.275704  \n",
      "3    2023-03-25 06:52:22.275709  \n",
      "4    2023-03-25 06:52:22.275713  \n",
      "..                          ...  \n",
      "495  2023-02-09 06:54:12.151607  \n",
      "496  2023-03-25 06:54:12.151613  \n",
      "497  2023-02-19 06:54:12.151618  \n",
      "498  2023-07-18 06:54:12.151624  \n",
      "499  2023-01-22 06:54:12.151629  \n",
      "\n",
      "[500 rows x 5 columns]\n"
     ]
    }
   ],
   "source": [
    "import pandas as pd\n",
    "\n",
    "df = pd.read_csv(\"csv_files/combined_customers.csv\")\n",
    "df.columns = ['커스터머ID', '이름', '나이', '이메일', '가입일시']\n",
    "print(df)"
   ]
  },
  {
   "cell_type": "code",
   "execution_count": 7,
   "metadata": {},
   "outputs": [
    {
     "name": "stdout",
     "output_type": "stream",
     "text": [
      "     customer_id         name   age                    email  \\\n",
      "첫번째            1    Customer1   NaN    customer1@example.com   \n",
      "두번째            2    Customer2   NaN    customer2@example.com   \n",
      "세번째            3    Customer3   NaN    customer3@example.com   \n",
      "3              4    Customer4   NaN    customer4@example.com   \n",
      "4              5    Customer5   NaN    customer5@example.com   \n",
      "..           ...          ...   ...                      ...   \n",
      "495          396  Customer396  54.0  customer396@example.com   \n",
      "496          397  Customer397  57.0  customer397@example.com   \n",
      "497          398  Customer398  68.0  customer398@example.com   \n",
      "498          399  Customer399  29.0  customer399@example.com   \n",
      "499          400  Customer400  57.0  customer400@example.com   \n",
      "\n",
      "                      join_date  \n",
      "첫번째  2023-01-27 06:52:22.275679  \n",
      "두번째  2023-07-15 06:52:22.275698  \n",
      "세번째  2023-01-24 06:52:22.275704  \n",
      "3    2023-03-25 06:52:22.275709  \n",
      "4    2023-03-25 06:52:22.275713  \n",
      "..                          ...  \n",
      "495  2023-02-09 06:54:12.151607  \n",
      "496  2023-03-25 06:54:12.151613  \n",
      "497  2023-02-19 06:54:12.151618  \n",
      "498  2023-07-18 06:54:12.151624  \n",
      "499  2023-01-22 06:54:12.151629  \n",
      "\n",
      "[500 rows x 5 columns]\n"
     ]
    }
   ],
   "source": [
    "import pandas as pd\n",
    "\n",
    "df = pd.read_csv(\"csv_files/combined_customers.csv\")\n",
    "df.rename(index={0: '첫번째', 1: '두번째', 2: '세번째'}, inplace=True)\n",
    "\n",
    "print(df)"
   ]
  },
  {
   "cell_type": "code",
   "execution_count": 9,
   "metadata": {},
   "outputs": [
    {
     "name": "stdout",
     "output_type": "stream",
     "text": [
      "          customer_id         name   age                    email  \\\n",
      "커스터머_0              1    Customer1   NaN    customer1@example.com   \n",
      "커스터머_1              2    Customer2   NaN    customer2@example.com   \n",
      "커스터머_2              3    Customer3   NaN    customer3@example.com   \n",
      "커스터머_3              4    Customer4   NaN    customer4@example.com   \n",
      "커스터머_4              5    Customer5   NaN    customer5@example.com   \n",
      "...               ...          ...   ...                      ...   \n",
      "커스터머_495          396  Customer396  54.0  customer396@example.com   \n",
      "커스터머_496          397  Customer397  57.0  customer397@example.com   \n",
      "커스터머_497          398  Customer398  68.0  customer398@example.com   \n",
      "커스터머_498          399  Customer399  29.0  customer399@example.com   \n",
      "커스터머_499          400  Customer400  57.0  customer400@example.com   \n",
      "\n",
      "                           join_date  \n",
      "커스터머_0    2023-01-27 06:52:22.275679  \n",
      "커스터머_1    2023-07-15 06:52:22.275698  \n",
      "커스터머_2    2023-01-24 06:52:22.275704  \n",
      "커스터머_3    2023-03-25 06:52:22.275709  \n",
      "커스터머_4    2023-03-25 06:52:22.275713  \n",
      "...                              ...  \n",
      "커스터머_495  2023-02-09 06:54:12.151607  \n",
      "커스터머_496  2023-03-25 06:54:12.151613  \n",
      "커스터머_497  2023-02-19 06:54:12.151618  \n",
      "커스터머_498  2023-07-18 06:54:12.151624  \n",
      "커스터머_499  2023-01-22 06:54:12.151629  \n",
      "\n",
      "[500 rows x 5 columns]\n"
     ]
    }
   ],
   "source": [
    "import pandas as pd\n",
    "\n",
    "def index_gen(num):\n",
    "    return '커스터머_' + str(num)\n",
    "\n",
    "df = pd.read_csv(\"csv_files/combined_customers.csv\")\n",
    "df.index = df.index.map(index_gen)\n",
    "\n",
    "print(df)"
   ]
  }
 ],
 "metadata": {
  "kernelspec": {
   "display_name": "venv",
   "language": "python",
   "name": "python3"
  },
  "language_info": {
   "codemirror_mode": {
    "name": "ipython",
    "version": 3
   },
   "file_extension": ".py",
   "mimetype": "text/x-python",
   "name": "python",
   "nbconvert_exporter": "python",
   "pygments_lexer": "ipython3",
   "version": "3.11.5"
  }
 },
 "nbformat": 4,
 "nbformat_minor": 2
}
