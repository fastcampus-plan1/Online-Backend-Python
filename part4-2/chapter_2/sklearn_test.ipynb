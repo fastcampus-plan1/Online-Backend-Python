{
 "cells": [
  {
   "cell_type": "code",
   "execution_count": 7,
   "metadata": {},
   "outputs": [
    {
     "name": "stdout",
     "output_type": "stream",
     "text": [
      "예측: [2 2 2 2 2]\n",
      "실제: [2 2 2 2 2]\n"
     ]
    }
   ],
   "source": [
    "# Scikit-Learn 샘플 코드\n",
    "import pandas as pd\n",
    "from sklearn.datasets import load_iris\n",
    "\n",
    "from sklearn.tree import DecisionTreeClassifier\n",
    "\n",
    "# 데이터 로드\n",
    "iris = load_iris()\n",
    "df = pd.DataFrame(iris.data, columns=iris.feature_names)\n",
    "df['class'] = iris.target\n",
    "\n",
    "# print(df[:10])\n",
    "# 모델 생성 및 훈련\n",
    "model = DecisionTreeClassifier()\n",
    "model.fit(iris.data, iris.target)\n",
    "\n",
    "# 예측 테스트\n",
    "print(\"예측:\", model.predict(x[-5:]))\n",
    "print(\"실제:\", y[-5:])\n"
   ]
  }
 ],
 "metadata": {
  "kernelspec": {
   "display_name": "Python 3 (ipykernel)",
   "language": "python",
   "name": "python3"
  },
  "language_info": {
   "codemirror_mode": {
    "name": "ipython",
    "version": 3
   },
   "file_extension": ".py",
   "mimetype": "text/x-python",
   "name": "python",
   "nbconvert_exporter": "python",
   "pygments_lexer": "ipython3",
   "version": "3.11.5"
  }
 },
 "nbformat": 4,
 "nbformat_minor": 4
}
