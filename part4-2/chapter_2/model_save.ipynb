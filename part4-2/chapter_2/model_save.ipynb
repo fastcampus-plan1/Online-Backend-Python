{
 "cells": [
  {
   "cell_type": "code",
   "execution_count": 2,
   "metadata": {},
   "outputs": [
    {
     "name": "stdout",
     "output_type": "stream",
     "text": [
      "Pickle 저장 시간: 0.0025010108947753906\n",
      "Pickle 로드 시간: 0.004104137420654297\n",
      "177.54296875\n"
     ]
    }
   ],
   "source": [
    "import pickle\n",
    "from sklearn.ensemble import RandomForestClassifier\n",
    "from sklearn.datasets import load_iris\n",
    "import time\n",
    "\n",
    "# Iris 데이터셋 로드 및 모델 학습\n",
    "iris = load_iris()\n",
    "X, y = iris.data, iris.target\n",
    "model = RandomForestClassifier()\n",
    "model.fit(X, y)\n",
    "\n",
    "# Pickle을 사용한 모델 저장\n",
    "start = time.time()\n",
    "with open('model_pickle.pkl', 'wb') as file:\n",
    "    pickle.dump(model, file)\n",
    "print('Pickle 저장 시간:', time.time() - start)\n",
    "\n",
    "# Pickle을 사용한 모델 로드\n",
    "start = time.time()\n",
    "with open('model_pickle.pkl', 'rb') as file:\n",
    "    loaded_model_pickle = pickle.load(file)\n",
    "print('Pickle 로드 시간:', time.time() - start)\n",
    "\n",
    "import os\n",
    "size_b = os.path.getsize('model_pickle.pkl')\n",
    "size_in_kb  = size_b / 1024\n",
    "print(size_in_kb)"
   ]
  },
  {
   "cell_type": "code",
   "execution_count": 4,
   "metadata": {},
   "outputs": [
    {
     "name": "stdout",
     "output_type": "stream",
     "text": [
      "Joblib 저장 시간: 0.020086050033569336\n",
      "Joblib 로드 시간: 0.01708078384399414\n",
      "176.1884765625\n"
     ]
    }
   ],
   "source": [
    "import joblib\n",
    "from sklearn.ensemble import RandomForestClassifier\n",
    "from sklearn.datasets import load_iris\n",
    "import time\n",
    "\n",
    "# Iris 데이터셋 로드 및 모델 학습\n",
    "iris = load_iris()\n",
    "X, y = iris.data, iris.target\n",
    "model = RandomForestClassifier()\n",
    "model.fit(X, y)\n",
    "\n",
    "# Joblib을 사용한 모델 저장\n",
    "start = time.time()\n",
    "joblib.dump(model, 'model_joblib.pkl')\n",
    "print('Joblib 저장 시간:', time.time() - start)\n",
    "\n",
    "# Joblib을 사용한 모델 로드\n",
    "start = time.time()\n",
    "loaded_model_joblib = joblib.load('model_joblib.pkl')\n",
    "print('Joblib 로드 시간:', time.time() - start)\n",
    "\n",
    "import os\n",
    "size_b = os.path.getsize('model_joblib.pkl')\n",
    "size_in_kb  = size_b / 1024\n",
    "print(size_in_kb)\n"
   ]
  }
 ],
 "metadata": {
  "kernelspec": {
   "display_name": "Python 3 (ipykernel)",
   "language": "python",
   "name": "python3"
  },
  "language_info": {
   "codemirror_mode": {
    "name": "ipython",
    "version": 3
   },
   "file_extension": ".py",
   "mimetype": "text/x-python",
   "name": "python",
   "nbconvert_exporter": "python",
   "pygments_lexer": "ipython3",
   "version": "3.11.5"
  }
 },
 "nbformat": 4,
 "nbformat_minor": 4
}
