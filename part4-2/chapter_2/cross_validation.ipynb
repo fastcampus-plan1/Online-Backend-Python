{
 "cells": [
  {
   "cell_type": "code",
   "execution_count": 1,
   "metadata": {},
   "outputs": [
    {
     "name": "stdout",
     "output_type": "stream",
     "text": [
      "K-Fold 교차검증 점수: [1.         1.         0.86666667 0.93333333 0.73333333]\n"
     ]
    }
   ],
   "source": [
    "from sklearn.model_selection import KFold, cross_val_score\n",
    "from sklearn.ensemble import RandomForestClassifier\n",
    "from sklearn.datasets import load_iris\n",
    "\n",
    "# 데이터셋 로드\n",
    "iris = load_iris()\n",
    "X = iris.data\n",
    "y = iris.target\n",
    "\n",
    "# K-Fold 교차검증 설정\n",
    "kf = KFold(n_splits=5)\n",
    "\n",
    "# 모델 초기화\n",
    "model = RandomForestClassifier(n_estimators=100)\n",
    "\n",
    "# 교차검증 점수 계산\n",
    "scores = cross_val_score(model, X, y, cv=kf)\n",
    "print(\"K-Fold 교차검증 점수:\", scores)\n",
    "\n"
   ]
  },
  {
   "cell_type": "code",
   "execution_count": 2,
   "metadata": {},
   "outputs": [
    {
     "name": "stdout",
     "output_type": "stream",
     "text": [
      "Stratified K-Fold 교차검증 점수: [0.96666667 0.96666667 0.93333333 0.96666667 1.        ]\n"
     ]
    }
   ],
   "source": [
    "from sklearn.model_selection import StratifiedKFold, cross_val_score\n",
    "from sklearn.ensemble import RandomForestClassifier\n",
    "from sklearn.datasets import load_iris\n",
    "\n",
    "# 데이터셋 로드\n",
    "iris = load_iris()\n",
    "X = iris.data\n",
    "y = iris.target\n",
    "\n",
    "# StratifiedKFold 교차검증 설정\n",
    "skf = StratifiedKFold(n_splits=5)\n",
    "\n",
    "# 모델 초기화\n",
    "model = RandomForestClassifier(n_estimators=100)\n",
    "\n",
    "# 교차검증 점수 계산\n",
    "scores = cross_val_score(model, X, y, cv=skf)\n",
    "print(\"Stratified K-Fold 교차검증 점수:\", scores)\n"
   ]
  },
  {
   "cell_type": "code",
   "execution_count": 3,
   "metadata": {},
   "outputs": [
    {
     "name": "stdout",
     "output_type": "stream",
     "text": [
      "LOOCV 교차검증 점수: 0.9533333333333334\n"
     ]
    }
   ],
   "source": [
    "from sklearn.model_selection import LeaveOneOut, cross_val_score\n",
    "from sklearn.ensemble import RandomForestClassifier\n",
    "from sklearn.datasets import load_iris\n",
    "\n",
    "# 데이터셋 로드\n",
    "iris = load_iris()\n",
    "X = iris.data\n",
    "y = iris.target\n",
    "\n",
    "# LOOCV 설정\n",
    "loo = LeaveOneOut()\n",
    "\n",
    "# 모델 초기화\n",
    "model = RandomForestClassifier(n_estimators=100)\n",
    "\n",
    "# 교차검증 점수 계산\n",
    "scores = cross_val_score(model, X, y, cv=loo)\n",
    "print(\"LOOCV 교차검증 점수:\", scores.mean())\n"
   ]
  }
 ],
 "metadata": {
  "kernelspec": {
   "display_name": "Python 3 (ipykernel)",
   "language": "python",
   "name": "python3"
  },
  "language_info": {
   "codemirror_mode": {
    "name": "ipython",
    "version": 3
   },
   "file_extension": ".py",
   "mimetype": "text/x-python",
   "name": "python",
   "nbconvert_exporter": "python",
   "pygments_lexer": "ipython3",
   "version": "3.11.5"
  }
 },
 "nbformat": 4,
 "nbformat_minor": 4
}
