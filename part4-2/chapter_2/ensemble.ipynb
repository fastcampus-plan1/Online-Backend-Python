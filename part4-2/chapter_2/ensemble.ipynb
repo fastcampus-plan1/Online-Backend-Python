{
 "cells": [
  {
   "cell_type": "code",
   "execution_count": 1,
   "metadata": {},
   "outputs": [
    {
     "name": "stderr",
     "output_type": "stream",
     "text": [
      "/Users/ryan/Online-Backend-Python/venv/lib/python3.11/site-packages/sklearn/ensemble/_weight_boosting.py:519: FutureWarning: The SAMME.R algorithm (the default) is deprecated and will be removed in 1.6. Use the SAMME algorithm to circumvent this warning.\n",
      "  warnings.warn(\n"
     ]
    },
    {
     "data": {
      "text/plain": [
       "(0.9473684210526315, 0.956140350877193)"
      ]
     },
     "execution_count": 1,
     "metadata": {},
     "output_type": "execute_result"
    }
   ],
   "source": [
    "# Importing necessary libraries\n",
    "from sklearn.datasets import load_breast_cancer\n",
    "from sklearn.ensemble import RandomForestClassifier, AdaBoostClassifier\n",
    "from sklearn.model_selection import train_test_split\n",
    "from sklearn.metrics import accuracy_score\n",
    "\n",
    "# Loading the dataset\n",
    "data = load_breast_cancer()\n",
    "X = data.data\n",
    "y = data.target\n",
    "\n",
    "# Splitting the dataset into training and testing sets\n",
    "X_train, X_test, y_train, y_test = train_test_split(X, y, test_size=0.2, random_state=2)\n",
    "\n",
    "# Creating a RandomForest Classifier\n",
    "rf_classifier = RandomForestClassifier(n_estimators=100, random_state=2)\n",
    "rf_classifier.fit(X_train, y_train)\n",
    "rf_predictions = rf_classifier.predict(X_test)\n",
    "rf_accuracy = accuracy_score(y_test, rf_predictions)\n",
    "\n",
    "# Creating an AdaBoost Classifier\n",
    "ada_classifier = AdaBoostClassifier(n_estimators=100, random_state=2)\n",
    "ada_classifier.fit(X_train, y_train)\n",
    "ada_predictions = ada_classifier.predict(X_test)\n",
    "ada_accuracy = accuracy_score(y_test, ada_predictions)\n",
    "\n",
    "# Preparing the code output for display\n",
    "rf_accuracy, ada_accuracy\n",
    "\n"
   ]
  },
  {
   "cell_type": "code",
   "execution_count": 4,
   "metadata": {},
   "outputs": [
    {
     "data": {
      "text/plain": [
       "0.8947368421052632"
      ]
     },
     "execution_count": 4,
     "metadata": {},
     "output_type": "execute_result"
    }
   ],
   "source": [
    "from sklearn.ensemble import StackingClassifier\n",
    "from sklearn.linear_model import LogisticRegression\n",
    "from sklearn.neighbors import KNeighborsClassifier\n",
    "from sklearn.ensemble import RandomForestClassifier\n",
    "from sklearn.metrics import accuracy_score\n",
    "\n",
    "# 기본 모델 설정\n",
    "base_learners = [\n",
    "    ('lr', LogisticRegression(random_state=2, max_iter=10000)),\n",
    "    ('knn', KNeighborsClassifier())\n",
    "]\n",
    "\n",
    "# 메타 모델 설정\n",
    "meta_learner = RandomForestClassifier(n_estimators=100, random_state=2)\n",
    "\n",
    "# 스태킹 분류기 생성\n",
    "stacking_classifier = StackingClassifier(estimators=base_learners, final_estimator=meta_learner, cv=5)\n",
    "\n",
    "# 스태킹 분류기 훈련\n",
    "stacking_classifier.fit(X_train, y_train)\n",
    "\n",
    "# 스태킹 분류기를 사용한 예측\n",
    "stacking_predictions = stacking_classifier.predict(X_test)\n",
    "\n",
    "# 예측 정확도\n",
    "stacking_accuracy = accuracy_score(y_test, stacking_predictions)\n",
    "stacking_accuracy"
   ]
  }
 ],
 "metadata": {
  "kernelspec": {
   "display_name": "Python 3 (ipykernel)",
   "language": "python",
   "name": "python3"
  },
  "language_info": {
   "codemirror_mode": {
    "name": "ipython",
    "version": 3
   },
   "file_extension": ".py",
   "mimetype": "text/x-python",
   "name": "python",
   "nbconvert_exporter": "python",
   "pygments_lexer": "ipython3",
   "version": "3.11.5"
  }
 },
 "nbformat": 4,
 "nbformat_minor": 4
}
