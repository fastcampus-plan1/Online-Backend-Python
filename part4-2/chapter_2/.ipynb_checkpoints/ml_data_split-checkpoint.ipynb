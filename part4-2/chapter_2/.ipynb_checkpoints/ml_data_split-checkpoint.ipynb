{
 "cells": [
  {
   "cell_type": "code",
   "execution_count": null,
   "metadata": {},
   "outputs": [
    {
     "ename": "",
     "evalue": "",
     "output_type": "error",
     "traceback": [
      "\u001b[1;31m'venv/lib/python3.11/site-packages/psutil/_psutil_osx.abi3.so, 0x0002' 파일이 포함 모듈을 무시하고 kernel 시작을 방해하는 것 같습니다. 파일 이름을 바꾸고 kernel을 다시 시작하는 것을 고려하세요.\n",
      "\u001b[1;31m자세한 내용을 보려면 <a href='https://aka.ms/kernelFailuresOverridingBuiltInModules'>여기</a>를 클릭합니다."
     ]
    }
   ],
   "source": [
    "# 랜덤 데이터 분할\n",
    "from sklearn.datasets import load_boston\n",
    "from sklearn.model_selection import train_test_split\n",
    "\n",
    "# 보스턴 주택 가격 데이터셋 로드\n",
    "boston = load_boston()\n",
    "X, y = boston.data, boston.target\n",
    "\n",
    "# 랜덤 데이터 분할\n",
    "X_train_rand, X_test_rand, y_train_rand, y_test_rand = train_test_split(X, y, test_size=0.2, random_state=42)\n",
    "\n",
    "# 각 분할된 데이터셋의 크기 확인\n",
    "print(\"Random Split:\")\n",
    "print(\"Train set size:\", X_train_rand.shape[0])\n",
    "print(\"Test set size:\", X_test_rand.shape[0])\n"
   ]
  }
 ],
 "metadata": {
  "kernelspec": {
   "display_name": "venv",
   "language": "python",
   "name": "python3"
  },
  "language_info": {
   "name": "python",
   "version": "3.11.5"
  }
 },
 "nbformat": 4,
 "nbformat_minor": 2
}
