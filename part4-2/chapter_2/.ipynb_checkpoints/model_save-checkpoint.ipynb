{
 "cells": [
  {
   "cell_type": "code",
   "execution_count": null,
   "metadata": {},
   "outputs": [],
   "source": [
    "import pickle\n",
    "from sklearn.ensemble import RandomForestClassifier\n",
    "from sklearn.datasets import load_iris\n",
    "import time\n",
    "\n",
    "# Iris 데이터셋 로드 및 모델 학습\n",
    "iris = load_iris()\n",
    "X, y = iris.data, iris.target\n",
    "model = RandomForestClassifier()\n",
    "model.fit(X, y)\n",
    "\n",
    "# Pickle을 사용한 모델 저장\n",
    "start = time.time()\n",
    "with open('model_pickle.pkl', 'wb') as file:\n",
    "    pickle.dump(model, file)\n",
    "print('Pickle 저장 시간:', time.time() - start)\n",
    "\n",
    "# Pickle을 사용한 모델 로드\n",
    "start = time.time()\n",
    "with open('model_pickle.pkl', 'rb') as file:\n",
    "    loaded_model_pickle = pickle.load(file)\n",
    "print('Pickle 로드 시간:', time.time() - start)\n"
   ]
  },
  {
   "cell_type": "code",
   "execution_count": null,
   "metadata": {},
   "outputs": [],
   "source": [
    "import joblib\n",
    "from sklearn.ensemble import RandomForestClassifier\n",
    "from sklearn.datasets import load_iris\n",
    "import time\n",
    "\n",
    "# Iris 데이터셋 로드 및 모델 학습\n",
    "iris = load_iris()\n",
    "X, y = iris.data, iris.target\n",
    "model = RandomForestClassifier()\n",
    "model.fit(X, y)\n",
    "\n",
    "# Joblib을 사용한 모델 저장\n",
    "start = time.time()\n",
    "joblib.dump(model, 'model_joblib.pkl')\n",
    "print('Joblib 저장 시간:', time.time() - start)\n",
    "\n",
    "# Joblib을 사용한 모델 로드\n",
    "start = time.time()\n",
    "loaded_model_joblib = joblib.load('model_joblib.pkl')\n",
    "print('Joblib 로드 시간:', time.time() - start)\n"
   ]
  }
 ],
 "metadata": {
  "language_info": {
   "name": "python"
  }
 },
 "nbformat": 4,
 "nbformat_minor": 2
}
