{
 "cells": [
  {
   "cell_type": "code",
   "execution_count": null,
   "metadata": {},
   "outputs": [
    {
     "ename": "",
     "evalue": "",
     "output_type": "error",
     "traceback": [
      "\u001b[1;31m'venv/lib/python3.11/site-packages/psutil/_psutil_osx.abi3.so, 0x0002' 파일이 포함 모듈을 무시하고 kernel 시작을 방해하는 것 같습니다. 파일 이름을 바꾸고 kernel을 다시 시작하는 것을 고려하세요.\n",
      "\u001b[1;31m자세한 내용을 보려면 <a href='https://aka.ms/kernelFailuresOverridingBuiltInModules'>여기</a>를 클릭합니다."
     ]
    }
   ],
   "source": [
    "from sklearn.feature_extraction.text import CountVectorizer\n",
    "from sklearn.naive_bayes import MultinomialNB\n",
    "from sklearn.model_selection import train_test_split\n",
    "from sklearn.metrics import accuracy_score\n",
    "\n",
    "# 샘플 데이터\n",
    "text_data = [\"This product is great\", \"Bad quality, not satisfied\", \"Happy with the purchase\", \"Not a good product\"]\n",
    "labels = [1, 0, 1, 0]  # 1: Positive, 0: Negative\n",
    "vectorizer = CountVectorizer()\n",
    "X = vectorizer.fit_transform(text_data)\n",
    "X_train, X_test, y_train, y_test = train_test_split(X, labels, test_size=0.2)\n",
    "# 모델 훈련\n",
    "model = MultinomialNB()\n",
    "model.fit(X_train, y_train)\n",
    "# 예측 및 평가\n",
    "predictions = model.predict(X_test)\n",
    "print(\"Accuracy:\", accuracy_score(y_test, predictions))\n",
    "\n"
   ]
  }
 ],
 "metadata": {
  "kernelspec": {
   "display_name": "venv",
   "language": "python",
   "name": "python3"
  },
  "language_info": {
   "name": "python",
   "version": "3.11.5"
  }
 },
 "nbformat": 4,
 "nbformat_minor": 2
}
