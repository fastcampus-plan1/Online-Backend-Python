{
 "cells": [
  {
   "cell_type": "code",
   "execution_count": null,
   "metadata": {},
   "outputs": [
    {
     "ename": "",
     "evalue": "",
     "output_type": "error",
     "traceback": [
      "\u001b[1;31m'venv/lib/python3.11/site-packages/psutil/_psutil_osx.abi3.so, 0x0002' 파일이 포함 모듈을 무시하고 kernel 시작을 방해하는 것 같습니다. 파일 이름을 바꾸고 kernel을 다시 시작하는 것을 고려하세요.\n",
      "\u001b[1;31m자세한 내용을 보려면 <a href='https://aka.ms/kernelFailuresOverridingBuiltInModules'>여기</a>를 클릭합니다."
     ]
    }
   ],
   "source": [
    "# Scikit-Learn 샘플 코드\n",
    "from sklearn.datasets import load_iris\n",
    "from sklearn.tree import DecisionTreeClassifier\n",
    "\n",
    "# 데이터 로드\n",
    "iris = load_iris()\n",
    "X, y = iris.data, iris.target\n",
    "\n",
    "# 모델 생성 및 훈련\n",
    "model = DecisionTreeClassifier()\n",
    "model.fit(X, y)\n",
    "\n",
    "# 예측 테스트\n",
    "print(\"예측:\", model.predict(X[:5]))\n",
    "print(\"실제:\", y[:5])\n"
   ]
  }
 ],
 "metadata": {
  "kernelspec": {
   "display_name": "venv",
   "language": "python",
   "name": "python3"
  },
  "language_info": {
   "name": "python",
   "version": "3.11.5"
  }
 },
 "nbformat": 4,
 "nbformat_minor": 2
}
