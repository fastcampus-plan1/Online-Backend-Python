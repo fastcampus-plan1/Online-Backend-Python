{
 "cells": [
  {
   "cell_type": "code",
   "execution_count": null,
   "metadata": {},
   "outputs": [],
   "source": [
    "from sklearn.model_selection import KFold, cross_val_score\n",
    "from sklearn.ensemble import RandomForestClassifier\n",
    "from sklearn.datasets import load_iris\n",
    "\n",
    "# 데이터셋 로드\n",
    "iris = load_iris()\n",
    "X = iris.data\n",
    "y = iris.target\n",
    "\n",
    "# K-Fold 교차검증 설정\n",
    "kf = KFold(n_splits=5)\n",
    "\n",
    "# 모델 초기화\n",
    "model = RandomForestClassifier(n_estimators=100)\n",
    "\n",
    "# 교차검증 점수 계산\n",
    "scores = cross_val_score(model, X, y, cv=kf)\n",
    "print(\"K-Fold 교차검증 점수:\", scores)\n",
    "\n"
   ]
  }
 ],
 "metadata": {
  "language_info": {
   "name": "python"
  }
 },
 "nbformat": 4,
 "nbformat_minor": 2
}
