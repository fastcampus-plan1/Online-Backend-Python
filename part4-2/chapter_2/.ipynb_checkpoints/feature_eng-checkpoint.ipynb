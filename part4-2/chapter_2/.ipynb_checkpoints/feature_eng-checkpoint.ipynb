{
 "cells": [
  {
   "cell_type": "code",
   "execution_count": 9,
   "metadata": {},
   "outputs": [
    {
     "name": "stdout",
     "output_type": "stream",
     "text": [
      "BoW 피처 shape: (11314, 101631)\n",
      "TF-IDF 피처 shape: (11314, 101631)\n",
      "처음 100개의 단어: ['00' '000' '0000' '00000' '000000' '00000000' '0000000004' '00000000b'\n",
      " '00000001' '00000001b' '00000010' '00000010b' '00000011' '00000011b'\n",
      " '00000074' '00000093' '000000e5' '00000100' '00000100b' '00000101'\n",
      " '00000101b' '00000110' '00000110b' '00000111' '00000111b' '000005102000'\n",
      " '00000510200001' '00000ee5' '00001000' '00001000b' '00001001' '00001001b'\n",
      " '00001010' '00001010b' '00001011' '00001011b' '000010af' '00001100'\n",
      " '00001100b' '00001101' '00001101b' '00001110' '00001110b' '00001111'\n",
      " '00001111b' '000042' '000062david42' '000094' '0001' '00010000'\n",
      " '00010000b' '00010001' '00010001b' '00010010' '00010010b' '00010011'\n",
      " '00010011b' '000100255pixel' '00010100' '00010100b' '00010101'\n",
      " '00010101b' '00010110' '00010110b' '00010111' '00010111b' '00011000'\n",
      " '00011000b' '00011001' '00011001b' '00011010' '00011010b' '00011011'\n",
      " '00011011b' '00011100' '00011100b' '00011101' '00011101b' '00011110'\n",
      " '00011110b' '00011111' '00011111b' '00014' '000152' '0001mpc' '0001x7c'\n",
      " '0002' '0003' '0004' '00041032' '0004136' '0004246' '0004422' '00044513'\n",
      " '0004847546' '0005' '0005895485' '0007' '00072' '0007259d']\n"
     ]
    }
   ],
   "source": [
    "import ssl\n",
    "ssl._create_default_https_context = ssl._create_unverified_context\n",
    "\n",
    "from sklearn.datasets import fetch_20newsgroups\n",
    "from sklearn.feature_extraction.text import CountVectorizer, TfidfVectorizer\n",
    "\n",
    "# 데이터 다운로드\n",
    "newsgroups_train = fetch_20newsgroups(subset='train', remove=('headers', 'footers', 'quotes'))\n",
    "print(newsgroups_train\n",
    "# 텍스트 데이터를 피처로 추출하기 위해 CountVectorizer 및 TfidfVectorizer 초기화\n",
    "count_vectorizer = CountVectorizer()\n",
    "tfidf_vectorizer = TfidfVectorizer()\n",
    "# CountVectorizer 객체에서 단어 목록을 가져옴\n",
    "\n",
    "\n",
    "# BoW(Bag-of-Words) 피처 추출\n",
    "X_count = count_vectorizer.fit_transform(newsgroups_train.data)\n",
    "\n",
    "# TF-IDF(Term Frequency-Inverse Document Frequency) 피처 추출\n",
    "X_tfidf = tfidf_vectorizer.fit_transform(newsgroups_train.data)\n",
    "\n",
    "# 추출된 피처의 차원 확인\n",
    "print(\"BoW 피처 shape:\", X_count.shape)\n",
    "print(\"TF-IDF 피처 shape:\", X_tfidf.shape)\n",
    "\n",
    "\n",
    "feature_names = count_vectorizer.get_feature_names_out()\n",
    "\n",
    "# 처음 100개의 단어를 출력\n",
    "print(\"처음 100개의 단어:\", feature_names[:100])"
   ]
  }
 ],
 "metadata": {
  "kernelspec": {
   "display_name": "Python 3 (ipykernel)",
   "language": "python",
   "name": "python3"
  },
  "language_info": {
   "codemirror_mode": {
    "name": "ipython",
    "version": 3
   },
   "file_extension": ".py",
   "mimetype": "text/x-python",
   "name": "python",
   "nbconvert_exporter": "python",
   "pygments_lexer": "ipython3",
   "version": "3.11.5"
  }
 },
 "nbformat": 4,
 "nbformat_minor": 4
}
