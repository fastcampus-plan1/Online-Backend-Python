{
 "cells": [
  {
   "cell_type": "code",
   "execution_count": 24,
   "metadata": {},
   "outputs": [
    {
     "name": "stdout",
     "output_type": "stream",
     "text": [
      "BoW 피처 shape: (4, 9)\n",
      "TF-IDF 피처 shape: (4, 9)\n",
      "처음 100개의 단어: ['and' 'document' 'first' 'is' 'one' 'second' 'the' 'third' 'this']\n"
     ]
    }
   ],
   "source": [
    "import ssl\n",
    "ssl._create_default_https_context = ssl._create_unverified_context\n",
    "\n",
    "from sklearn.datasets import fetch_20newsgroups\n",
    "from sklearn.feature_extraction.text import CountVectorizer, TfidfVectorizer\n",
    "from sklearn.utils import Bunch\n",
    "\n",
    "# 데이터 다운로드\n",
    "# newsgroups_train = fetch_20newsgroups(subset='train', remove=('headers', 'footers', 'quotes'))\n",
    "data = [\n",
    "    \"This is the first document.\",\n",
    "    \"This document is the second document.\",\n",
    "    \"And this is the third one.\",\n",
    "    \"Is this the first document?\",\n",
    "]\n",
    "newsgroups_train = Bunch(data=data)\n",
    "\n",
    "# print(newsgroups_train.data[99])\n",
    "# 텍스트 데이터를 피처로 추출하기 위해 CountVectorizer 및 TfidfVectorizer 초기화\n",
    "count_vectorizer = CountVectorizer()\n",
    "tfidf_vectorizer = TfidfVectorizer()\n",
    "# CountVectorizer 객체에서 단어 목록을 가져옴\n",
    "\n",
    "\n",
    "# BoW(Bag-of-Words) 피처 추출\n",
    "X_count = count_vectorizer.fit_transform(newsgroups_train.data)\n",
    "\n",
    "# TF-IDF(Term Frequency-Inverse Document Frequency) 피처 추출\n",
    "X_tfidf = tfidf_vectorizer.fit_transform(newsgroups_train.data)\n",
    "\n",
    "# 추출된 피처의 차원 확인\n",
    "print(\"BoW 피처 shape:\", X_count.shape)\n",
    "print(\"TF-IDF 피처 shape:\", X_tfidf.shape)\n",
    "\n",
    "\n",
    "feature_names = count_vectorizer.get_feature_names_out()\n",
    "\n",
    "# 처음 100개의 단어를 출력\n",
    "print(\"처음 100개의 단어:\", feature_names[:1000])\n",
    "\n",
    "\n"
   ]
  },
  {
   "cell_type": "code",
   "execution_count": 23,
   "metadata": {},
   "outputs": [
    {
     "name": "stdout",
     "output_type": "stream",
     "text": [
      "{'and': 1, 'document': 4, 'first': 2, 'is': 4, 'one': 1, 'second': 1, 'the': 4, 'third': 1, 'this': 4}\n",
      "Filtered Words: ['document' 'first' 'is' 'the' 'this']\n",
      "Filtered Features:\n",
      "[[1 1 1 1 1]\n",
      " [2 0 1 1 1]\n",
      " [0 0 1 1 1]\n",
      " [1 1 1 1 1]]\n"
     ]
    }
   ],
   "source": [
    "from sklearn.feature_extraction.text import CountVectorizer\n",
    "\n",
    "# 샘플 데이터\n",
    "corpus = [\n",
    "    \"This is the first document.\",\n",
    "    \"This document is the second document.\",\n",
    "    \"And this is the third one.\",\n",
    "    \"Is this the first document?\",\n",
    "]\n",
    "\n",
    "# CountVectorizer 객체 생성\n",
    "count_vectorizer = CountVectorizer()\n",
    "\n",
    "# 코퍼스를 BoW 피처로 변환\n",
    "X = count_vectorizer.fit_transform(corpus)\n",
    "\n",
    "# 단어의 빈도수 계산\n",
    "word_frequencies = X.sum(axis=0)\n",
    "\n",
    "# 단어 빈도수의 딕셔너리 생성\n",
    "word_freq_dict = dict(zip(count_vectorizer.get_feature_names_out(), word_frequencies.tolist()[0]))\n",
    "print(word_freq_dict)\n",
    "# 필터링할 최소 빈도수 설정\n",
    "min_frequency = 2\n",
    "\n",
    "# 최소 빈도수 이상인 단어만 보존\n",
    "filtered_words = [word for word, freq in word_freq_dict.items() if freq >= min_frequency]\n",
    "\n",
    "# 필터링된 단어로 CountVectorizer 객체 생성\n",
    "filtered_count_vectorizer = CountVectorizer(vocabulary=filtered_words)\n",
    "\n",
    "# 필터링된 피처로 다시 변환\n",
    "X_filtered = filtered_count_vectorizer.fit_transform(corpus)\n",
    "\n",
    "# 필터링된 단어 확인\n",
    "print(\"Filtered Words:\", filtered_count_vectorizer.get_feature_names_out())\n",
    "\n",
    "# 필터링된 피처 확인\n",
    "print(\"Filtered Features:\")\n",
    "print(X_filtered.toarray())\n"
   ]
  }
 ],
 "metadata": {
  "kernelspec": {
   "display_name": "Python 3 (ipykernel)",
   "language": "python",
   "name": "python3"
  },
  "language_info": {
   "codemirror_mode": {
    "name": "ipython",
    "version": 3
   },
   "file_extension": ".py",
   "mimetype": "text/x-python",
   "name": "python",
   "nbconvert_exporter": "python",
   "pygments_lexer": "ipython3",
   "version": "3.11.5"
  }
 },
 "nbformat": 4,
 "nbformat_minor": 4
}
