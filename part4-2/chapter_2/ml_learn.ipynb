{
 "cells": [
  {
   "cell_type": "code",
   "execution_count": 11,
   "metadata": {},
   "outputs": [
    {
     "name": "stdout",
     "output_type": "stream",
     "text": [
      "Mean Squared Error: 0.06410886247029468\n",
      "Root Mean Squared Error: 0.2531972797450531\n",
      "Mean Absolute Error: 0.19690374465646387\n",
      "R-squared: 0.7271016126223552\n"
     ]
    }
   ],
   "source": [
    "from sklearn.datasets import load_breast_cancer\n",
    "from sklearn.model_selection import train_test_split, cross_val_score\n",
    "from sklearn.linear_model import LinearRegression\n",
    "from sklearn.metrics import mean_squared_error, mean_absolute_error, root_mean_squared_error, r2_score\n",
    "\n",
    "# 데이터 불러오기\n",
    "bc = load_breast_cancer()\n",
    "X, y = bc.data, bc.target\n",
    "\n",
    "# 데이터 분할\n",
    "X_train, X_test, y_train, y_test = train_test_split(X, y, test_size=0.2, random_state=42)\n",
    "\n",
    "# 모델 학습 및 검증\n",
    "model = LinearRegression()\n",
    "model.fit(X_train, y_train)\n",
    "y_pred = model.predict(X_test)\n",
    "\n",
    "# 평가 지표 계산\n",
    "mse = mean_squared_error(y_test, y_pred)\n",
    "rmse = root_mean_squared_error(y_test, y_pred)\n",
    "mae = mean_absolute_error(y_test, y_pred)\n",
    "r_squared = r2_score(y_test, y_pred)\n",
    "\n",
    "print(\"Mean Squared Error:\", mse)\n",
    "print(\"Root Mean Squared Error:\", rmse)\n",
    "print(\"Mean Absolute Error:\", mae)\n",
    "print(\"R-squared:\", r_squared)\n",
    "\n"
   ]
  },
  {
   "cell_type": "code",
   "execution_count": 16,
   "metadata": {},
   "outputs": [
    {
     "name": "stdout",
     "output_type": "stream",
     "text": [
      "Precision: 0.5\n",
      "Recall: 0.6\n",
      "F1 Score: 0.5454545454545454\n",
      "F1 Score: 0.5454545454545454\n"
     ]
    }
   ],
   "source": [
    "from sklearn.metrics import precision_score, recall_score, f1_score\n",
    "\n",
    "# 실제값과 예측값\n",
    "y_true = [0, 1, 1, 0, 1, 0, 0, 1, 1, 0]\n",
    "y_pred = [0, 1, 0, 0, 1, 1, 1, 1, 0, 1]\n",
    "\n",
    "# 정밀도 계산\n",
    "precision = precision_score(y_true, y_pred)\n",
    "\n",
    "# 재현율 계산\n",
    "recall = recall_score(y_true, y_pred)\n",
    "\n",
    "#f1 score\n",
    "f1 = f1_score(y_true, y_pred)\n",
    "precision_x_recall = precision * recall\n",
    "precision_plus_recall = precision + recall\n",
    "f1_manual = 2 * precision_x_recall / precision_plus_recall\n",
    "\n",
    "print(\"Precision:\", precision)\n",
    "print(\"Recall:\", recall)\n",
    "print(\"F1 Score:\", f1)\n",
    "print(\"F1 Score:\", f1_manual)\n"
   ]
  }
 ],
 "metadata": {
  "kernelspec": {
   "display_name": "Python 3 (ipykernel)",
   "language": "python",
   "name": "python3"
  },
  "language_info": {
   "codemirror_mode": {
    "name": "ipython",
    "version": 3
   },
   "file_extension": ".py",
   "mimetype": "text/x-python",
   "name": "python",
   "nbconvert_exporter": "python",
   "pygments_lexer": "ipython3",
   "version": "3.11.5"
  }
 },
 "nbformat": 4,
 "nbformat_minor": 4
}
