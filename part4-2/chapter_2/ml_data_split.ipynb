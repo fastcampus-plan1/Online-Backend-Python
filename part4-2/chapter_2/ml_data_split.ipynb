{
 "cells": [
  {
   "cell_type": "code",
   "execution_count": 2,
   "metadata": {},
   "outputs": [
    {
     "name": "stdout",
     "output_type": "stream",
     "text": [
      "Random Split:\n",
      "Train set size: 455\n",
      "Test set size: 114\n"
     ]
    }
   ],
   "source": [
    "# 랜덤 데이터 분할\n",
    "from sklearn.datasets import load_breast_cancer\n",
    "from sklearn.model_selection import train_test_split\n",
    "\n",
    "# 보스턴 주택 가격 데이터셋 로드\n",
    "bc = load_breast_cancer()\n",
    "X, y = bc.data, bc.target\n",
    "\n",
    "# 랜덤 데이터 분할\n",
    "X_train_rand, X_test_rand, y_train_rand, y_test_rand = train_test_split(X, y, test_size=0.2, random_state=42)\n",
    "\n",
    "# 각 분할된 데이터셋의 크기 확인\n",
    "print(\"Random Split:\")\n",
    "print(\"Train set size:\", X_train_rand.shape[0])\n",
    "print(\"Test set size:\", X_test_rand.shape[0])\n"
   ]
  },
  {
   "cell_type": "code",
   "execution_count": 3,
   "metadata": {},
   "outputs": [
    {
     "name": "stdout",
     "output_type": "stream",
     "text": [
      "\n",
      "Stratified Split:\n",
      "Train set size: 455\n",
      "Test set size: 114\n"
     ]
    }
   ],
   "source": [
    "# 계층적 데이터 분할\n",
    "from sklearn.datasets import load_breast_cancer\n",
    "from sklearn.model_selection import StratifiedShuffleSplit\n",
    "\n",
    "# 유방암 데이터셋 로드\n",
    "cancer = load_breast_cancer()\n",
    "X, y = cancer.data, cancer.target\n",
    "\n",
    "# 계층적 데이터 분할 (여기서는 타겟 변수를 기준으로 계층적 분할을 수행합니다)\n",
    "stratified_split = StratifiedShuffleSplit(n_splits=1, test_size=0.2, random_state=42)\n",
    "for train_index, test_index in stratified_split.split(X, y):\n",
    "    X_train_strat, X_test_strat = X[train_index], X[test_index]\n",
    "    y_train_strat, y_test_strat = y[train_index], y[test_index]\n",
    "\n",
    "# 각 분할된 데이터셋의 크기 확인\n",
    "print(\"\\nStratified Split:\")\n",
    "print(\"Train set size:\", X_train_strat.shape[0])\n",
    "print(\"Test set size:\", X_test_strat.shape[0])\n"
   ]
  },
  {
   "cell_type": "code",
   "execution_count": 8,
   "metadata": {},
   "outputs": [
    {
     "name": "stdout",
     "output_type": "stream",
     "text": [
      "Train set malignant ratio: 0.37362637362637363\n",
      "Test set malignant ratio: 0.3684210526315789\n"
     ]
    }
   ],
   "source": [
    "from sklearn.datasets import load_breast_cancer\n",
    "from sklearn.model_selection import StratifiedShuffleSplit\n",
    "\n",
    "# 유방암 데이터셋 로드\n",
    "cancer = load_breast_cancer()\n",
    "X, y = cancer.data, cancer.target\n",
    "\n",
    "# 계층적 데이터 분할 (타겟 변수를 기준으로 계층적 분할)\n",
    "stratified_split = StratifiedShuffleSplit(n_splits=1, test_size=0.2, random_state=42)\n",
    "\n",
    "for train_index, test_index in stratified_split.split(X, y):\n",
    "    X_train_strat, X_test_strat = X[train_index], X[test_index]\n",
    "    y_train_strat, y_test_strat = y[train_index], y[test_index]\n",
    "\n",
    "# 분할된 데이터셋의 클래스 비율 확인\n",
    "train_malignant_ratio = sum(y_train_strat == 0) / len(y_train_strat)\n",
    "test_malignant_ratio = sum(y_test_strat == 0) / len(y_test_strat)\n",
    "\n",
    "print(\"Train set malignant ratio:\", train_malignant_ratio)\n",
    "print(\"Test set malignant ratio:\", test_malignant_ratio)\n"
   ]
  },
  {
   "cell_type": "code",
   "execution_count": 7,
   "metadata": {},
   "outputs": [
    {
     "name": "stdout",
     "output_type": "stream",
     "text": [
      "\n",
      "Time Series Split:\n",
      "Train set size: 475\n",
      "Test set size: 94\n"
     ]
    }
   ],
   "source": [
    "#시계열 데이터 분할\n",
    "from sklearn.datasets import load_breast_cancer\n",
    "from sklearn.model_selection import TimeSeriesSplit\n",
    "\n",
    "# 유방암 데이터셋 로드\n",
    "cancer = load_breast_cancer()\n",
    "X, y = cancer.data, cancer.target\n",
    "\n",
    "# 시계열 데이터 분할 (여기서는 시간에 따라 데이터를 분할합니다)\n",
    "time_split = TimeSeriesSplit(n_splits=5)\n",
    "for train_index, test_index in time_split.split(X):\n",
    "    X_train_time, X_test_time = X[train_index], X[test_index]\n",
    "    y_train_time, y_test_time = y[train_index], y[test_index]\n",
    "\n",
    "# 각 분할된 데이터셋의 크기 확인\n",
    "print(\"\\nTime Series Split:\")\n",
    "print(\"Train set size:\", X_train_time.shape[0])\n",
    "print(\"Test set size:\", X_test_time.shape[0])\n"
   ]
  }
 ],
 "metadata": {
  "kernelspec": {
   "display_name": "Python 3 (ipykernel)",
   "language": "python",
   "name": "python3"
  },
  "language_info": {
   "codemirror_mode": {
    "name": "ipython",
    "version": 3
   },
   "file_extension": ".py",
   "mimetype": "text/x-python",
   "name": "python",
   "nbconvert_exporter": "python",
   "pygments_lexer": "ipython3",
   "version": "3.11.5"
  }
 },
 "nbformat": 4,
 "nbformat_minor": 4
}
