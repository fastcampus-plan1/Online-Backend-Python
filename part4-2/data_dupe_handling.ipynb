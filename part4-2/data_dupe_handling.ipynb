{
 "cells": [
  {
   "cell_type": "code",
   "execution_count": 2,
   "metadata": {},
   "outputs": [
    {
     "name": "stdout",
     "output_type": "stream",
     "text": [
      "     customer_id         name   age                    email  \\\n",
      "100            1    Customer1   NaN    customer1@example.com   \n",
      "101            2    Customer2   NaN    customer2@example.com   \n",
      "102            3    Customer3   NaN    customer3@example.com   \n",
      "103            4    Customer4   NaN    customer4@example.com   \n",
      "104            5    Customer5   NaN    customer5@example.com   \n",
      "..           ...          ...   ...                      ...   \n",
      "195           96   Customer96  41.0   customer96@example.com   \n",
      "196           97   Customer97  54.0   customer97@example.com   \n",
      "197           98   Customer98  58.0   customer98@example.com   \n",
      "198           99   Customer99  43.0   customer99@example.com   \n",
      "199          100  Customer100  53.0  customer100@example.com   \n",
      "\n",
      "                      join_date  \n",
      "100  2023-11-18 06:54:12.149395  \n",
      "101  2023-01-28 06:54:12.149415  \n",
      "102  2023-09-16 06:54:12.149422  \n",
      "103  2023-08-29 06:54:12.149427  \n",
      "104  2023-12-23 06:54:12.149433  \n",
      "..                          ...  \n",
      "195  2023-01-15 06:54:12.149919  \n",
      "196  2023-12-07 06:54:12.149924  \n",
      "197  2023-05-25 06:54:12.149929  \n",
      "198  2023-09-08 06:54:12.149934  \n",
      "199  2023-10-30 06:54:12.149940  \n",
      "\n",
      "[100 rows x 5 columns]\n"
     ]
    }
   ],
   "source": [
    "import pandas as pd\n",
    "\n",
    "df = pd.read_csv(\"csv_files/combined_customers.csv\")\n",
    "duplicates = df.duplicated(subset='customer_id', keep='first')\n",
    "print(df[duplicates])"
   ]
  },
  {
   "cell_type": "code",
   "execution_count": 3,
   "metadata": {},
   "outputs": [
    {
     "name": "stdout",
     "output_type": "stream",
     "text": [
      "     customer_id         name   age                    email  \\\n",
      "0              1    Customer1   NaN    customer1@example.com   \n",
      "1              2    Customer2   NaN    customer2@example.com   \n",
      "2              3    Customer3   NaN    customer3@example.com   \n",
      "3              4    Customer4   NaN    customer4@example.com   \n",
      "4              5    Customer5   NaN    customer5@example.com   \n",
      "..           ...          ...   ...                      ...   \n",
      "495          396  Customer396  54.0  customer396@example.com   \n",
      "496          397  Customer397  57.0  customer397@example.com   \n",
      "497          398  Customer398  68.0  customer398@example.com   \n",
      "498          399  Customer399  29.0  customer399@example.com   \n",
      "499          400  Customer400  57.0  customer400@example.com   \n",
      "\n",
      "                      join_date  \n",
      "0    2023-01-27 06:52:22.275679  \n",
      "1    2023-07-15 06:52:22.275698  \n",
      "2    2023-01-24 06:52:22.275704  \n",
      "3    2023-03-25 06:52:22.275709  \n",
      "4    2023-03-25 06:52:22.275713  \n",
      "..                          ...  \n",
      "495  2023-02-09 06:54:12.151607  \n",
      "496  2023-03-25 06:54:12.151613  \n",
      "497  2023-02-19 06:54:12.151618  \n",
      "498  2023-07-18 06:54:12.151624  \n",
      "499  2023-01-22 06:54:12.151629  \n",
      "\n",
      "[400 rows x 5 columns]\n"
     ]
    }
   ],
   "source": [
    "import pandas as pd\n",
    "\n",
    "df = pd.read_csv(\"csv_files/combined_customers.csv\")\n",
    "df.drop_duplicates(subset='customer_id', keep='first', inplace=True)\n",
    "print(df)"
   ]
  }
 ],
 "metadata": {
  "kernelspec": {
   "display_name": "venv",
   "language": "python",
   "name": "python3"
  },
  "language_info": {
   "codemirror_mode": {
    "name": "ipython",
    "version": 3
   },
   "file_extension": ".py",
   "mimetype": "text/x-python",
   "name": "python",
   "nbconvert_exporter": "python",
   "pygments_lexer": "ipython3",
   "version": "3.11.5"
  }
 },
 "nbformat": 4,
 "nbformat_minor": 2
}
