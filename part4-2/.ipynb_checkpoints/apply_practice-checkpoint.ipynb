{
 "cells": [
  {
   "cell_type": "code",
   "execution_count": 1,
   "metadata": {},
   "outputs": [
    {
     "name": "stdout",
     "output_type": "stream",
     "text": [
      "     customer_id         name    age                    email  \\\n",
      "0              1    Customer1    NaN    customer1@example.com   \n",
      "1              2    Customer2    NaN    customer2@example.com   \n",
      "2              3    Customer3    NaN    customer3@example.com   \n",
      "3              4    Customer4    NaN    customer4@example.com   \n",
      "4              5    Customer5    NaN    customer5@example.com   \n",
      "..           ...          ...    ...                      ...   \n",
      "495          396  Customer396  108.0  customer396@example.com   \n",
      "496          397  Customer397  114.0  customer397@example.com   \n",
      "497          398  Customer398  136.0  customer398@example.com   \n",
      "498          399  Customer399   58.0  customer399@example.com   \n",
      "499          400  Customer400  114.0  customer400@example.com   \n",
      "\n",
      "                      join_date  \n",
      "0    2023-01-27 06:52:22.275679  \n",
      "1    2023-07-15 06:52:22.275698  \n",
      "2    2023-01-24 06:52:22.275704  \n",
      "3    2023-03-25 06:52:22.275709  \n",
      "4    2023-03-25 06:52:22.275713  \n",
      "..                          ...  \n",
      "495  2023-02-09 06:54:12.151607  \n",
      "496  2023-03-25 06:54:12.151613  \n",
      "497  2023-02-19 06:54:12.151618  \n",
      "498  2023-07-18 06:54:12.151624  \n",
      "499  2023-01-22 06:54:12.151629  \n",
      "\n",
      "[500 rows x 5 columns]\n"
     ]
    },
    {
     "name": "stderr",
     "output_type": "stream",
     "text": [
      "/var/folders/dg/k946k57108n2bklvf_jw_3y80000gq/T/ipykernel_90854/1368723007.py:1: DeprecationWarning: \n",
      "Pyarrow will become a required dependency of pandas in the next major release of pandas (pandas 3.0),\n",
      "(to allow more performant data types, such as the Arrow string type, and better interoperability with other libraries)\n",
      "but was not found to be installed on your system.\n",
      "If this would cause problems for you,\n",
      "please provide us feedback at https://github.com/pandas-dev/pandas/issues/54466\n",
      "        \n",
      "  import pandas as pd\n"
     ]
    }
   ],
   "source": [
    "import pandas as pd\n",
    "\n",
    "def doubling_age(num):\n",
    "    return num * 2\n",
    "\n",
    "df = pd.read_csv(\"csv_files/combined_customers.csv\")\n",
    "df[\"age\"] = df[\"age\"].apply(doubling_age)\n",
    "print(df)\n"
   ]
  },
  {
   "cell_type": "code",
   "execution_count": 2,
   "metadata": {},
   "outputs": [
    {
     "name": "stdout",
     "output_type": "stream",
     "text": [
      "     customer_id         name    age                    email  \\\n",
      "0              1    Customer1    NaN    customer1@example.com   \n",
      "1              2    Customer2    NaN    customer2@example.com   \n",
      "2              3    Customer3    NaN    customer3@example.com   \n",
      "3              4    Customer4    NaN    customer4@example.com   \n",
      "4              5    Customer5    NaN    customer5@example.com   \n",
      "..           ...          ...    ...                      ...   \n",
      "495          396  Customer396  108.0  customer396@example.com   \n",
      "496          397  Customer397  114.0  customer397@example.com   \n",
      "497          398  Customer398  136.0  customer398@example.com   \n",
      "498          399  Customer399   58.0  customer399@example.com   \n",
      "499          400  Customer400  114.0  customer400@example.com   \n",
      "\n",
      "                      join_date  \n",
      "0    2023-01-27 06:52:22.275679  \n",
      "1    2023-07-15 06:52:22.275698  \n",
      "2    2023-01-24 06:52:22.275704  \n",
      "3    2023-03-25 06:52:22.275709  \n",
      "4    2023-03-25 06:52:22.275713  \n",
      "..                          ...  \n",
      "495  2023-02-09 06:54:12.151607  \n",
      "496  2023-03-25 06:54:12.151613  \n",
      "497  2023-02-19 06:54:12.151618  \n",
      "498  2023-07-18 06:54:12.151624  \n",
      "499  2023-01-22 06:54:12.151629  \n",
      "\n",
      "[500 rows x 5 columns]\n"
     ]
    }
   ],
   "source": [
    "import pandas as pd\n",
    "\n",
    "def doubling_age(num):\n",
    "    return num * 2\n",
    "\n",
    "df = pd.read_csv(\"csv_files/combined_customers.csv\")\n",
    "df[\"age\"] = df[\"age\"].apply(lambda x: x * 2)\n",
    "print(df)"
   ]
  }
 ],
 "metadata": {
  "kernelspec": {
   "display_name": "venv",
   "language": "python",
   "name": "python3"
  },
  "language_info": {
   "codemirror_mode": {
    "name": "ipython",
    "version": 3
   },
   "file_extension": ".py",
   "mimetype": "text/x-python",
   "name": "python",
   "nbconvert_exporter": "python",
   "pygments_lexer": "ipython3",
   "version": "3.11.5"
  }
 },
 "nbformat": 4,
 "nbformat_minor": 2
}
