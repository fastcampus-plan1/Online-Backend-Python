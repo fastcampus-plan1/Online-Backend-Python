{
 "cells": [
  {
   "cell_type": "code",
   "execution_count": 10,
   "metadata": {},
   "outputs": [
    {
     "name": "stdout",
     "output_type": "stream",
     "text": [
      "30.25\n",
      "57.75\n",
      "27.5\n",
      "     customer_id        name    age                   email  \\\n",
      "124           25  Customer25  690.0  customer25@example.com   \n",
      "\n",
      "                      join_date  \n",
      "124  2023-08-29 06:54:12.149540  \n"
     ]
    },
    {
     "data": {
      "image/png": "[encoded data removed]",
      "text/plain": [
       "<Figure size 640x480 with 1 Axes>"
      ]
     },
     "metadata": {},
     "output_type": "display_data"
    }
   ],
   "source": [
    "import pandas as pd\n",
    "\n",
    "df = pd.read_csv(\"csv_files/combined_customers.csv\")\n",
    "Q1 = df['age'].quantile(0.25)\n",
    "Q3 = df['age'].quantile(0.75)\n",
    "IQR = Q3 - Q1\n",
    "print(Q1)\n",
    "print(Q3)\n",
    "print(IQR)\n",
    "\n",
    "# 이상치 탐지\n",
    "outliers = df[(df['age'] < (Q1 - 1.5 * IQR)) | (df['age'] > (Q3 + 1.5 * IQR))]\n",
    "print(outliers)\n",
    "import seaborn as sns\n",
    "import matplotlib.pyplot as plt\n",
    "\n",
    "# 박스 플롯을 사용한 이상치 시각화\n",
    "sns.boxplot(x=df['age'])\n",
    "plt.show()"
   ]
  },
  {
   "cell_type": "code",
   "execution_count": 8,
   "metadata": {},
   "outputs": [
    {
     "name": "stdout",
     "output_type": "stream",
     "text": [
      "     customer_id        name    age                   email  \\\n",
      "124           25  Customer25  690.0  customer25@example.com   \n",
      "\n",
      "                      join_date    z_score  \n",
      "124  2023-08-29 06:54:12.149540  19.370272  \n"
     ]
    }
   ],
   "source": [
    "import pandas as pd\n",
    "import numpy as np\n",
    "\n",
    "df = pd.read_csv(\"csv_files/combined_customers.csv\")\n",
    "mean_age = np.mean(df['age'])\n",
    "std_age = np.std(df['age'])\n",
    "\n",
    "# Z-Score 계산\n",
    "df['z_score'] = (df['age'] - mean_age) / std_age\n",
    "\n",
    "# 이상치 탐지\n",
    "outliers = df[np.abs(df['z_score']) > 3]\n",
    "print(outliers)"
   ]
  }
 ],
 "metadata": {
  "kernelspec": {
   "display_name": "venv",
   "language": "python",
   "name": "python3"
  },
  "language_info": {
   "codemirror_mode": {
    "name": "ipython",
    "version": 3
   },
   "file_extension": ".py",
   "mimetype": "text/x-python",
   "name": "python",
   "nbconvert_exporter": "python",
   "pygments_lexer": "ipython3",
   "version": "3.11.5"
  }
 },
 "nbformat": 4,
 "nbformat_minor": 2
}
