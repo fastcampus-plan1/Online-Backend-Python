{
 "cells": [
  {
   "cell_type": "code",
   "execution_count": 3,
   "metadata": {},
   "outputs": [
    {
     "name": "stdout",
     "output_type": "stream",
     "text": [
      "     customer_id         name   age                    email  \\\n",
      "0              1    Customer1   NaN    customer1@example.com   \n",
      "1              2    Customer2   NaN    customer2@example.com   \n",
      "2              3    Customer3   NaN    customer3@example.com   \n",
      "3              4    Customer4   NaN    customer4@example.com   \n",
      "4              5    Customer5   NaN    customer5@example.com   \n",
      "..           ...          ...   ...                      ...   \n",
      "495          396  Customer396  54.0  customer396@example.com   \n",
      "496          397  Customer397  57.0  customer397@example.com   \n",
      "497          398  Customer398  68.0  customer398@example.com   \n",
      "498          399  Customer399  29.0  customer399@example.com   \n",
      "499          400  Customer400  57.0  customer400@example.com   \n",
      "\n",
      "                      join_date  age_x2  \n",
      "0    2023-01-27 06:52:22.275679     NaN  \n",
      "1    2023-07-15 06:52:22.275698     NaN  \n",
      "2    2023-01-24 06:52:22.275704     NaN  \n",
      "3    2023-03-25 06:52:22.275709     NaN  \n",
      "4    2023-03-25 06:52:22.275713     NaN  \n",
      "..                          ...     ...  \n",
      "495  2023-02-09 06:54:12.151607   108.0  \n",
      "496  2023-03-25 06:54:12.151613   114.0  \n",
      "497  2023-02-19 06:54:12.151618   136.0  \n",
      "498  2023-07-18 06:54:12.151624    58.0  \n",
      "499  2023-01-22 06:54:12.151629   114.0  \n",
      "\n",
      "[500 rows x 6 columns]\n"
     ]
    }
   ],
   "source": [
    "import pandas as pd\n",
    "\n",
    "def doubling_age(num):\n",
    "    return num * 2\n",
    "\n",
    "df = pd.read_csv(\"csv_files/combined_customers.csv\")\n",
    "df[\"age_x2\"] = df[\"age\"].apply(doubling_age)\n",
    "print(df)\n"
   ]
  },
  {
   "cell_type": "code",
   "execution_count": 5,
   "metadata": {},
   "outputs": [
    {
     "name": "stdout",
     "output_type": "stream",
     "text": [
      "     customer_id         name   age                    email  \\\n",
      "0              1    Customer1   NaN    customer1@example.com   \n",
      "1              2    Customer2   NaN    customer2@example.com   \n",
      "2              3    Customer3   NaN    customer3@example.com   \n",
      "3              4    Customer4   NaN    customer4@example.com   \n",
      "4              5    Customer5   NaN    customer5@example.com   \n",
      "..           ...          ...   ...                      ...   \n",
      "495          396  Customer396  54.0  customer396@example.com   \n",
      "496          397  Customer397  57.0  customer397@example.com   \n",
      "497          398  Customer398  68.0  customer398@example.com   \n",
      "498          399  Customer399  29.0  customer399@example.com   \n",
      "499          400  Customer400  57.0  customer400@example.com   \n",
      "\n",
      "                      join_date  age_x2  \n",
      "0    2023-01-27 06:52:22.275679     NaN  \n",
      "1    2023-07-15 06:52:22.275698     NaN  \n",
      "2    2023-01-24 06:52:22.275704     NaN  \n",
      "3    2023-03-25 06:52:22.275709     NaN  \n",
      "4    2023-03-25 06:52:22.275713     NaN  \n",
      "..                          ...     ...  \n",
      "495  2023-02-09 06:54:12.151607   108.0  \n",
      "496  2023-03-25 06:54:12.151613   114.0  \n",
      "497  2023-02-19 06:54:12.151618   136.0  \n",
      "498  2023-07-18 06:54:12.151624    58.0  \n",
      "499  2023-01-22 06:54:12.151629   114.0  \n",
      "\n",
      "[500 rows x 6 columns]\n"
     ]
    }
   ],
   "source": [
    "import pandas as pd\n",
    "\n",
    "\n",
    "df = pd.read_csv(\"csv_files/combined_customers.csv\")\n",
    "df[\"age_x2\"] = df[\"age\"].apply(lambda x: x * 2)\n",
    "print(df)"
   ]
  }
 ],
 "metadata": {
  "kernelspec": {
   "display_name": "Python 3 (ipykernel)",
   "language": "python",
   "name": "python3"
  },
  "language_info": {
   "codemirror_mode": {
    "name": "ipython",
    "version": 3
   },
   "file_extension": ".py",
   "mimetype": "text/x-python",
   "name": "python",
   "nbconvert_exporter": "python",
   "pygments_lexer": "ipython3",
   "version": "3.11.5"
  }
 },
 "nbformat": 4,
 "nbformat_minor": 4
}
