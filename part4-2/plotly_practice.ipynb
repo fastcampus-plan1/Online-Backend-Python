{
 "cells": [
  {
   "cell_type": "code",
   "execution_count": 4,
   "metadata": {},
   "outputs": [
    {
     "data": {
      "application/vnd.plotly.v1+json": {
       "config": {
        "plotlyServerURL": "https://plot.ly"
       },
       "data": [
        {
         "hovertemplate": "variable=0<br>index=%{x}<br>value=%{y}<extra></extra>",
         "legendgroup": "0",
         "line": {
          "color": "#636efa",
          "dash": "solid"
         },
         "marker": {
          "symbol": "circle"
         },
         "mode": "lines",
         "name": "0",
         "orientation": "v",
         "showlegend": true,
         "type": "scatter",
         "x": [
          0,
          1,
          2,
          3,
          4
         ],
         "xaxis": "x",
         "y": [
          1,
          2,
          3,
          4,
          5
         ],
         "yaxis": "y"
        }
       ],
       "layout": {
        "autosize": true,
        "legend": {
         "title": {
          "text": "variable"
         },
         "tracegroupgap": 0
        },
        "template": {
         "data": {
          "bar": [
           {
            "error_x": {
             "color": "#2a3f5f"
            },
            "error_y": {
             "color": "#2a3f5f"
            },
            "marker": {
             "line": {
              "color": "#E5ECF6",
              "width": 0.5
             },
             "pattern": {
              "fillmode": "overlay",
              "size": 10,
              "solidity": 0.2
             }
            },
            "type": "bar"
           }
          ],
          "barpolar": [
           {
            "marker": {
             "line": {
              "color": "#E5ECF6",
              "width": 0.5
             },
             "pattern": {
              "fillmode": "overlay",
              "size": 10,
              "solidity": 0.2
             }
            },
            "type": "barpolar"
           }
          ],
          "carpet": [
           {
            "aaxis": {
             "endlinecolor": "#2a3f5f",
             "gridcolor": "white",
             "linecolor": "white",
             "minorgridcolor": "white",
             "startlinecolor": "#2a3f5f"
            },
            "baxis": {
             "endlinecolor": "#2a3f5f",
             "gridcolor": "white",
             "linecolor": "white",
             "minorgridcolor": "white",
             "startlinecolor": "#2a3f5f"
            },
            "type": "carpet"
           }
          ],
          "choropleth": [
           {
            "colorbar": {
             "outlinewidth": 0,
             "ticks": ""
            },
            "type": "choropleth"
           }
          ],
          "contour": [
           {
            "colorbar": {
             "outlinewidth": 0,
             "ticks": ""
            },
            "colorscale": [
             [
              0,
              "#0d0887"
             ],
             [
              0.1111111111111111,
              "#46039f"
             ],
             [
              0.2222222222222222,
              "#7201a8"
             ],
             [
              0.3333333333333333,
              "#9c179e"
             ],
             [
              0.4444444444444444,
              "#bd3786"
             ],
             [
              0.5555555555555556,
              "#d8576b"
             ],
             [
              0.6666666666666666,
              "#ed7953"
             ],
             [
              0.7777777777777778,
              "#fb9f3a"
             ],
             [
              0.8888888888888888,
              "#fdca26"
             ],
             [
              1,
              "#f0f921"
             ]
            ],
            "type": "contour"
           }
          ],
          "contourcarpet": [
           {
            "colorbar": {
             "outlinewidth": 0,
             "ticks": ""
            },
            "type": "contourcarpet"
           }
          ],
          "heatmap": [
           {
            "colorbar": {
             "outlinewidth": 0,
             "ticks": ""
            },
            "colorscale": [
             [
              0,
              "#0d0887"
             ],
             [
              0.1111111111111111,
              "#46039f"
             ],
             [
              0.2222222222222222,
              "#7201a8"
             ],
             [
              0.3333333333333333,
              "#9c179e"
             ],
             [
              0.4444444444444444,
              "#bd3786"
             ],
             [
              0.5555555555555556,
              "#d8576b"
             ],
             [
              0.6666666666666666,
              "#ed7953"
             ],
             [
              0.7777777777777778,
              "#fb9f3a"
             ],
             [
              0.8888888888888888,
              "#fdca26"
             ],
             [
              1,
              "#f0f921"
             ]
            ],
            "type": "heatmap"
           }
          ],
          "heatmapgl": [
           {
            "colorbar": {
             "outlinewidth": 0,
             "ticks": ""
            },
            "colorscale": [
             [
              0,
              "#0d0887"
             ],
             [
              0.1111111111111111,
              "#46039f"
             ],
             [
              0.2222222222222222,
              "#7201a8"
             ],
             [
              0.3333333333333333,
              "#9c179e"
             ],
             [
              0.4444444444444444,
              "#bd3786"
             ],
             [
              0.5555555555555556,
              "#d8576b"
             ],
             [
              0.6666666666666666,
              "#ed7953"
             ],
             [
              0.7777777777777778,
              "#fb9f3a"
             ],
             [
              0.8888888888888888,
              "#fdca26"
             ],
             [
              1,
              "#f0f921"
             ]
            ],
            "type": "heatmapgl"
           }
          ],
          "histogram": [
           {
            "marker": {
             "pattern": {
              "fillmode": "overlay",
              "size": 10,
              "solidity": 0.2
             }
            },
            "type": "histogram"
           }
          ],
          "histogram2d": [
           {
            "colorbar": {
             "outlinewidth": 0,
             "ticks": ""
            },
            "colorscale": [
             [
              0,
              "#0d0887"
             ],
             [
              0.1111111111111111,
              "#46039f"
             ],
             [
              0.2222222222222222,
              "#7201a8"
             ],
             [
              0.3333333333333333,
              "#9c179e"
             ],
             [
              0.4444444444444444,
              "#bd3786"
             ],
             [
              0.5555555555555556,
              "#d8576b"
             ],
             [
              0.6666666666666666,
              "#ed7953"
             ],
             [
              0.7777777777777778,
              "#fb9f3a"
             ],
             [
              0.8888888888888888,
              "#fdca26"
             ],
             [
              1,
              "#f0f921"
             ]
            ],
            "type": "histogram2d"
           }
          ],
          "histogram2dcontour": [
           {
            "colorbar": {
             "outlinewidth": 0,
             "ticks": ""
            },
            "colorscale": [
             [
              0,
              "#0d0887"
             ],
             [
              0.1111111111111111,
              "#46039f"
             ],
             [
              0.2222222222222222,
              "#7201a8"
             ],
             [
              0.3333333333333333,
              "#9c179e"
             ],
             [
              0.4444444444444444,
              "#bd3786"
             ],
             [
              0.5555555555555556,
              "#d8576b"
             ],
             [
              0.6666666666666666,
              "#ed7953"
             ],
             [
              0.7777777777777778,
              "#fb9f3a"
             ],
             [
              0.8888888888888888,
              "#fdca26"
             ],
             [
              1,
              "#f0f921"
             ]
            ],
            "type": "histogram2dcontour"
           }
          ],
          "mesh3d": [
           {
            "colorbar": {
             "outlinewidth": 0,
             "ticks": ""
            },
            "type": "mesh3d"
           }
          ],
          "parcoords": [
           {
            "line": {
             "colorbar": {
              "outlinewidth": 0,
              "ticks": ""
             }
            },
            "type": "parcoords"
           }
          ],
          "pie": [
           {
            "automargin": true,
            "type": "pie"
           }
          ],
          "scatter": [
           {
            "fillpattern": {
             "fillmode": "overlay",
             "size": 10,
             "solidity": 0.2
            },
            "type": "scatter"
           }
          ],
          "scatter3d": [
           {
            "line": {
             "colorbar": {
              "outlinewidth": 0,
              "ticks": ""
             }
            },
            "marker": {
             "colorbar": {
              "outlinewidth": 0,
              "ticks": ""
             }
            },
            "type": "scatter3d"
           }
          ],
          "scattercarpet": [
           {
            "marker": {
             "colorbar": {
              "outlinewidth": 0,
              "ticks": ""
             }
            },
            "type": "scattercarpet"
           }
          ],
          "scattergeo": [
           {
            "marker": {
             "colorbar": {
              "outlinewidth": 0,
              "ticks": ""
             }
            },
            "type": "scattergeo"
           }
          ],
          "scattergl": [
           {
            "marker": {
             "colorbar": {
              "outlinewidth": 0,
              "ticks": ""
             }
            },
            "type": "scattergl"
           }
          ],
          "scattermapbox": [
           {
            "marker": {
             "colorbar": {
              "outlinewidth": 0,
              "ticks": ""
             }
            },
            "type": "scattermapbox"
           }
          ],
          "scatterpolar": [
           {
            "marker": {
             "colorbar": {
              "outlinewidth": 0,
              "ticks": ""
             }
            },
            "type": "scatterpolar"
           }
          ],
          "scatterpolargl": [
           {
            "marker": {
             "colorbar": {
              "outlinewidth": 0,
              "ticks": ""
             }
            },
            "type": "scatterpolargl"
           }
          ],
          "scatterternary": [
           {
            "marker": {
             "colorbar": {
              "outlinewidth": 0,
              "ticks": ""
             }
            },
            "type": "scatterternary"
           }
          ],
          "surface": [
           {
            "colorbar": {
             "outlinewidth": 0,
             "ticks": ""
            },
            "colorscale": [
             [
              0,
              "#0d0887"
             ],
             [
              0.1111111111111111,
              "#46039f"
             ],
             [
              0.2222222222222222,
              "#7201a8"
             ],
             [
              0.3333333333333333,
              "#9c179e"
             ],
             [
              0.4444444444444444,
              "#bd3786"
             ],
             [
              0.5555555555555556,
              "#d8576b"
             ],
             [
              0.6666666666666666,
              "#ed7953"
             ],
             [
              0.7777777777777778,
              "#fb9f3a"
             ],
             [
              0.8888888888888888,
              "#fdca26"
             ],
             [
              1,
              "#f0f921"
             ]
            ],
            "type": "surface"
           }
          ],
          "table": [
           {
            "cells": {
             "fill": {
              "color": "#EBF0F8"
             },
             "line": {
              "color": "white"
             }
            },
            "header": {
             "fill": {
              "color": "#C8D4E3"
             },
             "line": {
              "color": "white"
             }
            },
            "type": "table"
           }
          ]
         },
         "layout": {
          "annotationdefaults": {
           "arrowcolor": "#2a3f5f",
           "arrowhead": 0,
           "arrowwidth": 1
          },
          "autotypenumbers": "strict",
          "coloraxis": {
           "colorbar": {
            "outlinewidth": 0,
            "ticks": ""
           }
          },
          "colorscale": {
           "diverging": [
            [
             0,
             "#8e0152"
            ],
            [
             0.1,
             "#c51b7d"
            ],
            [
             0.2,
             "#de77ae"
            ],
            [
             0.3,
             "#f1b6da"
            ],
            [
             0.4,
             "#fde0ef"
            ],
            [
             0.5,
             "#f7f7f7"
            ],
            [
             0.6,
             "#e6f5d0"
            ],
            [
             0.7,
             "#b8e186"
            ],
            [
             0.8,
             "#7fbc41"
            ],
            [
             0.9,
             "#4d9221"
            ],
            [
             1,
             "#276419"
            ]
           ],
           "sequential": [
            [
             0,
             "#0d0887"
            ],
            [
             0.1111111111111111,
             "#46039f"
            ],
            [
             0.2222222222222222,
             "#7201a8"
            ],
            [
             0.3333333333333333,
             "#9c179e"
            ],
            [
             0.4444444444444444,
             "#bd3786"
            ],
            [
             0.5555555555555556,
             "#d8576b"
            ],
            [
             0.6666666666666666,
             "#ed7953"
            ],
            [
             0.7777777777777778,
             "#fb9f3a"
            ],
            [
             0.8888888888888888,
             "#fdca26"
            ],
            [
             1,
             "#f0f921"
            ]
           ],
           "sequentialminus": [
            [
             0,
             "#0d0887"
            ],
            [
             0.1111111111111111,
             "#46039f"
            ],
            [
             0.2222222222222222,
             "#7201a8"
            ],
            [
             0.3333333333333333,
             "#9c179e"
            ],
            [
             0.4444444444444444,
             "#bd3786"
            ],
            [
             0.5555555555555556,
             "#d8576b"
            ],
            [
             0.6666666666666666,
             "#ed7953"
            ],
            [
             0.7777777777777778,
             "#fb9f3a"
            ],
            [
             0.8888888888888888,
             "#fdca26"
            ],
            [
             1,
             "#f0f921"
            ]
           ]
          },
          "colorway": [
           "#636efa",
           "#EF553B",
           "#00cc96",
           "#ab63fa",
           "#FFA15A",
           "#19d3f3",
           "#FF6692",
           "#B6E880",
           "#FF97FF",
           "#FECB52"
          ],
          "font": {
           "color": "#2a3f5f"
          },
          "geo": {
           "bgcolor": "white",
           "lakecolor": "white",
           "landcolor": "#E5ECF6",
           "showlakes": true,
           "showland": true,
           "subunitcolor": "white"
          },
          "hoverlabel": {
           "align": "left"
          },
          "hovermode": "closest",
          "mapbox": {
           "style": "light"
          },
          "paper_bgcolor": "white",
          "plot_bgcolor": "#E5ECF6",
          "polar": {
           "angularaxis": {
            "gridcolor": "white",
            "linecolor": "white",
            "ticks": ""
           },
           "bgcolor": "#E5ECF6",
           "radialaxis": {
            "gridcolor": "white",
            "linecolor": "white",
            "ticks": ""
           }
          },
          "scene": {
           "xaxis": {
            "backgroundcolor": "#E5ECF6",
            "gridcolor": "white",
            "gridwidth": 2,
            "linecolor": "white",
            "showbackground": true,
            "ticks": "",
            "zerolinecolor": "white"
           },
           "yaxis": {
            "backgroundcolor": "#E5ECF6",
            "gridcolor": "white",
            "gridwidth": 2,
            "linecolor": "white",
            "showbackground": true,
            "ticks": "",
            "zerolinecolor": "white"
           },
           "zaxis": {
            "backgroundcolor": "#E5ECF6",
            "gridcolor": "white",
            "gridwidth": 2,
            "linecolor": "white",
            "showbackground": true,
            "ticks": "",
            "zerolinecolor": "white"
           }
          },
          "shapedefaults": {
           "line": {
            "color": "#2a3f5f"
           }
          },
          "ternary": {
           "aaxis": {
            "gridcolor": "white",
            "linecolor": "white",
            "ticks": ""
           },
           "baxis": {
            "gridcolor": "white",
            "linecolor": "white",
            "ticks": ""
           },
           "bgcolor": "#E5ECF6",
           "caxis": {
            "gridcolor": "white",
            "linecolor": "white",
            "ticks": ""
           }
          },
          "title": {
           "x": 0.05
          },
          "xaxis": {
           "automargin": true,
           "gridcolor": "white",
           "linecolor": "white",
           "ticks": "",
           "title": {
            "standoff": 15
           },
           "zerolinecolor": "white",
           "zerolinewidth": 2
          },
          "yaxis": {
           "automargin": true,
           "gridcolor": "white",
           "linecolor": "white",
           "ticks": "",
           "title": {
            "standoff": 15
           },
           "zerolinecolor": "white",
           "zerolinewidth": 2
          }
         }
        },
        "title": {
         "text": "Simple Line Plot"
        },
        "xaxis": {
         "anchor": "y",
         "autorange": true,
         "domain": [
          0,
          1
         ],
         "range": [
          0,
          4
         ],
         "title": {
          "text": "index"
         },
         "type": "linear"
        },
        "yaxis": {
         "anchor": "x",
         "autorange": true,
         "domain": [
          0,
          1
         ],
         "range": [
          0.7777777777777778,
          5.222222222222222
         ],
         "title": {
          "text": "value"
         },
         "type": "linear"
        }
       }
      },
      "image/png": "[encoded data removed]",
      "text/html": [
       "<div>                            <div id=\"673449e0-5d77-4f89-a967-a4b826d3c880\" class=\"plotly-graph-div\" style=\"height:525px; width:100%;\"></div>            <script type=\"text/javascript\">                require([\"plotly\"], function(Plotly) {                    window.PLOTLYENV=window.PLOTLYENV || {};                                    if (document.getElementById(\"673449e0-5d77-4f89-a967-a4b826d3c880\")) {                    Plotly.newPlot(                        \"673449e0-5d77-4f89-a967-a4b826d3c880\",                        [{\"hovertemplate\":\"variable=0\\u003cbr\\u003eindex=%{x}\\u003cbr\\u003evalue=%{y}\\u003cextra\\u003e\\u003c\\u002fextra\\u003e\",\"legendgroup\":\"0\",\"line\":{\"color\":\"#636efa\",\"dash\":\"solid\"},\"marker\":{\"symbol\":\"circle\"},\"mode\":\"lines\",\"name\":\"0\",\"orientation\":\"v\",\"showlegend\":true,\"x\":[0,1,2,3,4],\"xaxis\":\"x\",\"y\":[1,2,3,4,5],\"yaxis\":\"y\",\"type\":\"scatter\"}],                        {\"template\":{\"data\":{\"histogram2dcontour\":[{\"type\":\"histogram2dcontour\",\"colorbar\":{\"outlinewidth\":0,\"ticks\":\"\"},\"colorscale\":[[0.0,\"#0d0887\"],[0.1111111111111111,\"#46039f\"],[0.2222222222222222,\"#7201a8\"],[0.3333333333333333,\"#9c179e\"],[0.4444444444444444,\"#bd3786\"],[0.5555555555555556,\"#d8576b\"],[0.6666666666666666,\"#ed7953\"],[0.7777777777777778,\"#fb9f3a\"],[0.8888888888888888,\"#fdca26\"],[1.0,\"#f0f921\"]]}],\"choropleth\":[{\"type\":\"choropleth\",\"colorbar\":{\"outlinewidth\":0,\"ticks\":\"\"}}],\"histogram2d\":[{\"type\":\"histogram2d\",\"colorbar\":{\"outlinewidth\":0,\"ticks\":\"\"},\"colorscale\":[[0.0,\"#0d0887\"],[0.1111111111111111,\"#46039f\"],[0.2222222222222222,\"#7201a8\"],[0.3333333333333333,\"#9c179e\"],[0.4444444444444444,\"#bd3786\"],[0.5555555555555556,\"#d8576b\"],[0.6666666666666666,\"#ed7953\"],[0.7777777777777778,\"#fb9f3a\"],[0.8888888888888888,\"#fdca26\"],[1.0,\"#f0f921\"]]}],\"heatmap\":[{\"type\":\"heatmap\",\"colorbar\":{\"outlinewidth\":0,\"ticks\":\"\"},\"colorscale\":[[0.0,\"#0d0887\"],[0.1111111111111111,\"#46039f\"],[0.2222222222222222,\"#7201a8\"],[0.3333333333333333,\"#9c179e\"],[0.4444444444444444,\"#bd3786\"],[0.5555555555555556,\"#d8576b\"],[0.6666666666666666,\"#ed7953\"],[0.7777777777777778,\"#fb9f3a\"],[0.8888888888888888,\"#fdca26\"],[1.0,\"#f0f921\"]]}],\"heatmapgl\":[{\"type\":\"heatmapgl\",\"colorbar\":{\"outlinewidth\":0,\"ticks\":\"\"},\"colorscale\":[[0.0,\"#0d0887\"],[0.1111111111111111,\"#46039f\"],[0.2222222222222222,\"#7201a8\"],[0.3333333333333333,\"#9c179e\"],[0.4444444444444444,\"#bd3786\"],[0.5555555555555556,\"#d8576b\"],[0.6666666666666666,\"#ed7953\"],[0.7777777777777778,\"#fb9f3a\"],[0.8888888888888888,\"#fdca26\"],[1.0,\"#f0f921\"]]}],\"contourcarpet\":[{\"type\":\"contourcarpet\",\"colorbar\":{\"outlinewidth\":0,\"ticks\":\"\"}}],\"contour\":[{\"type\":\"contour\",\"colorbar\":{\"outlinewidth\":0,\"ticks\":\"\"},\"colorscale\":[[0.0,\"#0d0887\"],[0.1111111111111111,\"#46039f\"],[0.2222222222222222,\"#7201a8\"],[0.3333333333333333,\"#9c179e\"],[0.4444444444444444,\"#bd3786\"],[0.5555555555555556,\"#d8576b\"],[0.6666666666666666,\"#ed7953\"],[0.7777777777777778,\"#fb9f3a\"],[0.8888888888888888,\"#fdca26\"],[1.0,\"#f0f921\"]]}],\"surface\":[{\"type\":\"surface\",\"colorbar\":{\"outlinewidth\":0,\"ticks\":\"\"},\"colorscale\":[[0.0,\"#0d0887\"],[0.1111111111111111,\"#46039f\"],[0.2222222222222222,\"#7201a8\"],[0.3333333333333333,\"#9c179e\"],[0.4444444444444444,\"#bd3786\"],[0.5555555555555556,\"#d8576b\"],[0.6666666666666666,\"#ed7953\"],[0.7777777777777778,\"#fb9f3a\"],[0.8888888888888888,\"#fdca26\"],[1.0,\"#f0f921\"]]}],\"mesh3d\":[{\"type\":\"mesh3d\",\"colorbar\":{\"outlinewidth\":0,\"ticks\":\"\"}}],\"scatter\":[{\"fillpattern\":{\"fillmode\":\"overlay\",\"size\":10,\"solidity\":0.2},\"type\":\"scatter\"}],\"parcoords\":[{\"type\":\"parcoords\",\"line\":{\"colorbar\":{\"outlinewidth\":0,\"ticks\":\"\"}}}],\"scatterpolargl\":[{\"type\":\"scatterpolargl\",\"marker\":{\"colorbar\":{\"outlinewidth\":0,\"ticks\":\"\"}}}],\"bar\":[{\"error_x\":{\"color\":\"#2a3f5f\"},\"error_y\":{\"color\":\"#2a3f5f\"},\"marker\":{\"line\":{\"color\":\"#E5ECF6\",\"width\":0.5},\"pattern\":{\"fillmode\":\"overlay\",\"size\":10,\"solidity\":0.2}},\"type\":\"bar\"}],\"scattergeo\":[{\"type\":\"scattergeo\",\"marker\":{\"colorbar\":{\"outlinewidth\":0,\"ticks\":\"\"}}}],\"scatterpolar\":[{\"type\":\"scatterpolar\",\"marker\":{\"colorbar\":{\"outlinewidth\":0,\"ticks\":\"\"}}}],\"histogram\":[{\"marker\":{\"pattern\":{\"fillmode\":\"overlay\",\"size\":10,\"solidity\":0.2}},\"type\":\"histogram\"}],\"scattergl\":[{\"type\":\"scattergl\",\"marker\":{\"colorbar\":{\"outlinewidth\":0,\"ticks\":\"\"}}}],\"scatter3d\":[{\"type\":\"scatter3d\",\"line\":{\"colorbar\":{\"outlinewidth\":0,\"ticks\":\"\"}},\"marker\":{\"colorbar\":{\"outlinewidth\":0,\"ticks\":\"\"}}}],\"scattermapbox\":[{\"type\":\"scattermapbox\",\"marker\":{\"colorbar\":{\"outlinewidth\":0,\"ticks\":\"\"}}}],\"scatterternary\":[{\"type\":\"scatterternary\",\"marker\":{\"colorbar\":{\"outlinewidth\":0,\"ticks\":\"\"}}}],\"scattercarpet\":[{\"type\":\"scattercarpet\",\"marker\":{\"colorbar\":{\"outlinewidth\":0,\"ticks\":\"\"}}}],\"carpet\":[{\"aaxis\":{\"endlinecolor\":\"#2a3f5f\",\"gridcolor\":\"white\",\"linecolor\":\"white\",\"minorgridcolor\":\"white\",\"startlinecolor\":\"#2a3f5f\"},\"baxis\":{\"endlinecolor\":\"#2a3f5f\",\"gridcolor\":\"white\",\"linecolor\":\"white\",\"minorgridcolor\":\"white\",\"startlinecolor\":\"#2a3f5f\"},\"type\":\"carpet\"}],\"table\":[{\"cells\":{\"fill\":{\"color\":\"#EBF0F8\"},\"line\":{\"color\":\"white\"}},\"header\":{\"fill\":{\"color\":\"#C8D4E3\"},\"line\":{\"color\":\"white\"}},\"type\":\"table\"}],\"barpolar\":[{\"marker\":{\"line\":{\"color\":\"#E5ECF6\",\"width\":0.5},\"pattern\":{\"fillmode\":\"overlay\",\"size\":10,\"solidity\":0.2}},\"type\":\"barpolar\"}],\"pie\":[{\"automargin\":true,\"type\":\"pie\"}]},\"layout\":{\"autotypenumbers\":\"strict\",\"colorway\":[\"#636efa\",\"#EF553B\",\"#00cc96\",\"#ab63fa\",\"#FFA15A\",\"#19d3f3\",\"#FF6692\",\"#B6E880\",\"#FF97FF\",\"#FECB52\"],\"font\":{\"color\":\"#2a3f5f\"},\"hovermode\":\"closest\",\"hoverlabel\":{\"align\":\"left\"},\"paper_bgcolor\":\"white\",\"plot_bgcolor\":\"#E5ECF6\",\"polar\":{\"bgcolor\":\"#E5ECF6\",\"angularaxis\":{\"gridcolor\":\"white\",\"linecolor\":\"white\",\"ticks\":\"\"},\"radialaxis\":{\"gridcolor\":\"white\",\"linecolor\":\"white\",\"ticks\":\"\"}},\"ternary\":{\"bgcolor\":\"#E5ECF6\",\"aaxis\":{\"gridcolor\":\"white\",\"linecolor\":\"white\",\"ticks\":\"\"},\"baxis\":{\"gridcolor\":\"white\",\"linecolor\":\"white\",\"ticks\":\"\"},\"caxis\":{\"gridcolor\":\"white\",\"linecolor\":\"white\",\"ticks\":\"\"}},\"coloraxis\":{\"colorbar\":{\"outlinewidth\":0,\"ticks\":\"\"}},\"colorscale\":{\"sequential\":[[0.0,\"#0d0887\"],[0.1111111111111111,\"#46039f\"],[0.2222222222222222,\"#7201a8\"],[0.3333333333333333,\"#9c179e\"],[0.4444444444444444,\"#bd3786\"],[0.5555555555555556,\"#d8576b\"],[0.6666666666666666,\"#ed7953\"],[0.7777777777777778,\"#fb9f3a\"],[0.8888888888888888,\"#fdca26\"],[1.0,\"#f0f921\"]],\"sequentialminus\":[[0.0,\"#0d0887\"],[0.1111111111111111,\"#46039f\"],[0.2222222222222222,\"#7201a8\"],[0.3333333333333333,\"#9c179e\"],[0.4444444444444444,\"#bd3786\"],[0.5555555555555556,\"#d8576b\"],[0.6666666666666666,\"#ed7953\"],[0.7777777777777778,\"#fb9f3a\"],[0.8888888888888888,\"#fdca26\"],[1.0,\"#f0f921\"]],\"diverging\":[[0,\"#8e0152\"],[0.1,\"#c51b7d\"],[0.2,\"#de77ae\"],[0.3,\"#f1b6da\"],[0.4,\"#fde0ef\"],[0.5,\"#f7f7f7\"],[0.6,\"#e6f5d0\"],[0.7,\"#b8e186\"],[0.8,\"#7fbc41\"],[0.9,\"#4d9221\"],[1,\"#276419\"]]},\"xaxis\":{\"gridcolor\":\"white\",\"linecolor\":\"white\",\"ticks\":\"\",\"title\":{\"standoff\":15},\"zerolinecolor\":\"white\",\"automargin\":true,\"zerolinewidth\":2},\"yaxis\":{\"gridcolor\":\"white\",\"linecolor\":\"white\",\"ticks\":\"\",\"title\":{\"standoff\":15},\"zerolinecolor\":\"white\",\"automargin\":true,\"zerolinewidth\":2},\"scene\":{\"xaxis\":{\"backgroundcolor\":\"#E5ECF6\",\"gridcolor\":\"white\",\"linecolor\":\"white\",\"showbackground\":true,\"ticks\":\"\",\"zerolinecolor\":\"white\",\"gridwidth\":2},\"yaxis\":{\"backgroundcolor\":\"#E5ECF6\",\"gridcolor\":\"white\",\"linecolor\":\"white\",\"showbackground\":true,\"ticks\":\"\",\"zerolinecolor\":\"white\",\"gridwidth\":2},\"zaxis\":{\"backgroundcolor\":\"#E5ECF6\",\"gridcolor\":\"white\",\"linecolor\":\"white\",\"showbackground\":true,\"ticks\":\"\",\"zerolinecolor\":\"white\",\"gridwidth\":2}},\"shapedefaults\":{\"line\":{\"color\":\"#2a3f5f\"}},\"annotationdefaults\":{\"arrowcolor\":\"#2a3f5f\",\"arrowhead\":0,\"arrowwidth\":1},\"geo\":{\"bgcolor\":\"white\",\"landcolor\":\"#E5ECF6\",\"subunitcolor\":\"white\",\"showland\":true,\"showlakes\":true,\"lakecolor\":\"white\"},\"title\":{\"x\":0.05},\"mapbox\":{\"style\":\"light\"}}},\"xaxis\":{\"anchor\":\"y\",\"domain\":[0.0,1.0],\"title\":{\"text\":\"index\"}},\"yaxis\":{\"anchor\":\"x\",\"domain\":[0.0,1.0],\"title\":{\"text\":\"value\"}},\"legend\":{\"title\":{\"text\":\"variable\"},\"tracegroupgap\":0},\"title\":{\"text\":\"Simple Line Plot\"}},                        {\"responsive\": true}                    ).then(function(){\n",
       "                            \n",
       "var gd = document.getElementById('673449e0-5d77-4f89-a967-a4b826d3c880');\n",
       "var x = new MutationObserver(function (mutations, observer) {{\n",
       "        var display = window.getComputedStyle(gd).display;\n",
       "        if (!display || display === 'none') {{\n",
       "            console.log([gd, 'removed!']);\n",
       "            Plotly.purge(gd);\n",
       "            observer.disconnect();\n",
       "        }}\n",
       "}});\n",
       "\n",
       "// Listen for the removal of the full notebook cells\n",
       "var notebookContainer = gd.closest('#notebook-container');\n",
       "if (notebookContainer) {{\n",
       "    x.observe(notebookContainer, {childList: true});\n",
       "}}\n",
       "\n",
       "// Listen for the clearing of the current output cell\n",
       "var outputEl = gd.closest('.output');\n",
       "if (outputEl) {{\n",
       "    x.observe(outputEl, {childList: true});\n",
       "}}\n",
       "\n",
       "                        })                };                });            </script>        </div>"
      ]
     },
     "metadata": {},
     "output_type": "display_data"
    }
   ],
   "source": [
    "import plotly.express as px\n",
    "\n",
    "data = [1, 2, 3, 4, 5]\n",
    "fig = px.line(data, title='Simple Line Plot')\n",
    "fig.show()\n"
   ]
  },
  {
   "cell_type": "code",
   "execution_count": 7,
   "metadata": {},
   "outputs": [
    {
     "data": {
      "application/vnd.plotly.v1+json": {
       "config": {
        "plotlyServerURL": "https://plot.ly"
       },
       "data": [
        {
         "marker": {
          "color": [
           0.8968394863478958,
           0.4496557365290538,
           0.361105110924137,
           0.31873112760348754,
           0.27939732658444705,
           0.09299230366421507,
           0.4761481316944617,
           0.678140114117048,
           0.7814299414860258,
           0.6050868445128678,
           0.7597396012508846,
           0.31366960689116563,
           0.25574330799426037,
           0.20313944445959986,
           0.539767427675866,
           0.8485542853990321,
           0.015182807891806704,
           0.7428344932851328,
           0.8032990317548625,
           0.5244285632140588,
           0.640868005569768,
           0.7591961945128041,
           0.33384505180083246,
           0.3688496111682229,
           0.9052717879869938,
           0.3111990661243418,
           0.3483315926056707,
           0.811611117271468,
           0.2656369576409323,
           0.14553210228611357,
           0.06858463642029466,
           0.24137500905120068,
           0.3692694813388593,
           0.610719649005427,
           0.5231577227943607,
           0.013354500148243353,
           0.4721017320434012,
           0.6240105671395687,
           0.11299896112049357,
           0.17721700692140707,
           0.6657966329757778,
           0.034718428019592906,
           0.1039898630588203,
           0.7056454987043742,
           0.6342091657208503,
           0.5076799815323676,
           0.5347770362148004,
           0.13156226230797985,
           0.8579703189017224,
           0.8783139841596208,
           0.24664576276263506,
           0.12452892472520727,
           0.6988626416384885,
           0.520242337542421,
           0.7474792586446266,
           0.9051998247367955,
           0.31265621569103397,
           0.644507029187089,
           0.645799987972946,
           0.9310141517363272,
           0.12326506413117744,
           0.8982297035139205,
           0.211562697149262,
           0.6500726894139709,
           0.3493029239274983,
           0.713123536230712,
           0.7869255306885261,
           0.1934290242285237,
           0.808552724096453,
           0.32720903648276434,
           0.08590964053054995,
           0.2919931646765913,
           0.006840574947120537,
           0.2129052216710109,
           0.8482712905351775,
           0.4804730057175287,
           0.8605616220143234,
           0.06635564540848438,
           0.49061800996491634,
           0.2981606872084638,
           0.04321255961511605,
           0.4458255686237904,
           0.5320294778388478,
           0.2572171638697732,
           0.6558980927456622,
           0.5648459918004997,
           0.5628629421125181,
           0.28296075366223905,
           0.4492533733428057,
           0.8835552073066856,
           0.5631956657047233,
           0.12127434077433152,
           0.8972771566889737,
           0.7276516766184788,
           0.03153767154583287,
           0.7864648127968419,
           0.9213122709565236,
           0.8288026956270519,
           0.010098110783789194,
           0.8550834926750426
          ],
          "opacity": 0.7,
          "size": 12
         },
         "mode": "markers",
         "type": "scatter3d",
         "x": [
          0.03641672553829478,
          0.06683883831712845,
          0.12517867437302743,
          0.03580330593401759,
          0.33081300820313797,
          0.7053189613406204,
          0.6903419319423576,
          0.43890108941972295,
          0.42578377608177853,
          0.7994801112731618,
          0.451095319639526,
          0.02604430724924922,
          0.45662969443583745,
          0.7091747322292062,
          0.6158259164091493,
          0.6828784821324753,
          0.09923696326477793,
          0.022786908692404184,
          0.032234719434559134,
          0.7770359529839403,
          0.22288429586935876,
          0.13962983074461288,
          0.9409425458297448,
          0.5845004640444835,
          0.4141409603098358,
          0.4143743587504516,
          0.26984914007503547,
          0.2521972181494855,
          0.2379860274085437,
          0.8538969659429456,
          0.5888185691553449,
          0.24429597610286413,
          0.8070895536157434,
          0.5665134197473697,
          0.5641888614539632,
          0.05715014536320939,
          0.9240967540680248,
          0.03559330018454476,
          0.44465764988385903,
          0.580118222625782,
          0.5027696856430984,
          0.8120247289454747,
          0.6844293571396849,
          0.6347811353416902,
          0.2600689631227985,
          0.9222638804335573,
          0.8358810696357551,
          0.8475488083112012,
          0.33263126883052596,
          0.7450514255467208,
          0.7421498331636892,
          0.29906211837322527,
          0.255452769407455,
          0.17372462519700205,
          0.3346991196947793,
          0.05284018223169529,
          0.8839787390259016,
          0.3808760474988886,
          0.30662316853228155,
          0.9147822400271077,
          0.11226015153285207,
          0.9355975015000115,
          0.3284970480482168,
          0.006353158941106107,
          0.3107589403787422,
          0.42584744698445154,
          0.11235562701509705,
          0.2974258293114568,
          0.6491048290065028,
          0.7407972444470178,
          0.8143904089491383,
          0.9484896828162706,
          0.10025611625460606,
          0.3022455021537517,
          0.1779621802719017,
          0.4539607549028264,
          0.13928914286409866,
          0.2665506888984832,
          0.3071836303240294,
          0.9177047553319974,
          0.9904782305013717,
          0.6053025099426956,
          0.21332783350934903,
          0.1213813086862332,
          0.28481961484034646,
          0.47785076311147645,
          0.5355315349813454,
          0.9740304353896427,
          0.46395761505239386,
          0.4515153021028747,
          0.5373569963264989,
          0.39665192871869215,
          0.7705271659275936,
          0.9560010912640761,
          0.4914616076552515,
          0.4879070433922935,
          0.14536833683160577,
          0.5932503028585674,
          0.6196361733880829,
          0.6384201194745537
         ],
         "y": [
          0.5607328992558543,
          0.8014544949178973,
          0.563016877585663,
          0.2315114039349958,
          0.04816135172431668,
          0.9985662831322799,
          0.6760447906442439,
          0.6592545431800867,
          0.6928769051199076,
          0.848024764221902,
          0.19155764349955617,
          0.6481725926123191,
          0.7072352425392815,
          0.730376132584188,
          0.9828671434522175,
          0.3045072410861652,
          0.49071773150750586,
          0.1083722141475435,
          0.8125208810186371,
          0.4230774474836574,
          0.7995417946057333,
          0.8068988935979442,
          0.6376115421985148,
          0.9023999734291215,
          0.4059391180445685,
          0.419373437997171,
          0.13703917361645257,
          0.7689069900004161,
          0.3259520848133949,
          0.3065077708582048,
          0.5781740833184812,
          0.738290810671152,
          0.08627062921393391,
          0.8049177065282981,
          0.8600618499749388,
          0.7191793121974891,
          0.9629910980792169,
          0.051319507166945555,
          0.9535509368791618,
          0.620024558563453,
          0.6282489689219404,
          0.7574087813515238,
          0.44578256457680754,
          0.7929590687623628,
          0.6306256634450064,
          0.028448300744196353,
          0.861820850483436,
          0.46208889564221356,
          0.8008719066918687,
          0.1210327390388296,
          0.8634856403081411,
          0.7168789264171219,
          0.7169227187144529,
          0.5864350613126961,
          0.7841056852152662,
          0.2733243246078728,
          0.758359208568107,
          0.7357448843796857,
          0.3284525108296331,
          0.4728865009756066,
          0.6156522851683986,
          0.6155974293972576,
          0.6024555750534188,
          0.051275227660812495,
          0.18068332324686698,
          0.5293552938422532,
          0.026329583461364048,
          0.5604368511157365,
          0.21155540254135852,
          0.055867258875800796,
          0.22163785940440983,
          0.44575662049578424,
          0.739295697178217,
          0.04989967843236065,
          0.9430237259997697,
          0.1910574058585912,
          0.8910599581535568,
          0.8093578226846219,
          0.40057319668710045,
          0.7280627638995254,
          0.35702026793900665,
          0.4148034844797971,
          0.07584125233203343,
          0.5243091754321202,
          0.33058005637442045,
          0.6171273120356188,
          0.7951616867601206,
          0.03156136136572385,
          0.7365123874949442,
          0.5935466376026186,
          0.29303948798007406,
          0.014519954569742644,
          0.8995668924808922,
          0.7997704689523427,
          0.12660222882425565,
          0.5567082023560443,
          0.023566472096076985,
          0.9612529512186694,
          0.8230913941315297,
          0.04774209560804876
         ],
         "z": [
          0.8968394863478958,
          0.4496557365290538,
          0.361105110924137,
          0.31873112760348754,
          0.27939732658444705,
          0.09299230366421507,
          0.4761481316944617,
          0.678140114117048,
          0.7814299414860258,
          0.6050868445128678,
          0.7597396012508846,
          0.31366960689116563,
          0.25574330799426037,
          0.20313944445959986,
          0.539767427675866,
          0.8485542853990321,
          0.015182807891806704,
          0.7428344932851328,
          0.8032990317548625,
          0.5244285632140588,
          0.640868005569768,
          0.7591961945128041,
          0.33384505180083246,
          0.3688496111682229,
          0.9052717879869938,
          0.3111990661243418,
          0.3483315926056707,
          0.811611117271468,
          0.2656369576409323,
          0.14553210228611357,
          0.06858463642029466,
          0.24137500905120068,
          0.3692694813388593,
          0.610719649005427,
          0.5231577227943607,
          0.013354500148243353,
          0.4721017320434012,
          0.6240105671395687,
          0.11299896112049357,
          0.17721700692140707,
          0.6657966329757778,
          0.034718428019592906,
          0.1039898630588203,
          0.7056454987043742,
          0.6342091657208503,
          0.5076799815323676,
          0.5347770362148004,
          0.13156226230797985,
          0.8579703189017224,
          0.8783139841596208,
          0.24664576276263506,
          0.12452892472520727,
          0.6988626416384885,
          0.520242337542421,
          0.7474792586446266,
          0.9051998247367955,
          0.31265621569103397,
          0.644507029187089,
          0.645799987972946,
          0.9310141517363272,
          0.12326506413117744,
          0.8982297035139205,
          0.211562697149262,
          0.6500726894139709,
          0.3493029239274983,
          0.713123536230712,
          0.7869255306885261,
          0.1934290242285237,
          0.808552724096453,
          0.32720903648276434,
          0.08590964053054995,
          0.2919931646765913,
          0.006840574947120537,
          0.2129052216710109,
          0.8482712905351775,
          0.4804730057175287,
          0.8605616220143234,
          0.06635564540848438,
          0.49061800996491634,
          0.2981606872084638,
          0.04321255961511605,
          0.4458255686237904,
          0.5320294778388478,
          0.2572171638697732,
          0.6558980927456622,
          0.5648459918004997,
          0.5628629421125181,
          0.28296075366223905,
          0.4492533733428057,
          0.8835552073066856,
          0.5631956657047233,
          0.12127434077433152,
          0.8972771566889737,
          0.7276516766184788,
          0.03153767154583287,
          0.7864648127968419,
          0.9213122709565236,
          0.8288026956270519,
          0.010098110783789194,
          0.8550834926750426
         ]
        }
       ],
       "layout": {
        "autosize": true,
        "scene": {
         "aspectmode": "auto",
         "aspectratio": {
          "x": 1.0211992796454685,
          "y": 1.0211175702216553,
          "z": 0.9589892770318673
         },
         "camera": {
          "center": {
           "x": 0,
           "y": 0,
           "z": 0
          },
          "eye": {
           "x": 2.053388368996063,
           "y": 1.1029464708414662,
           "z": -0.8402258553736387
          },
          "projection": {
           "type": "perspective"
          },
          "up": {
           "x": -0.021830235837727384,
           "y": 0.03985504185003607,
           "z": 0.9989669746505142
          }
         },
         "xaxis": {
          "title": {
           "text": "X Axis"
          },
          "type": "linear"
         },
         "yaxis": {
          "title": {
           "text": "Y Axis"
          },
          "type": "linear"
         },
         "zaxis": {
          "title": {
           "text": "Z Axis"
          },
          "type": "linear"
         }
        },
        "template": {
         "data": {
          "bar": [
           {
            "error_x": {
             "color": "#2a3f5f"
            },
            "error_y": {
             "color": "#2a3f5f"
            },
            "marker": {
             "line": {
              "color": "#E5ECF6",
              "width": 0.5
             },
             "pattern": {
              "fillmode": "overlay",
              "size": 10,
              "solidity": 0.2
             }
            },
            "type": "bar"
           }
          ],
          "barpolar": [
           {
            "marker": {
             "line": {
              "color": "#E5ECF6",
              "width": 0.5
             },
             "pattern": {
              "fillmode": "overlay",
              "size": 10,
              "solidity": 0.2
             }
            },
            "type": "barpolar"
           }
          ],
          "carpet": [
           {
            "aaxis": {
             "endlinecolor": "#2a3f5f",
             "gridcolor": "white",
             "linecolor": "white",
             "minorgridcolor": "white",
             "startlinecolor": "#2a3f5f"
            },
            "baxis": {
             "endlinecolor": "#2a3f5f",
             "gridcolor": "white",
             "linecolor": "white",
             "minorgridcolor": "white",
             "startlinecolor": "#2a3f5f"
            },
            "type": "carpet"
           }
          ],
          "choropleth": [
           {
            "colorbar": {
             "outlinewidth": 0,
             "ticks": ""
            },
            "type": "choropleth"
           }
          ],
          "contour": [
           {
            "colorbar": {
             "outlinewidth": 0,
             "ticks": ""
            },
            "colorscale": [
             [
              0,
              "#0d0887"
             ],
             [
              0.1111111111111111,
              "#46039f"
             ],
             [
              0.2222222222222222,
              "#7201a8"
             ],
             [
              0.3333333333333333,
              "#9c179e"
             ],
             [
              0.4444444444444444,
              "#bd3786"
             ],
             [
              0.5555555555555556,
              "#d8576b"
             ],
             [
              0.6666666666666666,
              "#ed7953"
             ],
             [
              0.7777777777777778,
              "#fb9f3a"
             ],
             [
              0.8888888888888888,
              "#fdca26"
             ],
             [
              1,
              "#f0f921"
             ]
            ],
            "type": "contour"
           }
          ],
          "contourcarpet": [
           {
            "colorbar": {
             "outlinewidth": 0,
             "ticks": ""
            },
            "type": "contourcarpet"
           }
          ],
          "heatmap": [
           {
            "colorbar": {
             "outlinewidth": 0,
             "ticks": ""
            },
            "colorscale": [
             [
              0,
              "#0d0887"
             ],
             [
              0.1111111111111111,
              "#46039f"
             ],
             [
              0.2222222222222222,
              "#7201a8"
             ],
             [
              0.3333333333333333,
              "#9c179e"
             ],
             [
              0.4444444444444444,
              "#bd3786"
             ],
             [
              0.5555555555555556,
              "#d8576b"
             ],
             [
              0.6666666666666666,
              "#ed7953"
             ],
             [
              0.7777777777777778,
              "#fb9f3a"
             ],
             [
              0.8888888888888888,
              "#fdca26"
             ],
             [
              1,
              "#f0f921"
             ]
            ],
            "type": "heatmap"
           }
          ],
          "heatmapgl": [
           {
            "colorbar": {
             "outlinewidth": 0,
             "ticks": ""
            },
            "colorscale": [
             [
              0,
              "#0d0887"
             ],
             [
              0.1111111111111111,
              "#46039f"
             ],
             [
              0.2222222222222222,
              "#7201a8"
             ],
             [
              0.3333333333333333,
              "#9c179e"
             ],
             [
              0.4444444444444444,
              "#bd3786"
             ],
             [
              0.5555555555555556,
              "#d8576b"
             ],
             [
              0.6666666666666666,
              "#ed7953"
             ],
             [
              0.7777777777777778,
              "#fb9f3a"
             ],
             [
              0.8888888888888888,
              "#fdca26"
             ],
             [
              1,
              "#f0f921"
             ]
            ],
            "type": "heatmapgl"
           }
          ],
          "histogram": [
           {
            "marker": {
             "pattern": {
              "fillmode": "overlay",
              "size": 10,
              "solidity": 0.2
             }
            },
            "type": "histogram"
           }
          ],
          "histogram2d": [
           {
            "colorbar": {
             "outlinewidth": 0,
             "ticks": ""
            },
            "colorscale": [
             [
              0,
              "#0d0887"
             ],
             [
              0.1111111111111111,
              "#46039f"
             ],
             [
              0.2222222222222222,
              "#7201a8"
             ],
             [
              0.3333333333333333,
              "#9c179e"
             ],
             [
              0.4444444444444444,
              "#bd3786"
             ],
             [
              0.5555555555555556,
              "#d8576b"
             ],
             [
              0.6666666666666666,
              "#ed7953"
             ],
             [
              0.7777777777777778,
              "#fb9f3a"
             ],
             [
              0.8888888888888888,
              "#fdca26"
             ],
             [
              1,
              "#f0f921"
             ]
            ],
            "type": "histogram2d"
           }
          ],
          "histogram2dcontour": [
           {
            "colorbar": {
             "outlinewidth": 0,
             "ticks": ""
            },
            "colorscale": [
             [
              0,
              "#0d0887"
             ],
             [
              0.1111111111111111,
              "#46039f"
             ],
             [
              0.2222222222222222,
              "#7201a8"
             ],
             [
              0.3333333333333333,
              "#9c179e"
             ],
             [
              0.4444444444444444,
              "#bd3786"
             ],
             [
              0.5555555555555556,
              "#d8576b"
             ],
             [
              0.6666666666666666,
              "#ed7953"
             ],
             [
              0.7777777777777778,
              "#fb9f3a"
             ],
             [
              0.8888888888888888,
              "#fdca26"
             ],
             [
              1,
              "#f0f921"
             ]
            ],
            "type": "histogram2dcontour"
           }
          ],
          "mesh3d": [
           {
            "colorbar": {
             "outlinewidth": 0,
             "ticks": ""
            },
            "type": "mesh3d"
           }
          ],
          "parcoords": [
           {
            "line": {
             "colorbar": {
              "outlinewidth": 0,
              "ticks": ""
             }
            },
            "type": "parcoords"
           }
          ],
          "pie": [
           {
            "automargin": true,
            "type": "pie"
           }
          ],
          "scatter": [
           {
            "fillpattern": {
             "fillmode": "overlay",
             "size": 10,
             "solidity": 0.2
            },
            "type": "scatter"
           }
          ],
          "scatter3d": [
           {
            "line": {
             "colorbar": {
              "outlinewidth": 0,
              "ticks": ""
             }
            },
            "marker": {
             "colorbar": {
              "outlinewidth": 0,
              "ticks": ""
             }
            },
            "type": "scatter3d"
           }
          ],
          "scattercarpet": [
           {
            "marker": {
             "colorbar": {
              "outlinewidth": 0,
              "ticks": ""
             }
            },
            "type": "scattercarpet"
           }
          ],
          "scattergeo": [
           {
            "marker": {
             "colorbar": {
              "outlinewidth": 0,
              "ticks": ""
             }
            },
            "type": "scattergeo"
           }
          ],
          "scattergl": [
           {
            "marker": {
             "colorbar": {
              "outlinewidth": 0,
              "ticks": ""
             }
            },
            "type": "scattergl"
           }
          ],
          "scattermapbox": [
           {
            "marker": {
             "colorbar": {
              "outlinewidth": 0,
              "ticks": ""
             }
            },
            "type": "scattermapbox"
           }
          ],
          "scatterpolar": [
           {
            "marker": {
             "colorbar": {
              "outlinewidth": 0,
              "ticks": ""
             }
            },
            "type": "scatterpolar"
           }
          ],
          "scatterpolargl": [
           {
            "marker": {
             "colorbar": {
              "outlinewidth": 0,
              "ticks": ""
             }
            },
            "type": "scatterpolargl"
           }
          ],
          "scatterternary": [
           {
            "marker": {
             "colorbar": {
              "outlinewidth": 0,
              "ticks": ""
             }
            },
            "type": "scatterternary"
           }
          ],
          "surface": [
           {
            "colorbar": {
             "outlinewidth": 0,
             "ticks": ""
            },
            "colorscale": [
             [
              0,
              "#0d0887"
             ],
             [
              0.1111111111111111,
              "#46039f"
             ],
             [
              0.2222222222222222,
              "#7201a8"
             ],
             [
              0.3333333333333333,
              "#9c179e"
             ],
             [
              0.4444444444444444,
              "#bd3786"
             ],
             [
              0.5555555555555556,
              "#d8576b"
             ],
             [
              0.6666666666666666,
              "#ed7953"
             ],
             [
              0.7777777777777778,
              "#fb9f3a"
             ],
             [
              0.8888888888888888,
              "#fdca26"
             ],
             [
              1,
              "#f0f921"
             ]
            ],
            "type": "surface"
           }
          ],
          "table": [
           {
            "cells": {
             "fill": {
              "color": "#EBF0F8"
             },
             "line": {
              "color": "white"
             }
            },
            "header": {
             "fill": {
              "color": "#C8D4E3"
             },
             "line": {
              "color": "white"
             }
            },
            "type": "table"
           }
          ]
         },
         "layout": {
          "annotationdefaults": {
           "arrowcolor": "#2a3f5f",
           "arrowhead": 0,
           "arrowwidth": 1
          },
          "autotypenumbers": "strict",
          "coloraxis": {
           "colorbar": {
            "outlinewidth": 0,
            "ticks": ""
           }
          },
          "colorscale": {
           "diverging": [
            [
             0,
             "#8e0152"
            ],
            [
             0.1,
             "#c51b7d"
            ],
            [
             0.2,
             "#de77ae"
            ],
            [
             0.3,
             "#f1b6da"
            ],
            [
             0.4,
             "#fde0ef"
            ],
            [
             0.5,
             "#f7f7f7"
            ],
            [
             0.6,
             "#e6f5d0"
            ],
            [
             0.7,
             "#b8e186"
            ],
            [
             0.8,
             "#7fbc41"
            ],
            [
             0.9,
             "#4d9221"
            ],
            [
             1,
             "#276419"
            ]
           ],
           "sequential": [
            [
             0,
             "#0d0887"
            ],
            [
             0.1111111111111111,
             "#46039f"
            ],
            [
             0.2222222222222222,
             "#7201a8"
            ],
            [
             0.3333333333333333,
             "#9c179e"
            ],
            [
             0.4444444444444444,
             "#bd3786"
            ],
            [
             0.5555555555555556,
             "#d8576b"
            ],
            [
             0.6666666666666666,
             "#ed7953"
            ],
            [
             0.7777777777777778,
             "#fb9f3a"
            ],
            [
             0.8888888888888888,
             "#fdca26"
            ],
            [
             1,
             "#f0f921"
            ]
           ],
           "sequentialminus": [
            [
             0,
             "#0d0887"
            ],
            [
             0.1111111111111111,
             "#46039f"
            ],
            [
             0.2222222222222222,
             "#7201a8"
            ],
            [
             0.3333333333333333,
             "#9c179e"
            ],
            [
             0.4444444444444444,
             "#bd3786"
            ],
            [
             0.5555555555555556,
             "#d8576b"
            ],
            [
             0.6666666666666666,
             "#ed7953"
            ],
            [
             0.7777777777777778,
             "#fb9f3a"
            ],
            [
             0.8888888888888888,
             "#fdca26"
            ],
            [
             1,
             "#f0f921"
            ]
           ]
          },
          "colorway": [
           "#636efa",
           "#EF553B",
           "#00cc96",
           "#ab63fa",
           "#FFA15A",
           "#19d3f3",
           "#FF6692",
           "#B6E880",
           "#FF97FF",
           "#FECB52"
          ],
          "font": {
           "color": "#2a3f5f"
          },
          "geo": {
           "bgcolor": "white",
           "lakecolor": "white",
           "landcolor": "#E5ECF6",
           "showlakes": true,
           "showland": true,
           "subunitcolor": "white"
          },
          "hoverlabel": {
           "align": "left"
          },
          "hovermode": "closest",
          "mapbox": {
           "style": "light"
          },
          "paper_bgcolor": "white",
          "plot_bgcolor": "#E5ECF6",
          "polar": {
           "angularaxis": {
            "gridcolor": "white",
            "linecolor": "white",
            "ticks": ""
           },
           "bgcolor": "#E5ECF6",
           "radialaxis": {
            "gridcolor": "white",
            "linecolor": "white",
            "ticks": ""
           }
          },
          "scene": {
           "xaxis": {
            "backgroundcolor": "#E5ECF6",
            "gridcolor": "white",
            "gridwidth": 2,
            "linecolor": "white",
            "showbackground": true,
            "ticks": "",
            "zerolinecolor": "white"
           },
           "yaxis": {
            "backgroundcolor": "#E5ECF6",
            "gridcolor": "white",
            "gridwidth": 2,
            "linecolor": "white",
            "showbackground": true,
            "ticks": "",
            "zerolinecolor": "white"
           },
           "zaxis": {
            "backgroundcolor": "#E5ECF6",
            "gridcolor": "white",
            "gridwidth": 2,
            "linecolor": "white",
            "showbackground": true,
            "ticks": "",
            "zerolinecolor": "white"
           }
          },
          "shapedefaults": {
           "line": {
            "color": "#2a3f5f"
           }
          },
          "ternary": {
           "aaxis": {
            "gridcolor": "white",
            "linecolor": "white",
            "ticks": ""
           },
           "baxis": {
            "gridcolor": "white",
            "linecolor": "white",
            "ticks": ""
           },
           "bgcolor": "#E5ECF6",
           "caxis": {
            "gridcolor": "white",
            "linecolor": "white",
            "ticks": ""
           }
          },
          "title": {
           "x": 0.05
          },
          "xaxis": {
           "automargin": true,
           "gridcolor": "white",
           "linecolor": "white",
           "ticks": "",
           "title": {
            "standoff": 15
           },
           "zerolinecolor": "white",
           "zerolinewidth": 2
          },
          "yaxis": {
           "automargin": true,
           "gridcolor": "white",
           "linecolor": "white",
           "ticks": "",
           "title": {
            "standoff": 15
           },
           "zerolinecolor": "white",
           "zerolinewidth": 2
          }
         }
        },
        "title": {
         "text": "3D Scatter Plot Example"
        }
       }
      },
      "image/png": "[encoded data removed]",
      "text/html": [
       "<div>                            <div id=\"45331b47-7a3f-48fc-984c-6fa195c0dbbf\" class=\"plotly-graph-div\" style=\"height:525px; width:100%;\"></div>            <script type=\"text/javascript\">                require([\"plotly\"], function(Plotly) {                    window.PLOTLYENV=window.PLOTLYENV || {};                                    if (document.getElementById(\"45331b47-7a3f-48fc-984c-6fa195c0dbbf\")) {                    Plotly.newPlot(                        \"45331b47-7a3f-48fc-984c-6fa195c0dbbf\",                        [{\"marker\":{\"color\":[0.8968394863478958,0.4496557365290538,0.361105110924137,0.31873112760348754,0.27939732658444705,0.09299230366421507,0.4761481316944617,0.678140114117048,0.7814299414860258,0.6050868445128678,0.7597396012508846,0.31366960689116563,0.25574330799426037,0.20313944445959986,0.539767427675866,0.8485542853990321,0.015182807891806704,0.7428344932851328,0.8032990317548625,0.5244285632140588,0.640868005569768,0.7591961945128041,0.33384505180083246,0.3688496111682229,0.9052717879869938,0.3111990661243418,0.3483315926056707,0.811611117271468,0.2656369576409323,0.14553210228611357,0.06858463642029466,0.24137500905120068,0.3692694813388593,0.610719649005427,0.5231577227943607,0.013354500148243353,0.4721017320434012,0.6240105671395687,0.11299896112049357,0.17721700692140707,0.6657966329757778,0.034718428019592906,0.1039898630588203,0.7056454987043742,0.6342091657208503,0.5076799815323676,0.5347770362148004,0.13156226230797985,0.8579703189017224,0.8783139841596208,0.24664576276263506,0.12452892472520727,0.6988626416384885,0.520242337542421,0.7474792586446266,0.9051998247367955,0.31265621569103397,0.644507029187089,0.645799987972946,0.9310141517363272,0.12326506413117744,0.8982297035139205,0.211562697149262,0.6500726894139709,0.3493029239274983,0.713123536230712,0.7869255306885261,0.1934290242285237,0.808552724096453,0.32720903648276434,0.08590964053054995,0.2919931646765913,0.006840574947120537,0.2129052216710109,0.8482712905351775,0.4804730057175287,0.8605616220143234,0.06635564540848438,0.49061800996491634,0.2981606872084638,0.04321255961511605,0.4458255686237904,0.5320294778388478,0.2572171638697732,0.6558980927456622,0.5648459918004997,0.5628629421125181,0.28296075366223905,0.4492533733428057,0.8835552073066856,0.5631956657047233,0.12127434077433152,0.8972771566889737,0.7276516766184788,0.03153767154583287,0.7864648127968419,0.9213122709565236,0.8288026956270519,0.010098110783789194,0.8550834926750426],\"opacity\":0.7,\"size\":12},\"mode\":\"markers\",\"x\":[0.03641672553829478,0.06683883831712845,0.12517867437302743,0.03580330593401759,0.33081300820313797,0.7053189613406204,0.6903419319423576,0.43890108941972295,0.42578377608177853,0.7994801112731618,0.451095319639526,0.02604430724924922,0.45662969443583745,0.7091747322292062,0.6158259164091493,0.6828784821324753,0.09923696326477793,0.022786908692404184,0.032234719434559134,0.7770359529839403,0.22288429586935876,0.13962983074461288,0.9409425458297448,0.5845004640444835,0.4141409603098358,0.4143743587504516,0.26984914007503547,0.2521972181494855,0.2379860274085437,0.8538969659429456,0.5888185691553449,0.24429597610286413,0.8070895536157434,0.5665134197473697,0.5641888614539632,0.05715014536320939,0.9240967540680248,0.03559330018454476,0.44465764988385903,0.580118222625782,0.5027696856430984,0.8120247289454747,0.6844293571396849,0.6347811353416902,0.2600689631227985,0.9222638804335573,0.8358810696357551,0.8475488083112012,0.33263126883052596,0.7450514255467208,0.7421498331636892,0.29906211837322527,0.255452769407455,0.17372462519700205,0.3346991196947793,0.05284018223169529,0.8839787390259016,0.3808760474988886,0.30662316853228155,0.9147822400271077,0.11226015153285207,0.9355975015000115,0.3284970480482168,0.006353158941106107,0.3107589403787422,0.42584744698445154,0.11235562701509705,0.2974258293114568,0.6491048290065028,0.7407972444470178,0.8143904089491383,0.9484896828162706,0.10025611625460606,0.3022455021537517,0.1779621802719017,0.4539607549028264,0.13928914286409866,0.2665506888984832,0.3071836303240294,0.9177047553319974,0.9904782305013717,0.6053025099426956,0.21332783350934903,0.1213813086862332,0.28481961484034646,0.47785076311147645,0.5355315349813454,0.9740304353896427,0.46395761505239386,0.4515153021028747,0.5373569963264989,0.39665192871869215,0.7705271659275936,0.9560010912640761,0.4914616076552515,0.4879070433922935,0.14536833683160577,0.5932503028585674,0.6196361733880829,0.6384201194745537],\"y\":[0.5607328992558543,0.8014544949178973,0.563016877585663,0.2315114039349958,0.04816135172431668,0.9985662831322799,0.6760447906442439,0.6592545431800867,0.6928769051199076,0.848024764221902,0.19155764349955617,0.6481725926123191,0.7072352425392815,0.730376132584188,0.9828671434522175,0.3045072410861652,0.49071773150750586,0.1083722141475435,0.8125208810186371,0.4230774474836574,0.7995417946057333,0.8068988935979442,0.6376115421985148,0.9023999734291215,0.4059391180445685,0.419373437997171,0.13703917361645257,0.7689069900004161,0.3259520848133949,0.3065077708582048,0.5781740833184812,0.738290810671152,0.08627062921393391,0.8049177065282981,0.8600618499749388,0.7191793121974891,0.9629910980792169,0.051319507166945555,0.9535509368791618,0.620024558563453,0.6282489689219404,0.7574087813515238,0.44578256457680754,0.7929590687623628,0.6306256634450064,0.028448300744196353,0.861820850483436,0.46208889564221356,0.8008719066918687,0.1210327390388296,0.8634856403081411,0.7168789264171219,0.7169227187144529,0.5864350613126961,0.7841056852152662,0.2733243246078728,0.758359208568107,0.7357448843796857,0.3284525108296331,0.4728865009756066,0.6156522851683986,0.6155974293972576,0.6024555750534188,0.051275227660812495,0.18068332324686698,0.5293552938422532,0.026329583461364048,0.5604368511157365,0.21155540254135852,0.055867258875800796,0.22163785940440983,0.44575662049578424,0.739295697178217,0.04989967843236065,0.9430237259997697,0.1910574058585912,0.8910599581535568,0.8093578226846219,0.40057319668710045,0.7280627638995254,0.35702026793900665,0.4148034844797971,0.07584125233203343,0.5243091754321202,0.33058005637442045,0.6171273120356188,0.7951616867601206,0.03156136136572385,0.7365123874949442,0.5935466376026186,0.29303948798007406,0.014519954569742644,0.8995668924808922,0.7997704689523427,0.12660222882425565,0.5567082023560443,0.023566472096076985,0.9612529512186694,0.8230913941315297,0.04774209560804876],\"z\":[0.8968394863478958,0.4496557365290538,0.361105110924137,0.31873112760348754,0.27939732658444705,0.09299230366421507,0.4761481316944617,0.678140114117048,0.7814299414860258,0.6050868445128678,0.7597396012508846,0.31366960689116563,0.25574330799426037,0.20313944445959986,0.539767427675866,0.8485542853990321,0.015182807891806704,0.7428344932851328,0.8032990317548625,0.5244285632140588,0.640868005569768,0.7591961945128041,0.33384505180083246,0.3688496111682229,0.9052717879869938,0.3111990661243418,0.3483315926056707,0.811611117271468,0.2656369576409323,0.14553210228611357,0.06858463642029466,0.24137500905120068,0.3692694813388593,0.610719649005427,0.5231577227943607,0.013354500148243353,0.4721017320434012,0.6240105671395687,0.11299896112049357,0.17721700692140707,0.6657966329757778,0.034718428019592906,0.1039898630588203,0.7056454987043742,0.6342091657208503,0.5076799815323676,0.5347770362148004,0.13156226230797985,0.8579703189017224,0.8783139841596208,0.24664576276263506,0.12452892472520727,0.6988626416384885,0.520242337542421,0.7474792586446266,0.9051998247367955,0.31265621569103397,0.644507029187089,0.645799987972946,0.9310141517363272,0.12326506413117744,0.8982297035139205,0.211562697149262,0.6500726894139709,0.3493029239274983,0.713123536230712,0.7869255306885261,0.1934290242285237,0.808552724096453,0.32720903648276434,0.08590964053054995,0.2919931646765913,0.006840574947120537,0.2129052216710109,0.8482712905351775,0.4804730057175287,0.8605616220143234,0.06635564540848438,0.49061800996491634,0.2981606872084638,0.04321255961511605,0.4458255686237904,0.5320294778388478,0.2572171638697732,0.6558980927456622,0.5648459918004997,0.5628629421125181,0.28296075366223905,0.4492533733428057,0.8835552073066856,0.5631956657047233,0.12127434077433152,0.8972771566889737,0.7276516766184788,0.03153767154583287,0.7864648127968419,0.9213122709565236,0.8288026956270519,0.010098110783789194,0.8550834926750426],\"type\":\"scatter3d\"}],                        {\"template\":{\"data\":{\"histogram2dcontour\":[{\"type\":\"histogram2dcontour\",\"colorbar\":{\"outlinewidth\":0,\"ticks\":\"\"},\"colorscale\":[[0.0,\"#0d0887\"],[0.1111111111111111,\"#46039f\"],[0.2222222222222222,\"#7201a8\"],[0.3333333333333333,\"#9c179e\"],[0.4444444444444444,\"#bd3786\"],[0.5555555555555556,\"#d8576b\"],[0.6666666666666666,\"#ed7953\"],[0.7777777777777778,\"#fb9f3a\"],[0.8888888888888888,\"#fdca26\"],[1.0,\"#f0f921\"]]}],\"choropleth\":[{\"type\":\"choropleth\",\"colorbar\":{\"outlinewidth\":0,\"ticks\":\"\"}}],\"histogram2d\":[{\"type\":\"histogram2d\",\"colorbar\":{\"outlinewidth\":0,\"ticks\":\"\"},\"colorscale\":[[0.0,\"#0d0887\"],[0.1111111111111111,\"#46039f\"],[0.2222222222222222,\"#7201a8\"],[0.3333333333333333,\"#9c179e\"],[0.4444444444444444,\"#bd3786\"],[0.5555555555555556,\"#d8576b\"],[0.6666666666666666,\"#ed7953\"],[0.7777777777777778,\"#fb9f3a\"],[0.8888888888888888,\"#fdca26\"],[1.0,\"#f0f921\"]]}],\"heatmap\":[{\"type\":\"heatmap\",\"colorbar\":{\"outlinewidth\":0,\"ticks\":\"\"},\"colorscale\":[[0.0,\"#0d0887\"],[0.1111111111111111,\"#46039f\"],[0.2222222222222222,\"#7201a8\"],[0.3333333333333333,\"#9c179e\"],[0.4444444444444444,\"#bd3786\"],[0.5555555555555556,\"#d8576b\"],[0.6666666666666666,\"#ed7953\"],[0.7777777777777778,\"#fb9f3a\"],[0.8888888888888888,\"#fdca26\"],[1.0,\"#f0f921\"]]}],\"heatmapgl\":[{\"type\":\"heatmapgl\",\"colorbar\":{\"outlinewidth\":0,\"ticks\":\"\"},\"colorscale\":[[0.0,\"#0d0887\"],[0.1111111111111111,\"#46039f\"],[0.2222222222222222,\"#7201a8\"],[0.3333333333333333,\"#9c179e\"],[0.4444444444444444,\"#bd3786\"],[0.5555555555555556,\"#d8576b\"],[0.6666666666666666,\"#ed7953\"],[0.7777777777777778,\"#fb9f3a\"],[0.8888888888888888,\"#fdca26\"],[1.0,\"#f0f921\"]]}],\"contourcarpet\":[{\"type\":\"contourcarpet\",\"colorbar\":{\"outlinewidth\":0,\"ticks\":\"\"}}],\"contour\":[{\"type\":\"contour\",\"colorbar\":{\"outlinewidth\":0,\"ticks\":\"\"},\"colorscale\":[[0.0,\"#0d0887\"],[0.1111111111111111,\"#46039f\"],[0.2222222222222222,\"#7201a8\"],[0.3333333333333333,\"#9c179e\"],[0.4444444444444444,\"#bd3786\"],[0.5555555555555556,\"#d8576b\"],[0.6666666666666666,\"#ed7953\"],[0.7777777777777778,\"#fb9f3a\"],[0.8888888888888888,\"#fdca26\"],[1.0,\"#f0f921\"]]}],\"surface\":[{\"type\":\"surface\",\"colorbar\":{\"outlinewidth\":0,\"ticks\":\"\"},\"colorscale\":[[0.0,\"#0d0887\"],[0.1111111111111111,\"#46039f\"],[0.2222222222222222,\"#7201a8\"],[0.3333333333333333,\"#9c179e\"],[0.4444444444444444,\"#bd3786\"],[0.5555555555555556,\"#d8576b\"],[0.6666666666666666,\"#ed7953\"],[0.7777777777777778,\"#fb9f3a\"],[0.8888888888888888,\"#fdca26\"],[1.0,\"#f0f921\"]]}],\"mesh3d\":[{\"type\":\"mesh3d\",\"colorbar\":{\"outlinewidth\":0,\"ticks\":\"\"}}],\"scatter\":[{\"fillpattern\":{\"fillmode\":\"overlay\",\"size\":10,\"solidity\":0.2},\"type\":\"scatter\"}],\"parcoords\":[{\"type\":\"parcoords\",\"line\":{\"colorbar\":{\"outlinewidth\":0,\"ticks\":\"\"}}}],\"scatterpolargl\":[{\"type\":\"scatterpolargl\",\"marker\":{\"colorbar\":{\"outlinewidth\":0,\"ticks\":\"\"}}}],\"bar\":[{\"error_x\":{\"color\":\"#2a3f5f\"},\"error_y\":{\"color\":\"#2a3f5f\"},\"marker\":{\"line\":{\"color\":\"#E5ECF6\",\"width\":0.5},\"pattern\":{\"fillmode\":\"overlay\",\"size\":10,\"solidity\":0.2}},\"type\":\"bar\"}],\"scattergeo\":[{\"type\":\"scattergeo\",\"marker\":{\"colorbar\":{\"outlinewidth\":0,\"ticks\":\"\"}}}],\"scatterpolar\":[{\"type\":\"scatterpolar\",\"marker\":{\"colorbar\":{\"outlinewidth\":0,\"ticks\":\"\"}}}],\"histogram\":[{\"marker\":{\"pattern\":{\"fillmode\":\"overlay\",\"size\":10,\"solidity\":0.2}},\"type\":\"histogram\"}],\"scattergl\":[{\"type\":\"scattergl\",\"marker\":{\"colorbar\":{\"outlinewidth\":0,\"ticks\":\"\"}}}],\"scatter3d\":[{\"type\":\"scatter3d\",\"line\":{\"colorbar\":{\"outlinewidth\":0,\"ticks\":\"\"}},\"marker\":{\"colorbar\":{\"outlinewidth\":0,\"ticks\":\"\"}}}],\"scattermapbox\":[{\"type\":\"scattermapbox\",\"marker\":{\"colorbar\":{\"outlinewidth\":0,\"ticks\":\"\"}}}],\"scatterternary\":[{\"type\":\"scatterternary\",\"marker\":{\"colorbar\":{\"outlinewidth\":0,\"ticks\":\"\"}}}],\"scattercarpet\":[{\"type\":\"scattercarpet\",\"marker\":{\"colorbar\":{\"outlinewidth\":0,\"ticks\":\"\"}}}],\"carpet\":[{\"aaxis\":{\"endlinecolor\":\"#2a3f5f\",\"gridcolor\":\"white\",\"linecolor\":\"white\",\"minorgridcolor\":\"white\",\"startlinecolor\":\"#2a3f5f\"},\"baxis\":{\"endlinecolor\":\"#2a3f5f\",\"gridcolor\":\"white\",\"linecolor\":\"white\",\"minorgridcolor\":\"white\",\"startlinecolor\":\"#2a3f5f\"},\"type\":\"carpet\"}],\"table\":[{\"cells\":{\"fill\":{\"color\":\"#EBF0F8\"},\"line\":{\"color\":\"white\"}},\"header\":{\"fill\":{\"color\":\"#C8D4E3\"},\"line\":{\"color\":\"white\"}},\"type\":\"table\"}],\"barpolar\":[{\"marker\":{\"line\":{\"color\":\"#E5ECF6\",\"width\":0.5},\"pattern\":{\"fillmode\":\"overlay\",\"size\":10,\"solidity\":0.2}},\"type\":\"barpolar\"}],\"pie\":[{\"automargin\":true,\"type\":\"pie\"}]},\"layout\":{\"autotypenumbers\":\"strict\",\"colorway\":[\"#636efa\",\"#EF553B\",\"#00cc96\",\"#ab63fa\",\"#FFA15A\",\"#19d3f3\",\"#FF6692\",\"#B6E880\",\"#FF97FF\",\"#FECB52\"],\"font\":{\"color\":\"#2a3f5f\"},\"hovermode\":\"closest\",\"hoverlabel\":{\"align\":\"left\"},\"paper_bgcolor\":\"white\",\"plot_bgcolor\":\"#E5ECF6\",\"polar\":{\"bgcolor\":\"#E5ECF6\",\"angularaxis\":{\"gridcolor\":\"white\",\"linecolor\":\"white\",\"ticks\":\"\"},\"radialaxis\":{\"gridcolor\":\"white\",\"linecolor\":\"white\",\"ticks\":\"\"}},\"ternary\":{\"bgcolor\":\"#E5ECF6\",\"aaxis\":{\"gridcolor\":\"white\",\"linecolor\":\"white\",\"ticks\":\"\"},\"baxis\":{\"gridcolor\":\"white\",\"linecolor\":\"white\",\"ticks\":\"\"},\"caxis\":{\"gridcolor\":\"white\",\"linecolor\":\"white\",\"ticks\":\"\"}},\"coloraxis\":{\"colorbar\":{\"outlinewidth\":0,\"ticks\":\"\"}},\"colorscale\":{\"sequential\":[[0.0,\"#0d0887\"],[0.1111111111111111,\"#46039f\"],[0.2222222222222222,\"#7201a8\"],[0.3333333333333333,\"#9c179e\"],[0.4444444444444444,\"#bd3786\"],[0.5555555555555556,\"#d8576b\"],[0.6666666666666666,\"#ed7953\"],[0.7777777777777778,\"#fb9f3a\"],[0.8888888888888888,\"#fdca26\"],[1.0,\"#f0f921\"]],\"sequentialminus\":[[0.0,\"#0d0887\"],[0.1111111111111111,\"#46039f\"],[0.2222222222222222,\"#7201a8\"],[0.3333333333333333,\"#9c179e\"],[0.4444444444444444,\"#bd3786\"],[0.5555555555555556,\"#d8576b\"],[0.6666666666666666,\"#ed7953\"],[0.7777777777777778,\"#fb9f3a\"],[0.8888888888888888,\"#fdca26\"],[1.0,\"#f0f921\"]],\"diverging\":[[0,\"#8e0152\"],[0.1,\"#c51b7d\"],[0.2,\"#de77ae\"],[0.3,\"#f1b6da\"],[0.4,\"#fde0ef\"],[0.5,\"#f7f7f7\"],[0.6,\"#e6f5d0\"],[0.7,\"#b8e186\"],[0.8,\"#7fbc41\"],[0.9,\"#4d9221\"],[1,\"#276419\"]]},\"xaxis\":{\"gridcolor\":\"white\",\"linecolor\":\"white\",\"ticks\":\"\",\"title\":{\"standoff\":15},\"zerolinecolor\":\"white\",\"automargin\":true,\"zerolinewidth\":2},\"yaxis\":{\"gridcolor\":\"white\",\"linecolor\":\"white\",\"ticks\":\"\",\"title\":{\"standoff\":15},\"zerolinecolor\":\"white\",\"automargin\":true,\"zerolinewidth\":2},\"scene\":{\"xaxis\":{\"backgroundcolor\":\"#E5ECF6\",\"gridcolor\":\"white\",\"linecolor\":\"white\",\"showbackground\":true,\"ticks\":\"\",\"zerolinecolor\":\"white\",\"gridwidth\":2},\"yaxis\":{\"backgroundcolor\":\"#E5ECF6\",\"gridcolor\":\"white\",\"linecolor\":\"white\",\"showbackground\":true,\"ticks\":\"\",\"zerolinecolor\":\"white\",\"gridwidth\":2},\"zaxis\":{\"backgroundcolor\":\"#E5ECF6\",\"gridcolor\":\"white\",\"linecolor\":\"white\",\"showbackground\":true,\"ticks\":\"\",\"zerolinecolor\":\"white\",\"gridwidth\":2}},\"shapedefaults\":{\"line\":{\"color\":\"#2a3f5f\"}},\"annotationdefaults\":{\"arrowcolor\":\"#2a3f5f\",\"arrowhead\":0,\"arrowwidth\":1},\"geo\":{\"bgcolor\":\"white\",\"landcolor\":\"#E5ECF6\",\"subunitcolor\":\"white\",\"showland\":true,\"showlakes\":true,\"lakecolor\":\"white\"},\"title\":{\"x\":0.05},\"mapbox\":{\"style\":\"light\"}}},\"title\":{\"text\":\"3D Scatter Plot Example\"},\"scene\":{\"xaxis\":{\"title\":{\"text\":\"X Axis\"}},\"yaxis\":{\"title\":{\"text\":\"Y Axis\"}},\"zaxis\":{\"title\":{\"text\":\"Z Axis\"}}}},                        {\"responsive\": true}                    ).then(function(){\n",
       "                            \n",
       "var gd = document.getElementById('45331b47-7a3f-48fc-984c-6fa195c0dbbf');\n",
       "var x = new MutationObserver(function (mutations, observer) {{\n",
       "        var display = window.getComputedStyle(gd).display;\n",
       "        if (!display || display === 'none') {{\n",
       "            console.log([gd, 'removed!']);\n",
       "            Plotly.purge(gd);\n",
       "            observer.disconnect();\n",
       "        }}\n",
       "}});\n",
       "\n",
       "// Listen for the removal of the full notebook cells\n",
       "var notebookContainer = gd.closest('#notebook-container');\n",
       "if (notebookContainer) {{\n",
       "    x.observe(notebookContainer, {childList: true});\n",
       "}}\n",
       "\n",
       "// Listen for the clearing of the current output cell\n",
       "var outputEl = gd.closest('.output');\n",
       "if (outputEl) {{\n",
       "    x.observe(outputEl, {childList: true});\n",
       "}}\n",
       "\n",
       "                        })                };                });            </script>        </div>"
      ]
     },
     "metadata": {},
     "output_type": "display_data"
    }
   ],
   "source": [
    "import plotly.graph_objs as go\n",
    "import numpy as np\n",
    "\n",
    "# 샘플 데이터 생성\n",
    "x, y, z = np.random.random(100), np.random.random(100), np.random.random(100)\n",
    "\n",
    "# 3D 산점도 생성\n",
    "fig = go.Figure(data=[go.Scatter3d(x=x, y=y, z=z,\n",
    "                                   mode='markers',\n",
    "                                   marker=dict(size=12,\n",
    "                                               color=z,  # 색상은 z 값에 따라 설정\n",
    "                                               opacity=0.7))])\n",
    "\n",
    "# 레이아웃 설정\n",
    "fig.update_layout(title='3D Scatter Plot Example',\n",
    "                  scene=dict(\n",
    "                      xaxis_title='X Axis',\n",
    "                      yaxis_title='Y Axis',\n",
    "                      zaxis_title='Z Axis'\n",
    "                  ))\n",
    "\n",
    "# 그래프 표시\n",
    "fig.show()\n"
   ]
  },
  {
   "cell_type": "code",
   "execution_count": 8,
   "metadata": {},
   "outputs": [
    {
     "name": "stderr",
     "output_type": "stream",
     "text": [
      "/Users/ryan/Online-Backend-Python/venv/lib/python3.11/site-packages/plotly/express/_core.py:2065: FutureWarning:\n",
      "\n",
      "When grouping with a length-1 list-like, you will need to pass a length-1 tuple to get_group in a future version of pandas. Pass `(name,)` instead of `name` to silence this warning.\n",
      "\n"
     ]
    },
    {
     "data": {
      "application/vnd.plotly.v1+json": {
       "config": {
        "plotlyServerURL": "https://plot.ly"
       },
       "data": [
        {
         "customdata": [
          [
           1,
           70,
           false
          ],
          [
           4,
           9,
           false
          ],
          [
           5,
           28,
           false
          ],
          [
           13,
           28,
           false
          ],
          [
           15,
           74,
           true
          ],
          [
           17,
           2,
           true
          ],
          [
           19,
           71,
           true
          ],
          [
           20,
           87,
           true
          ],
          [
           22,
           81,
           false
          ],
          [
           23,
           3,
           false
          ],
          [
           25,
           80,
           false
          ],
          [
           26,
           82,
           false
          ],
          [
           29,
           82,
           true
          ],
          [
           39,
           83,
           false
          ],
          [
           41,
           74,
           false
          ],
          [
           42,
           74,
           true
          ],
          [
           43,
           9,
           true
          ],
          [
           48,
           38,
           false
          ],
          [
           51,
           91,
           false
          ],
          [
           55,
           61,
           true
          ],
          [
           59,
           23,
           true
          ],
          [
           60,
           52,
           false
          ],
          [
           66,
           15,
           true
          ],
          [
           67,
           36,
           false
          ],
          [
           70,
           42,
           false
          ],
          [
           81,
           6,
           true
          ],
          [
           90,
           14,
           true
          ],
          [
           92,
           80,
           true
          ],
          [
           98,
           20,
           false
          ],
          [
           102,
           65,
           true
          ],
          [
           106,
           68,
           true
          ],
          [
           107,
           45,
           true
          ],
          [
           110,
           86,
           false
          ],
          [
           116,
           97,
           false
          ],
          [
           117,
           86,
           true
          ],
          [
           118,
           82,
           false
          ],
          [
           119,
           10,
           false
          ],
          [
           131,
           54,
           true
          ],
          [
           133,
           25,
           true
          ],
          [
           134,
           45,
           true
          ],
          [
           136,
           84,
           false
          ],
          [
           142,
           7,
           true
          ],
          [
           146,
           98,
           false
          ],
          [
           159,
           60,
           true
          ],
          [
           160,
           88,
           false
          ],
          [
           161,
           61,
           false
          ],
          [
           163,
           74,
           true
          ],
          [
           165,
           28,
           false
          ],
          [
           169,
           21,
           false
          ],
          [
           177,
           3,
           true
          ],
          [
           178,
           53,
           true
          ],
          [
           181,
           80,
           true
          ],
          [
           188,
           78,
           true
          ],
          [
           189,
           5,
           true
          ],
          [
           190,
           78,
           false
          ],
          [
           193,
           98,
           false
          ],
          [
           201,
           17,
           true
          ],
          [
           213,
           15,
           false
          ],
          [
           214,
           86,
           false
          ],
          [
           215,
           17,
           true
          ],
          [
           218,
           77,
           true
          ],
          [
           228,
           10,
           true
          ],
          [
           229,
           6,
           false
          ],
          [
           235,
           2,
           true
          ],
          [
           236,
           69,
           true
          ],
          [
           238,
           29,
           false
          ],
          [
           241,
           58,
           false
          ],
          [
           245,
           88,
           true
          ],
          [
           248,
           57,
           true
          ],
          [
           249,
           50,
           false
          ],
          [
           259,
           56,
           true
          ],
          [
           260,
           75,
           false
          ],
          [
           263,
           90,
           false
          ],
          [
           264,
           79,
           true
          ],
          [
           265,
           97,
           true
          ],
          [
           270,
           68,
           false
          ],
          [
           275,
           60,
           false
          ],
          [
           277,
           29,
           false
          ],
          [
           280,
           29,
           false
          ],
          [
           284,
           78,
           false
          ],
          [
           285,
           38,
           false
          ],
          [
           287,
           74,
           true
          ],
          [
           289,
           32,
           true
          ],
          [
           292,
           70,
           false
          ],
          [
           294,
           22,
           true
          ],
          [
           305,
           91,
           true
          ],
          [
           309,
           73,
           true
          ],
          [
           317,
           73,
           true
          ],
          [
           318,
           92,
           false
          ],
          [
           326,
           37,
           false
          ],
          [
           331,
           46,
           false
          ],
          [
           346,
           52,
           false
          ],
          [
           348,
           29,
           true
          ],
          [
           350,
           14,
           true
          ],
          [
           352,
           51,
           true
          ],
          [
           355,
           91,
           false
          ],
          [
           356,
           6,
           false
          ],
          [
           366,
           35,
           false
          ],
          [
           367,
           62,
           false
          ],
          [
           371,
           76,
           false
          ],
          [
           375,
           84,
           false
          ],
          [
           376,
           77,
           true
          ],
          [
           381,
           67,
           false
          ],
          [
           384,
           26,
           true
          ],
          [
           385,
           63,
           true
          ],
          [
           387,
           41,
           true
          ],
          [
           389,
           45,
           true
          ],
          [
           394,
           86,
           true
          ],
          [
           395,
           95,
           true
          ],
          [
           396,
           89,
           false
          ],
          [
           399,
           7,
           false
          ],
          [
           404,
           47,
           true
          ],
          [
           407,
           72,
           true
          ],
          [
           419,
           93,
           true
          ],
          [
           423,
           92,
           true
          ],
          [
           429,
           71,
           true
          ],
          [
           431,
           38,
           false
          ],
          [
           437,
           59,
           true
          ],
          [
           438,
           80,
           true
          ],
          [
           440,
           61,
           true
          ],
          [
           445,
           17,
           true
          ],
          [
           447,
           31,
           true
          ],
          [
           449,
           90,
           false
          ],
          [
           451,
           50,
           false
          ],
          [
           456,
           79,
           false
          ],
          [
           457,
           13,
           false
          ],
          [
           462,
           36,
           false
          ],
          [
           463,
           82,
           true
          ],
          [
           464,
           75,
           true
          ],
          [
           471,
           8,
           true
          ],
          [
           472,
           17,
           false
          ],
          [
           474,
           25,
           false
          ],
          [
           478,
           59,
           true
          ],
          [
           479,
           58,
           true
          ],
          [
           481,
           12,
           false
          ],
          [
           483,
           27,
           true
          ],
          [
           484,
           10,
           false
          ],
          [
           485,
           67,
           true
          ],
          [
           487,
           16,
           true
          ],
          [
           495,
           36,
           false
          ],
          [
           500,
           42,
           true
          ],
          [
           501,
           97,
           false
          ],
          [
           503,
           68,
           true
          ],
          [
           504,
           91,
           true
          ],
          [
           505,
           13,
           false
          ],
          [
           511,
           12,
           true
          ],
          [
           512,
           98,
           false
          ],
          [
           514,
           16,
           false
          ],
          [
           521,
           23,
           false
          ],
          [
           524,
           34,
           false
          ],
          [
           526,
           6,
           true
          ],
          [
           529,
           17,
           false
          ],
          [
           531,
           48,
           false
          ],
          [
           532,
           37,
           false
          ],
          [
           534,
           74,
           false
          ],
          [
           535,
           4,
           false
          ],
          [
           536,
           95,
           false
          ],
          [
           537,
           60,
           true
          ],
          [
           538,
           10,
           false
          ],
          [
           549,
           14,
           false
          ],
          [
           552,
           47,
           false
          ],
          [
           558,
           69,
           false
          ],
          [
           562,
           5,
           true
          ],
          [
           564,
           47,
           true
          ],
          [
           565,
           67,
           true
          ],
          [
           567,
           18,
           true
          ],
          [
           568,
           94,
           true
          ],
          [
           569,
           80,
           false
          ],
          [
           573,
           21,
           false
          ],
          [
           574,
           97,
           true
          ],
          [
           575,
           55,
           true
          ],
          [
           577,
           31,
           true
          ],
          [
           583,
           39,
           true
          ],
          [
           585,
           61,
           false
          ],
          [
           590,
           62,
           true
          ],
          [
           591,
           76,
           true
          ],
          [
           593,
           80,
           false
          ],
          [
           594,
           6,
           false
          ],
          [
           598,
           30,
           false
          ],
          [
           601,
           33,
           false
          ],
          [
           608,
           13,
           true
          ],
          [
           614,
           45,
           false
          ],
          [
           615,
           21,
           false
          ],
          [
           617,
           49,
           false
          ],
          [
           623,
           73,
           false
          ],
          [
           625,
           72,
           false
          ],
          [
           628,
           95,
           false
          ],
          [
           630,
           38,
           true
          ],
          [
           633,
           6,
           true
          ],
          [
           638,
           21,
           false
          ],
          [
           639,
           46,
           false
          ],
          [
           646,
           34,
           true
          ],
          [
           654,
           23,
           false
          ],
          [
           657,
           59,
           true
          ],
          [
           660,
           13,
           false
          ],
          [
           663,
           90,
           true
          ],
          [
           673,
           11,
           true
          ],
          [
           678,
           80,
           true
          ],
          [
           687,
           25,
           true
          ],
          [
           688,
           26,
           false
          ],
          [
           691,
           27,
           true
          ],
          [
           701,
           77,
           true
          ],
          [
           703,
           40,
           true
          ],
          [
           704,
           94,
           true
          ],
          [
           706,
           18,
           false
          ],
          [
           707,
           2,
           true
          ],
          [
           708,
           27,
           true
          ],
          [
           709,
           8,
           true
          ],
          [
           719,
           14,
           true
          ],
          [
           723,
           4,
           true
          ],
          [
           728,
           58,
           true
          ],
          [
           733,
           78,
           true
          ],
          [
           739,
           29,
           true
          ],
          [
           740,
           75,
           true
          ],
          [
           747,
           80,
           true
          ],
          [
           753,
           81,
           true
          ],
          [
           756,
           72,
           false
          ],
          [
           760,
           30,
           false
          ],
          [
           763,
           52,
           false
          ],
          [
           770,
           7,
           false
          ],
          [
           771,
           54,
           true
          ],
          [
           778,
           13,
           true
          ],
          [
           794,
           78,
           true
          ],
          [
           796,
           47,
           true
          ],
          [
           801,
           34,
           false
          ],
          [
           804,
           38,
           false
          ],
          [
           805,
           78,
           false
          ],
          [
           808,
           50,
           false
          ],
          [
           810,
           86,
           true
          ],
          [
           815,
           93,
           true
          ],
          [
           816,
           90,
           true
          ],
          [
           817,
           82,
           false
          ],
          [
           818,
           86,
           false
          ],
          [
           819,
           6,
           false
          ],
          [
           820,
           74,
           false
          ],
          [
           825,
           48,
           true
          ],
          [
           828,
           19,
           false
          ],
          [
           829,
           19,
           true
          ],
          [
           837,
           88,
           true
          ],
          [
           844,
           85,
           true
          ],
          [
           848,
           14,
           true
          ],
          [
           850,
           88,
           true
          ],
          [
           851,
           3,
           true
          ],
          [
           861,
           74,
           false
          ],
          [
           864,
           67,
           false
          ],
          [
           870,
           44,
           false
          ],
          [
           885,
           41,
           false
          ],
          [
           886,
           82,
           false
          ],
          [
           894,
           17,
           false
          ],
          [
           907,
           88,
           false
          ],
          [
           914,
           4,
           false
          ],
          [
           918,
           12,
           false
          ],
          [
           922,
           97,
           false
          ],
          [
           929,
           27,
           false
          ],
          [
           930,
           38,
           true
          ],
          [
           942,
           36,
           false
          ],
          [
           944,
           59,
           true
          ],
          [
           947,
           56,
           true
          ],
          [
           954,
           39,
           false
          ],
          [
           959,
           91,
           false
          ],
          [
           960,
           47,
           false
          ],
          [
           965,
           39,
           true
          ],
          [
           975,
           84,
           true
          ],
          [
           976,
           53,
           true
          ]
         ],
         "hovertemplate": "category=D<br>age=%{x}<br>salary=%{y}<br>id=%{customdata[0]}<br>score=%{customdata[1]}<br>on_leave=%{customdata[2]}<extra></extra>",
         "legendgroup": "D",
         "marker": {
          "color": "#636efa",
          "symbol": "circle"
         },
         "mode": "markers",
         "name": "D",
         "orientation": "v",
         "showlegend": true,
         "type": "scatter",
         "x": [
          18,
          57,
          27,
          30,
          56,
          41,
          35,
          55,
          31,
          26,
          38,
          34,
          18,
          19,
          50,
          49,
          28,
          52,
          54,
          35,
          49,
          19,
          29,
          36,
          32,
          58,
          23,
          53,
          54,
          52,
          27,
          18,
          20,
          53,
          38,
          35,
          45,
          18,
          37,
          58,
          48,
          31,
          49,
          34,
          42,
          47,
          43,
          37,
          54,
          59,
          36,
          29,
          21,
          36,
          21,
          53,
          28,
          53,
          57,
          27,
          41,
          39,
          51,
          58,
          54,
          29,
          34,
          53,
          54,
          43,
          38,
          20,
          30,
          20,
          45,
          40,
          36,
          37,
          39,
          45,
          27,
          35,
          18,
          54,
          42,
          31,
          46,
          36,
          22,
          18,
          22,
          48,
          44,
          27,
          24,
          26,
          31,
          25,
          38,
          41,
          41,
          48,
          41,
          51,
          40,
          59,
          18,
          21,
          19,
          38,
          34,
          49,
          27,
          19,
          54,
          58,
          46,
          51,
          25,
          26,
          45,
          56,
          25,
          49,
          27,
          37,
          26,
          18,
          58,
          37,
          44,
          50,
          22,
          47,
          35,
          20,
          38,
          33,
          59,
          44,
          52,
          44,
          34,
          58,
          18,
          24,
          48,
          59,
          20,
          55,
          54,
          47,
          30,
          50,
          34,
          20,
          26,
          28,
          44,
          42,
          24,
          56,
          54,
          39,
          49,
          53,
          26,
          43,
          34,
          43,
          55,
          23,
          26,
          23,
          21,
          32,
          23,
          22,
          42,
          58,
          25,
          52,
          41,
          59,
          25,
          30,
          25,
          47,
          38,
          44,
          41,
          54,
          55,
          51,
          43,
          38,
          36,
          21,
          18,
          54,
          51,
          24,
          56,
          56,
          39,
          20,
          30,
          47,
          43,
          59,
          44,
          55,
          30,
          47,
          23,
          30,
          30,
          47,
          33,
          55,
          35,
          34,
          44,
          35,
          31,
          26,
          50,
          54,
          47,
          40,
          48,
          37,
          22,
          38,
          28,
          59,
          58,
          48,
          57,
          55,
          24,
          33,
          55,
          25,
          50,
          26,
          27,
          22,
          31,
          22,
          51,
          24,
          34,
          23,
          25,
          22,
          47,
          32,
          32,
          57,
          19,
          42,
          39,
          46
         ],
         "xaxis": "x",
         "y": [
          101071,
          136213,
          94799,
          84772,
          71808,
          140302,
          80512,
          117360,
          56418,
          110736,
          34562,
          147074,
          70719,
          48701,
          144766,
          103678,
          85060,
          119333,
          37951,
          64381,
          124318,
          111618,
          144233,
          136192,
          146464,
          91096,
          78428,
          53289,
          48058,
          40525,
          51707,
          124658,
          122807,
          93472,
          124609,
          142296,
          46627,
          47181,
          67328,
          130578,
          120557,
          113575,
          143271,
          85167,
          99502,
          115969,
          119744,
          52075,
          57532,
          77708,
          61949,
          66967,
          140565,
          99616,
          108980,
          40706,
          49641,
          51540,
          86606,
          84898,
          91868,
          143795,
          80209,
          36421,
          124887,
          135802,
          123085,
          50594,
          50324,
          93458,
          101116,
          99278,
          134013,
          131297,
          64074,
          106033,
          105262,
          143346,
          69471,
          121445,
          72694,
          148287,
          96717,
          75610,
          106573,
          143795,
          119034,
          139221,
          135251,
          102851,
          72898,
          107800,
          88158,
          65422,
          83015,
          77699,
          100775,
          139406,
          117429,
          145569,
          78193,
          48500,
          69841,
          51603,
          70921,
          109809,
          89463,
          72084,
          49021,
          70556,
          99728,
          103828,
          84137,
          36424,
          130555,
          98048,
          139966,
          144282,
          51634,
          90136,
          146716,
          146131,
          44640,
          30848,
          43189,
          126051,
          97629,
          133392,
          138094,
          56794,
          47143,
          131691,
          96413,
          103533,
          95617,
          130550,
          42316,
          144378,
          42772,
          106731,
          109280,
          116648,
          50929,
          64664,
          62647,
          69200,
          139655,
          98514,
          56068,
          102536,
          105716,
          43553,
          125816,
          144761,
          125647,
          89742,
          123513,
          91804,
          66016,
          89500,
          122792,
          59426,
          44998,
          54071,
          137319,
          51530,
          92200,
          87988,
          73251,
          115615,
          52099,
          34754,
          94916,
          35612,
          127823,
          126737,
          118687,
          93719,
          135261,
          114056,
          143048,
          129502,
          94552,
          74273,
          148276,
          69965,
          47611,
          53771,
          125019,
          119753,
          126376,
          61318,
          36462,
          77263,
          89707,
          123992,
          66564,
          45920,
          47729,
          31365,
          114402,
          33185,
          129841,
          65081,
          97409,
          42683,
          51568,
          65063,
          133124,
          144896,
          130630,
          31193,
          96443,
          149714,
          81032,
          77085,
          93382,
          37533,
          38527,
          51395,
          70766,
          59951,
          51454,
          101685,
          125078,
          94939,
          99784,
          118030,
          75119,
          117208,
          100129,
          106138,
          86543,
          148887,
          131643,
          112293,
          44074,
          32073,
          118583,
          140627,
          117669,
          116540,
          133853,
          111473,
          113406,
          44920,
          123323,
          110477,
          121513,
          99892,
          137787,
          149426,
          69206,
          38947,
          142843,
          122754,
          110979,
          86517,
          113098,
          54992,
          121934,
          66342,
          58327,
          128410
         ],
         "yaxis": "y"
        },
        {
         "customdata": [
          [
           2,
           6,
           false
          ],
          [
           6,
           77,
           true
          ],
          [
           9,
           85,
           false
          ],
          [
           18,
           37,
           true
          ],
          [
           21,
           94,
           false
          ],
          [
           24,
           98,
           true
          ],
          [
           30,
           28,
           true
          ],
          [
           31,
           35,
           false
          ],
          [
           33,
           26,
           false
          ],
          [
           34,
           42,
           false
          ],
          [
           38,
           43,
           false
          ],
          [
           40,
           62,
           false
          ],
          [
           49,
           31,
           false
          ],
          [
           50,
           22,
           false
          ],
          [
           52,
           57,
           true
          ],
          [
           53,
           21,
           true
          ],
          [
           56,
           41,
           false
          ],
          [
           57,
           99,
           true
          ],
          [
           58,
           41,
           false
          ],
          [
           63,
           41,
           false
          ],
          [
           74,
           93,
           false
          ],
          [
           76,
           31,
           false
          ],
          [
           86,
           67,
           true
          ],
          [
           87,
           20,
           true
          ],
          [
           88,
           91,
           true
          ],
          [
           95,
           43,
           true
          ],
          [
           100,
           34,
           true
          ],
          [
           103,
           22,
           true
          ],
          [
           114,
           8,
           false
          ],
          [
           123,
           30,
           true
          ],
          [
           127,
           42,
           true
          ],
          [
           132,
           83,
           true
          ],
          [
           137,
           83,
           false
          ],
          [
           138,
           37,
           true
          ],
          [
           144,
           37,
           true
          ],
          [
           145,
           84,
           true
          ],
          [
           148,
           45,
           false
          ],
          [
           149,
           39,
           false
          ],
          [
           154,
           87,
           false
          ],
          [
           158,
           97,
           false
          ],
          [
           166,
           24,
           true
          ],
          [
           175,
           89,
           false
          ],
          [
           186,
           5,
           true
          ],
          [
           192,
           30,
           false
          ],
          [
           196,
           93,
           true
          ],
          [
           199,
           61,
           false
          ],
          [
           202,
           29,
           true
          ],
          [
           205,
           59,
           true
          ],
          [
           209,
           17,
           false
          ],
          [
           211,
           79,
           true
          ],
          [
           219,
           47,
           true
          ],
          [
           220,
           66,
           true
          ],
          [
           222,
           9,
           true
          ],
          [
           223,
           40,
           true
          ],
          [
           225,
           51,
           true
          ],
          [
           226,
           47,
           true
          ],
          [
           239,
           27,
           false
          ],
          [
           240,
           17,
           false
          ],
          [
           243,
           49,
           false
          ],
          [
           244,
           72,
           false
          ],
          [
           250,
           15,
           true
          ],
          [
           253,
           60,
           false
          ],
          [
           254,
           39,
           false
          ],
          [
           261,
           79,
           false
          ],
          [
           267,
           5,
           false
          ],
          [
           268,
           30,
           true
          ],
          [
           271,
           59,
           false
          ],
          [
           278,
           27,
           true
          ],
          [
           282,
           75,
           true
          ],
          [
           283,
           97,
           false
          ],
          [
           286,
           11,
           true
          ],
          [
           290,
           50,
           true
          ],
          [
           295,
           75,
           false
          ],
          [
           296,
           35,
           true
          ],
          [
           298,
           68,
           false
          ],
          [
           299,
           63,
           true
          ],
          [
           302,
           29,
           false
          ],
          [
           307,
           90,
           false
          ],
          [
           308,
           26,
           true
          ],
          [
           310,
           50,
           false
          ],
          [
           311,
           95,
           true
          ],
          [
           312,
           94,
           true
          ],
          [
           314,
           71,
           false
          ],
          [
           315,
           56,
           false
          ],
          [
           320,
           48,
           false
          ],
          [
           321,
           71,
           false
          ],
          [
           322,
           67,
           false
          ],
          [
           323,
           71,
           true
          ],
          [
           328,
           97,
           true
          ],
          [
           343,
           10,
           false
          ],
          [
           357,
           73,
           false
          ],
          [
           358,
           65,
           false
          ],
          [
           361,
           70,
           true
          ],
          [
           372,
           18,
           true
          ],
          [
           378,
           21,
           false
          ],
          [
           382,
           17,
           true
          ],
          [
           392,
           58,
           true
          ],
          [
           393,
           17,
           false
          ],
          [
           397,
           92,
           false
          ],
          [
           398,
           77,
           false
          ],
          [
           400,
           26,
           false
          ],
          [
           402,
           68,
           true
          ],
          [
           410,
           6,
           true
          ],
          [
           412,
           53,
           true
          ],
          [
           415,
           37,
           true
          ],
          [
           420,
           56,
           false
          ],
          [
           421,
           61,
           true
          ],
          [
           428,
           19,
           true
          ],
          [
           430,
           50,
           true
          ],
          [
           432,
           67,
           false
          ],
          [
           441,
           31,
           false
          ],
          [
           455,
           39,
           true
          ],
          [
           468,
           80,
           true
          ],
          [
           469,
           28,
           true
          ],
          [
           473,
           92,
           false
          ],
          [
           475,
           94,
           true
          ],
          [
           480,
           18,
           true
          ],
          [
           488,
           27,
           true
          ],
          [
           490,
           0,
           true
          ],
          [
           491,
           7,
           true
          ],
          [
           492,
           25,
           false
          ],
          [
           494,
           59,
           false
          ],
          [
           498,
           72,
           false
          ],
          [
           502,
           36,
           true
          ],
          [
           508,
           72,
           false
          ],
          [
           515,
           5,
           true
          ],
          [
           516,
           40,
           true
          ],
          [
           520,
           22,
           true
          ],
          [
           539,
           29,
           false
          ],
          [
           540,
           97,
           false
          ],
          [
           541,
           13,
           false
          ],
          [
           546,
           51,
           true
          ],
          [
           547,
           16,
           false
          ],
          [
           560,
           16,
           true
          ],
          [
           563,
           23,
           true
          ],
          [
           570,
           31,
           false
          ],
          [
           572,
           47,
           true
          ],
          [
           576,
           74,
           false
          ],
          [
           579,
           66,
           false
          ],
          [
           582,
           19,
           true
          ],
          [
           587,
           44,
           false
          ],
          [
           589,
           94,
           true
          ],
          [
           592,
           16,
           true
          ],
          [
           596,
           45,
           false
          ],
          [
           604,
           6,
           false
          ],
          [
           605,
           2,
           false
          ],
          [
           606,
           26,
           true
          ],
          [
           611,
           62,
           true
          ],
          [
           624,
           10,
           false
          ],
          [
           631,
           48,
           true
          ],
          [
           632,
           60,
           false
          ],
          [
           634,
           70,
           false
          ],
          [
           644,
           20,
           false
          ],
          [
           647,
           61,
           false
          ],
          [
           649,
           27,
           false
          ],
          [
           650,
           73,
           false
          ],
          [
           659,
           42,
           false
          ],
          [
           662,
           27,
           true
          ],
          [
           667,
           37,
           true
          ],
          [
           669,
           58,
           false
          ],
          [
           672,
           75,
           true
          ],
          [
           677,
           26,
           false
          ],
          [
           680,
           52,
           false
          ],
          [
           684,
           60,
           true
          ],
          [
           685,
           73,
           false
          ],
          [
           686,
           99,
           false
          ],
          [
           694,
           53,
           true
          ],
          [
           695,
           23,
           false
          ],
          [
           697,
           92,
           true
          ],
          [
           700,
           13,
           true
          ],
          [
           705,
           68,
           true
          ],
          [
           711,
           51,
           false
          ],
          [
           712,
           87,
           false
          ],
          [
           713,
           47,
           true
          ],
          [
           726,
           18,
           true
          ],
          [
           729,
           73,
           false
          ],
          [
           731,
           12,
           true
          ],
          [
           738,
           76,
           false
          ],
          [
           749,
           15,
           false
          ],
          [
           752,
           22,
           false
          ],
          [
           758,
           92,
           false
          ],
          [
           761,
           41,
           false
          ],
          [
           762,
           9,
           true
          ],
          [
           765,
           81,
           true
          ],
          [
           766,
           50,
           false
          ],
          [
           768,
           64,
           false
          ],
          [
           773,
           58,
           false
          ],
          [
           775,
           57,
           false
          ],
          [
           777,
           76,
           false
          ],
          [
           780,
           18,
           false
          ],
          [
           783,
           44,
           true
          ],
          [
           785,
           75,
           true
          ],
          [
           788,
           78,
           false
          ],
          [
           790,
           54,
           false
          ],
          [
           791,
           50,
           true
          ],
          [
           792,
           43,
           true
          ],
          [
           795,
           6,
           true
          ],
          [
           798,
           9,
           true
          ],
          [
           799,
           3,
           true
          ],
          [
           802,
           94,
           false
          ],
          [
           806,
           80,
           true
          ],
          [
           809,
           13,
           true
          ],
          [
           811,
           46,
           false
          ],
          [
           812,
           99,
           true
          ],
          [
           821,
           43,
           true
          ],
          [
           822,
           1,
           true
          ],
          [
           823,
           73,
           false
          ],
          [
           826,
           79,
           true
          ],
          [
           835,
           53,
           true
          ],
          [
           839,
           43,
           true
          ],
          [
           843,
           14,
           false
          ],
          [
           847,
           97,
           false
          ],
          [
           852,
           68,
           true
          ],
          [
           865,
           27,
           true
          ],
          [
           871,
           84,
           false
          ],
          [
           875,
           44,
           true
          ],
          [
           879,
           71,
           true
          ],
          [
           880,
           68,
           false
          ],
          [
           881,
           95,
           true
          ],
          [
           882,
           93,
           true
          ],
          [
           884,
           32,
           true
          ],
          [
           890,
           54,
           false
          ],
          [
           900,
           94,
           false
          ],
          [
           902,
           86,
           false
          ],
          [
           903,
           37,
           true
          ],
          [
           906,
           12,
           false
          ],
          [
           919,
           0,
           false
          ],
          [
           920,
           69,
           false
          ],
          [
           931,
           84,
           true
          ],
          [
           932,
           41,
           true
          ],
          [
           933,
           82,
           false
          ],
          [
           934,
           70,
           false
          ],
          [
           935,
           38,
           false
          ],
          [
           936,
           34,
           true
          ],
          [
           951,
           3,
           false
          ],
          [
           952,
           64,
           true
          ],
          [
           956,
           84,
           true
          ],
          [
           958,
           76,
           false
          ],
          [
           961,
           57,
           true
          ],
          [
           962,
           21,
           true
          ],
          [
           963,
           12,
           false
          ],
          [
           967,
           29,
           true
          ],
          [
           968,
           55,
           true
          ],
          [
           971,
           0,
           true
          ],
          [
           980,
           8,
           true
          ],
          [
           981,
           6,
           false
          ],
          [
           985,
           40,
           false
          ],
          [
           987,
           94,
           true
          ],
          [
           988,
           76,
           false
          ],
          [
           992,
           58,
           false
          ],
          [
           995,
           80,
           true
          ],
          [
           997,
           74,
           true
          ],
          [
           1000,
           64,
           true
          ]
         ],
         "hovertemplate": "category=C<br>age=%{x}<br>salary=%{y}<br>id=%{customdata[0]}<br>score=%{customdata[1]}<br>on_leave=%{customdata[2]}<extra></extra>",
         "legendgroup": "C",
         "marker": {
          "color": "#EF553B",
          "symbol": "circle"
         },
         "mode": "markers",
         "name": "C",
         "orientation": "v",
         "showlegend": true,
         "type": "scatter",
         "x": [
          21,
          37,
          41,
          42,
          43,
          27,
          36,
          53,
          47,
          37,
          50,
          27,
          18,
          18,
          23,
          56,
          33,
          22,
          59,
          59,
          29,
          24,
          41,
          33,
          31,
          23,
          47,
          31,
          21,
          54,
          29,
          56,
          42,
          20,
          26,
          37,
          44,
          20,
          21,
          29,
          51,
          42,
          42,
          56,
          41,
          58,
          55,
          20,
          41,
          47,
          21,
          44,
          49,
          27,
          45,
          25,
          52,
          23,
          19,
          35,
          21,
          48,
          47,
          23,
          57,
          57,
          48,
          59,
          43,
          50,
          46,
          40,
          21,
          26,
          47,
          41,
          26,
          18,
          29,
          54,
          43,
          50,
          40,
          46,
          53,
          37,
          25,
          26,
          33,
          41,
          25,
          34,
          43,
          42,
          38,
          45,
          35,
          38,
          54,
          22,
          28,
          48,
          37,
          36,
          51,
          18,
          57,
          52,
          51,
          22,
          38,
          48,
          52,
          41,
          32,
          24,
          45,
          22,
          48,
          41,
          52,
          27,
          30,
          56,
          31,
          56,
          36,
          59,
          45,
          19,
          18,
          21,
          55,
          23,
          31,
          39,
          40,
          19,
          30,
          32,
          28,
          43,
          36,
          23,
          51,
          36,
          51,
          47,
          21,
          21,
          28,
          19,
          59,
          44,
          59,
          28,
          53,
          36,
          36,
          42,
          42,
          28,
          45,
          52,
          56,
          38,
          51,
          41,
          23,
          28,
          29,
          26,
          23,
          19,
          54,
          48,
          33,
          28,
          37,
          46,
          25,
          18,
          41,
          21,
          21,
          27,
          33,
          32,
          22,
          25,
          25,
          52,
          45,
          41,
          32,
          57,
          52,
          25,
          55,
          55,
          35,
          19,
          23,
          34,
          21,
          40,
          55,
          58,
          34,
          19,
          41,
          43,
          59,
          54,
          28,
          54,
          23,
          56,
          53,
          42,
          38,
          37,
          39,
          35,
          55,
          54,
          43,
          42,
          33,
          32,
          53,
          57,
          25,
          56,
          55,
          25,
          27,
          34,
          36,
          46,
          18,
          26,
          36,
          35,
          30,
          29,
          44,
          19,
          34,
          51,
          26,
          37,
          22
         ],
         "xaxis": "x",
         "y": [
          71622,
          128383,
          95017,
          97267,
          72113,
          112283,
          39103,
          140108,
          109131,
          44552,
          126204,
          36034,
          82315,
          52572,
          138541,
          113543,
          71470,
          37581,
          117647,
          122209,
          126934,
          46620,
          71333,
          74192,
          147162,
          76843,
          105025,
          108438,
          140039,
          65983,
          48065,
          119283,
          126090,
          55700,
          80933,
          36437,
          76670,
          79083,
          53325,
          103914,
          140839,
          108848,
          78825,
          65364,
          112293,
          142256,
          149049,
          72160,
          48931,
          141715,
          46419,
          51262,
          144748,
          43304,
          86131,
          89165,
          114509,
          122401,
          72554,
          35912,
          44971,
          91179,
          34354,
          129879,
          145852,
          33313,
          49876,
          131084,
          59092,
          61943,
          51129,
          92133,
          110273,
          81235,
          50368,
          49991,
          102557,
          114908,
          97622,
          42837,
          63130,
          34648,
          107595,
          109492,
          80951,
          102664,
          76680,
          95775,
          134423,
          148800,
          47975,
          43666,
          43649,
          43282,
          122616,
          109222,
          67063,
          41929,
          66018,
          31435,
          80731,
          118418,
          77624,
          95908,
          113426,
          71986,
          118573,
          99697,
          85666,
          78661,
          50855,
          121578,
          91065,
          94261,
          116416,
          146028,
          58853,
          140519,
          99810,
          33670,
          101861,
          123739,
          137662,
          63848,
          137127,
          52579,
          136933,
          48586,
          30739,
          43728,
          68158,
          108945,
          112098,
          109717,
          35330,
          45469,
          62444,
          110462,
          81808,
          94870,
          136701,
          59233,
          147004,
          54391,
          85679,
          134667,
          62933,
          104756,
          116742,
          147270,
          37278,
          129796,
          74742,
          138734,
          136030,
          108587,
          103628,
          59011,
          107807,
          94284,
          122810,
          120305,
          37213,
          58903,
          52014,
          45708,
          48583,
          46371,
          81282,
          88094,
          107939,
          49961,
          127469,
          120166,
          111541,
          59827,
          84078,
          146844,
          65560,
          116734,
          77170,
          56952,
          131637,
          123993,
          143625,
          44809,
          138297,
          52627,
          41111,
          37752,
          69538,
          95198,
          46074,
          61231,
          117391,
          59659,
          148839,
          101271,
          45409,
          48293,
          115329,
          147906,
          84617,
          129869,
          135919,
          105040,
          69105,
          30833,
          60403,
          45452,
          68115,
          138605,
          95031,
          93483,
          135138,
          114588,
          50350,
          82401,
          50428,
          148730,
          116602,
          65569,
          34090,
          81472,
          45679,
          99414,
          35000,
          149880,
          61397,
          126007,
          115654,
          91052,
          55898,
          85483,
          122083,
          31339,
          147365,
          149417,
          35774,
          115319,
          48109,
          103084,
          147101,
          114442,
          138113,
          82410,
          126637,
          104518,
          77903,
          98932,
          132180,
          122332,
          111263
         ],
         "yaxis": "y"
        },
        {
         "customdata": [
          [
           3,
           48,
           false
          ],
          [
           8,
           9,
           false
          ],
          [
           10,
           66,
           false
          ],
          [
           12,
           36,
           true
          ],
          [
           14,
           64,
           false
          ],
          [
           27,
           50,
           false
          ],
          [
           28,
           61,
           true
          ],
          [
           32,
           53,
           true
          ],
          [
           35,
           46,
           false
          ],
          [
           37,
           28,
           true
          ],
          [
           46,
           75,
           false
          ],
          [
           61,
           23,
           false
          ],
          [
           62,
           72,
           false
          ],
          [
           68,
           65,
           false
          ],
          [
           69,
           94,
           true
          ],
          [
           72,
           83,
           false
          ],
          [
           73,
           6,
           false
          ],
          [
           77,
           29,
           true
          ],
          [
           78,
           16,
           false
          ],
          [
           79,
           67,
           true
          ],
          [
           80,
           26,
           false
          ],
          [
           89,
           92,
           true
          ],
          [
           96,
           27,
           false
          ],
          [
           97,
           87,
           true
          ],
          [
           99,
           23,
           true
          ],
          [
           105,
           57,
           true
          ],
          [
           109,
           24,
           true
          ],
          [
           111,
           17,
           false
          ],
          [
           112,
           52,
           false
          ],
          [
           115,
           5,
           false
          ],
          [
           121,
           29,
           false
          ],
          [
           124,
           71,
           true
          ],
          [
           125,
           58,
           false
          ],
          [
           126,
           94,
           false
          ],
          [
           129,
           71,
           true
          ],
          [
           130,
           25,
           true
          ],
          [
           139,
           33,
           false
          ],
          [
           141,
           89,
           true
          ],
          [
           143,
           60,
           false
          ],
          [
           147,
           16,
           false
          ],
          [
           151,
           97,
           false
          ],
          [
           152,
           65,
           true
          ],
          [
           164,
           29,
           false
          ],
          [
           174,
           26,
           false
          ],
          [
           176,
           64,
           false
          ],
          [
           183,
           11,
           false
          ],
          [
           185,
           54,
           true
          ],
          [
           187,
           17,
           true
          ],
          [
           191,
           81,
           false
          ],
          [
           195,
           0,
           true
          ],
          [
           197,
           44,
           true
          ],
          [
           198,
           44,
           true
          ],
          [
           200,
           0,
           false
          ],
          [
           203,
           91,
           false
          ],
          [
           207,
           63,
           false
          ],
          [
           210,
           38,
           false
          ],
          [
           212,
           1,
           true
          ],
          [
           221,
           11,
           false
          ],
          [
           227,
           4,
           false
          ],
          [
           232,
           8,
           false
          ],
          [
           234,
           18,
           true
          ],
          [
           237,
           93,
           true
          ],
          [
           242,
           11,
           true
          ],
          [
           251,
           57,
           false
          ],
          [
           252,
           3,
           true
          ],
          [
           255,
           85,
           true
          ],
          [
           258,
           67,
           false
          ],
          [
           266,
           11,
           false
          ],
          [
           272,
           32,
           false
          ],
          [
           273,
           37,
           true
          ],
          [
           274,
           43,
           true
          ],
          [
           276,
           45,
           true
          ],
          [
           279,
           27,
           false
          ],
          [
           288,
           89,
           false
          ],
          [
           291,
           40,
           false
          ],
          [
           293,
           30,
           false
          ],
          [
           297,
           84,
           false
          ],
          [
           300,
           4,
           true
          ],
          [
           301,
           49,
           false
          ],
          [
           303,
           63,
           false
          ],
          [
           304,
           61,
           false
          ],
          [
           313,
           17,
           true
          ],
          [
           319,
           47,
           true
          ],
          [
           324,
           62,
           true
          ],
          [
           335,
           65,
           true
          ],
          [
           336,
           66,
           false
          ],
          [
           337,
           62,
           true
          ],
          [
           339,
           61,
           false
          ],
          [
           342,
           31,
           false
          ],
          [
           347,
           71,
           true
          ],
          [
           354,
           23,
           false
          ],
          [
           359,
           75,
           true
          ],
          [
           362,
           40,
           true
          ],
          [
           363,
           60,
           false
          ],
          [
           368,
           69,
           true
          ],
          [
           369,
           62,
           true
          ],
          [
           370,
           58,
           true
          ],
          [
           374,
           1,
           true
          ],
          [
           379,
           78,
           true
          ],
          [
           383,
           5,
           true
          ],
          [
           388,
           13,
           false
          ],
          [
           406,
           92,
           true
          ],
          [
           416,
           93,
           true
          ],
          [
           422,
           55,
           true
          ],
          [
           424,
           23,
           true
          ],
          [
           425,
           57,
           true
          ],
          [
           433,
           30,
           false
          ],
          [
           434,
           37,
           true
          ],
          [
           435,
           56,
           false
          ],
          [
           442,
           70,
           false
          ],
          [
           444,
           75,
           false
          ],
          [
           448,
           84,
           true
          ],
          [
           458,
           35,
           true
          ],
          [
           461,
           54,
           true
          ],
          [
           467,
           58,
           true
          ],
          [
           489,
           6,
           true
          ],
          [
           497,
           85,
           false
          ],
          [
           499,
           38,
           false
          ],
          [
           507,
           41,
           true
          ],
          [
           509,
           6,
           false
          ],
          [
           517,
           55,
           false
          ],
          [
           527,
           88,
           true
          ],
          [
           528,
           76,
           false
          ],
          [
           530,
           95,
           true
          ],
          [
           542,
           19,
           false
          ],
          [
           544,
           76,
           false
          ],
          [
           545,
           44,
           false
          ],
          [
           550,
           36,
           false
          ],
          [
           553,
           0,
           true
          ],
          [
           555,
           37,
           true
          ],
          [
           557,
           44,
           true
          ],
          [
           559,
           16,
           false
          ],
          [
           561,
           10,
           false
          ],
          [
           571,
           42,
           true
          ],
          [
           584,
           39,
           true
          ],
          [
           595,
           68,
           true
          ],
          [
           600,
           53,
           false
          ],
          [
           603,
           18,
           true
          ],
          [
           607,
           25,
           true
          ],
          [
           613,
           37,
           false
          ],
          [
           616,
           69,
           false
          ],
          [
           618,
           25,
           true
          ],
          [
           619,
           12,
           true
          ],
          [
           621,
           70,
           false
          ],
          [
           627,
           16,
           true
          ],
          [
           636,
           63,
           true
          ],
          [
           637,
           65,
           false
          ],
          [
           641,
           86,
           true
          ],
          [
           642,
           36,
           false
          ],
          [
           645,
           84,
           false
          ],
          [
           648,
           30,
           true
          ],
          [
           651,
           72,
           false
          ],
          [
           652,
           52,
           false
          ],
          [
           655,
           62,
           true
          ],
          [
           656,
           48,
           true
          ],
          [
           665,
           70,
           true
          ],
          [
           666,
           41,
           false
          ],
          [
           668,
           6,
           true
          ],
          [
           671,
           3,
           true
          ],
          [
           675,
           78,
           false
          ],
          [
           676,
           83,
           true
          ],
          [
           679,
           35,
           false
          ],
          [
           681,
           17,
           true
          ],
          [
           683,
           10,
           false
          ],
          [
           690,
           79,
           false
          ],
          [
           692,
           4,
           false
          ],
          [
           693,
           85,
           true
          ],
          [
           696,
           22,
           true
          ],
          [
           698,
           43,
           true
          ],
          [
           699,
           6,
           false
          ],
          [
           702,
           17,
           false
          ],
          [
           710,
           79,
           false
          ],
          [
           714,
           63,
           false
          ],
          [
           715,
           30,
           true
          ],
          [
           717,
           92,
           false
          ],
          [
           718,
           46,
           true
          ],
          [
           720,
           46,
           true
          ],
          [
           724,
           10,
           true
          ],
          [
           725,
           63,
           true
          ],
          [
           727,
           72,
           true
          ],
          [
           730,
           13,
           true
          ],
          [
           735,
           9,
           false
          ],
          [
           742,
           59,
           true
          ],
          [
           743,
           72,
           true
          ],
          [
           745,
           54,
           false
          ],
          [
           748,
           11,
           true
          ],
          [
           751,
           21,
           false
          ],
          [
           755,
           91,
           false
          ],
          [
           764,
           43,
           false
          ],
          [
           767,
           16,
           false
          ],
          [
           769,
           26,
           true
          ],
          [
           772,
           82,
           true
          ],
          [
           779,
           72,
           false
          ],
          [
           781,
           17,
           true
          ],
          [
           786,
           87,
           true
          ],
          [
           787,
           70,
           true
          ],
          [
           797,
           44,
           false
          ],
          [
           800,
           9,
           false
          ],
          [
           814,
           37,
           false
          ],
          [
           824,
           90,
           true
          ],
          [
           830,
           65,
           true
          ],
          [
           833,
           9,
           false
          ],
          [
           834,
           13,
           true
          ],
          [
           836,
           70,
           false
          ],
          [
           840,
           5,
           true
          ],
          [
           842,
           15,
           true
          ],
          [
           846,
           35,
           true
          ],
          [
           849,
           6,
           true
          ],
          [
           855,
           67,
           false
          ],
          [
           857,
           41,
           true
          ],
          [
           858,
           13,
           true
          ],
          [
           860,
           40,
           true
          ],
          [
           862,
           38,
           true
          ],
          [
           866,
           60,
           true
          ],
          [
           867,
           15,
           true
          ],
          [
           868,
           34,
           false
          ],
          [
           887,
           29,
           true
          ],
          [
           889,
           9,
           true
          ],
          [
           891,
           8,
           false
          ],
          [
           896,
           16,
           true
          ],
          [
           899,
           71,
           true
          ],
          [
           905,
           46,
           false
          ],
          [
           908,
           22,
           false
          ],
          [
           916,
           76,
           false
          ],
          [
           923,
           49,
           false
          ],
          [
           928,
           71,
           false
          ],
          [
           937,
           74,
           true
          ],
          [
           939,
           40,
           false
          ],
          [
           940,
           27,
           true
          ],
          [
           941,
           94,
           false
          ],
          [
           943,
           98,
           false
          ],
          [
           945,
           89,
           false
          ],
          [
           946,
           27,
           false
          ],
          [
           949,
           31,
           false
          ],
          [
           950,
           48,
           false
          ],
          [
           955,
           12,
           false
          ],
          [
           957,
           75,
           true
          ],
          [
           964,
           17,
           false
          ],
          [
           970,
           37,
           false
          ],
          [
           973,
           13,
           false
          ],
          [
           974,
           8,
           false
          ],
          [
           977,
           82,
           true
          ],
          [
           978,
           80,
           true
          ],
          [
           979,
           13,
           true
          ],
          [
           982,
           27,
           true
          ],
          [
           984,
           35,
           false
          ],
          [
           990,
           45,
           true
          ],
          [
           991,
           80,
           false
          ],
          [
           999,
           88,
           false
          ]
         ],
         "hovertemplate": "category=A<br>age=%{x}<br>salary=%{y}<br>id=%{customdata[0]}<br>score=%{customdata[1]}<br>on_leave=%{customdata[2]}<extra></extra>",
         "legendgroup": "A",
         "marker": {
          "color": "#00cc96",
          "symbol": "circle"
         },
         "mode": "markers",
         "name": "A",
         "orientation": "v",
         "showlegend": true,
         "type": "scatter",
         "x": [
          21,
          54,
          24,
          42,
          19,
          23,
          33,
          42,
          37,
          57,
          29,
          19,
          57,
          45,
          18,
          30,
          38,
          22,
          21,
          30,
          54,
          39,
          48,
          18,
          52,
          39,
          41,
          52,
          53,
          36,
          59,
          28,
          40,
          58,
          34,
          50,
          21,
          52,
          58,
          26,
          32,
          50,
          34,
          25,
          33,
          47,
          49,
          42,
          30,
          23,
          50,
          29,
          38,
          46,
          37,
          38,
          21,
          21,
          57,
          42,
          23,
          18,
          26,
          57,
          53,
          51,
          47,
          39,
          35,
          24,
          25,
          46,
          47,
          59,
          34,
          48,
          45,
          50,
          37,
          25,
          41,
          32,
          40,
          31,
          28,
          45,
          53,
          36,
          36,
          34,
          57,
          40,
          26,
          53,
          43,
          20,
          34,
          54,
          51,
          47,
          27,
          24,
          21,
          42,
          53,
          23,
          44,
          50,
          27,
          25,
          39,
          38,
          25,
          46,
          28,
          31,
          40,
          33,
          29,
          25,
          25,
          49,
          47,
          51,
          23,
          52,
          33,
          24,
          46,
          20,
          46,
          55,
          27,
          55,
          25,
          35,
          23,
          42,
          32,
          50,
          43,
          18,
          30,
          36,
          36,
          34,
          46,
          56,
          27,
          43,
          22,
          30,
          58,
          57,
          50,
          46,
          26,
          43,
          46,
          37,
          18,
          24,
          53,
          37,
          20,
          30,
          33,
          30,
          56,
          19,
          24,
          27,
          33,
          30,
          39,
          36,
          31,
          39,
          24,
          58,
          23,
          50,
          47,
          44,
          40,
          54,
          23,
          37,
          28,
          34,
          38,
          27,
          54,
          41,
          48,
          34,
          53,
          22,
          58,
          47,
          47,
          55,
          42,
          53,
          41,
          18,
          43,
          42,
          23,
          40,
          29,
          51,
          44,
          36,
          41,
          39,
          42,
          20,
          21,
          35,
          52,
          39,
          52,
          51,
          41,
          20,
          47,
          21,
          31,
          42,
          40,
          56,
          29,
          43,
          21,
          29,
          29,
          39,
          46,
          21,
          42,
          39,
          32,
          19,
          43,
          29,
          34,
          51,
          41
         ],
         "xaxis": "x",
         "y": [
          53616,
          73827,
          74428,
          35130,
          138137,
          38889,
          115398,
          98935,
          34409,
          73224,
          123484,
          70580,
          124748,
          37209,
          39690,
          69855,
          81473,
          59334,
          146815,
          68986,
          47570,
          121519,
          32352,
          84655,
          76404,
          135630,
          103020,
          69603,
          36388,
          44272,
          60302,
          65568,
          142401,
          118330,
          82199,
          62329,
          142774,
          74113,
          32422,
          113227,
          31631,
          122168,
          124152,
          31064,
          87556,
          87924,
          102652,
          71847,
          126873,
          104462,
          53843,
          117984,
          84833,
          52578,
          123894,
          109780,
          59030,
          144611,
          107979,
          129739,
          103784,
          50202,
          63725,
          56637,
          129073,
          64626,
          115754,
          140963,
          46138,
          148634,
          85584,
          102988,
          145917,
          53314,
          131308,
          32514,
          131651,
          103356,
          67219,
          142312,
          36932,
          146591,
          128846,
          44223,
          33436,
          119383,
          127140,
          128671,
          109850,
          89600,
          83420,
          41675,
          33799,
          94923,
          54953,
          83479,
          59409,
          57892,
          101420,
          135955,
          80787,
          91552,
          59547,
          131831,
          128547,
          128076,
          125343,
          52383,
          134645,
          143811,
          67703,
          49169,
          84522,
          86593,
          119702,
          50978,
          35947,
          89379,
          73151,
          65817,
          122932,
          97896,
          40400,
          95873,
          116589,
          104140,
          34267,
          52344,
          73010,
          50623,
          39557,
          49549,
          78248,
          92490,
          121519,
          41106,
          105841,
          36445,
          112354,
          51427,
          58558,
          110266,
          103115,
          34966,
          53722,
          45101,
          80306,
          49807,
          95720,
          100610,
          62511,
          133513,
          81917,
          144981,
          83203,
          125609,
          119689,
          33869,
          94810,
          74711,
          64274,
          110086,
          63914,
          92998,
          109392,
          86227,
          56613,
          32170,
          67990,
          112009,
          38347,
          134259,
          47700,
          123310,
          129311,
          115701,
          111598,
          49088,
          130537,
          56720,
          47800,
          87446,
          146529,
          75639,
          127338,
          140732,
          91243,
          104756,
          140415,
          128966,
          104969,
          38989,
          132098,
          112175,
          137831,
          88890,
          54983,
          80533,
          114913,
          35241,
          107772,
          131272,
          140739,
          52922,
          127806,
          124254,
          96711,
          80357,
          120791,
          68547,
          64026,
          35042,
          147675,
          59785,
          62869,
          57000,
          133970,
          131836,
          37463,
          62843,
          140505,
          136253,
          110387,
          50028,
          97124,
          81615,
          106511,
          118009,
          46243,
          109283,
          58439,
          52297,
          117865,
          144031,
          125832,
          66472,
          94427,
          63281,
          53723,
          47610,
          52613,
          103195,
          142222,
          99888,
          57660,
          35046,
          143698,
          91226,
          106016
         ],
         "yaxis": "y"
        },
        {
         "customdata": [
          [
           7,
           56,
           false
          ],
          [
           11,
           9,
           true
          ],
          [
           16,
           13,
           true
          ],
          [
           36,
           69,
           true
          ],
          [
           44,
           91,
           false
          ],
          [
           45,
           99,
           true
          ],
          [
           47,
           96,
           true
          ],
          [
           54,
           97,
           false
          ],
          [
           64,
           60,
           false
          ],
          [
           65,
           47,
           true
          ],
          [
           71,
           0,
           false
          ],
          [
           75,
           67,
           true
          ],
          [
           82,
           11,
           true
          ],
          [
           83,
           81,
           true
          ],
          [
           84,
           55,
           false
          ],
          [
           85,
           43,
           true
          ],
          [
           91,
           14,
           false
          ],
          [
           93,
           99,
           true
          ],
          [
           94,
           63,
           false
          ],
          [
           101,
           32,
           false
          ],
          [
           104,
           21,
           false
          ],
          [
           108,
           39,
           true
          ],
          [
           113,
           90,
           false
          ],
          [
           120,
           62,
           true
          ],
          [
           122,
           11,
           false
          ],
          [
           128,
           85,
           true
          ],
          [
           135,
           3,
           true
          ],
          [
           140,
           60,
           true
          ],
          [
           150,
           33,
           true
          ],
          [
           153,
           73,
           true
          ],
          [
           155,
           68,
           false
          ],
          [
           156,
           24,
           true
          ],
          [
           157,
           6,
           false
          ],
          [
           162,
           59,
           true
          ],
          [
           167,
           3,
           false
          ],
          [
           168,
           82,
           true
          ],
          [
           170,
           6,
           false
          ],
          [
           171,
           84,
           true
          ],
          [
           172,
           21,
           true
          ],
          [
           173,
           27,
           false
          ],
          [
           179,
           37,
           false
          ],
          [
           180,
           7,
           false
          ],
          [
           182,
           75,
           true
          ],
          [
           184,
           2,
           false
          ],
          [
           194,
           3,
           false
          ],
          [
           204,
           34,
           false
          ],
          [
           206,
           21,
           false
          ],
          [
           208,
           94,
           false
          ],
          [
           216,
           53,
           false
          ],
          [
           217,
           22,
           true
          ],
          [
           224,
           54,
           false
          ],
          [
           230,
           44,
           false
          ],
          [
           231,
           72,
           false
          ],
          [
           233,
           72,
           true
          ],
          [
           246,
           3,
           true
          ],
          [
           247,
           11,
           true
          ],
          [
           256,
           29,
           true
          ],
          [
           257,
           53,
           false
          ],
          [
           262,
           45,
           false
          ],
          [
           269,
           58,
           true
          ],
          [
           281,
           72,
           false
          ],
          [
           306,
           83,
           false
          ],
          [
           316,
           35,
           false
          ],
          [
           325,
           72,
           false
          ],
          [
           327,
           5,
           false
          ],
          [
           329,
           55,
           true
          ],
          [
           330,
           92,
           false
          ],
          [
           332,
           38,
           false
          ],
          [
           333,
           49,
           false
          ],
          [
           334,
           8,
           false
          ],
          [
           338,
           16,
           true
          ],
          [
           340,
           66,
           false
          ],
          [
           341,
           11,
           false
          ],
          [
           344,
           20,
           true
          ],
          [
           345,
           14,
           true
          ],
          [
           349,
           5,
           false
          ],
          [
           351,
           79,
           true
          ],
          [
           353,
           32,
           true
          ],
          [
           360,
           87,
           false
          ],
          [
           364,
           36,
           false
          ],
          [
           365,
           12,
           false
          ],
          [
           373,
           0,
           false
          ],
          [
           377,
           90,
           false
          ],
          [
           380,
           13,
           true
          ],
          [
           386,
           27,
           false
          ],
          [
           390,
           48,
           false
          ],
          [
           391,
           56,
           true
          ],
          [
           401,
           17,
           false
          ],
          [
           403,
           43,
           true
          ],
          [
           405,
           94,
           true
          ],
          [
           408,
           58,
           true
          ],
          [
           409,
           27,
           false
          ],
          [
           411,
           7,
           false
          ],
          [
           413,
           26,
           false
          ],
          [
           414,
           75,
           true
          ],
          [
           417,
           49,
           false
          ],
          [
           418,
           20,
           true
          ],
          [
           426,
           9,
           false
          ],
          [
           427,
           0,
           true
          ],
          [
           436,
           5,
           false
          ],
          [
           439,
           90,
           false
          ],
          [
           443,
           89,
           false
          ],
          [
           446,
           31,
           true
          ],
          [
           450,
           39,
           false
          ],
          [
           452,
           74,
           false
          ],
          [
           453,
           38,
           false
          ],
          [
           454,
           68,
           false
          ],
          [
           459,
           11,
           true
          ],
          [
           460,
           75,
           false
          ],
          [
           465,
           51,
           true
          ],
          [
           466,
           34,
           true
          ],
          [
           470,
           9,
           true
          ],
          [
           476,
           59,
           false
          ],
          [
           477,
           94,
           true
          ],
          [
           482,
           1,
           true
          ],
          [
           486,
           61,
           false
          ],
          [
           493,
           67,
           true
          ],
          [
           496,
           44,
           false
          ],
          [
           506,
           13,
           true
          ],
          [
           510,
           94,
           false
          ],
          [
           513,
           3,
           false
          ],
          [
           518,
           29,
           false
          ],
          [
           519,
           53,
           true
          ],
          [
           522,
           36,
           true
          ],
          [
           523,
           59,
           true
          ],
          [
           525,
           70,
           false
          ],
          [
           533,
           0,
           true
          ],
          [
           543,
           41,
           false
          ],
          [
           548,
           37,
           false
          ],
          [
           551,
           4,
           false
          ],
          [
           554,
           49,
           true
          ],
          [
           556,
           75,
           false
          ],
          [
           566,
           38,
           true
          ],
          [
           578,
           83,
           false
          ],
          [
           580,
           19,
           false
          ],
          [
           581,
           31,
           false
          ],
          [
           586,
           97,
           false
          ],
          [
           588,
           54,
           false
          ],
          [
           597,
           84,
           true
          ],
          [
           599,
           76,
           false
          ],
          [
           602,
           90,
           false
          ],
          [
           609,
           63,
           false
          ],
          [
           610,
           91,
           false
          ],
          [
           612,
           57,
           true
          ],
          [
           620,
           52,
           true
          ],
          [
           622,
           47,
           false
          ],
          [
           626,
           90,
           true
          ],
          [
           629,
           94,
           false
          ],
          [
           635,
           1,
           false
          ],
          [
           640,
           0,
           true
          ],
          [
           643,
           26,
           true
          ],
          [
           653,
           84,
           true
          ],
          [
           658,
           43,
           true
          ],
          [
           661,
           9,
           true
          ],
          [
           664,
           34,
           true
          ],
          [
           670,
           85,
           false
          ],
          [
           674,
           29,
           false
          ],
          [
           682,
           80,
           true
          ],
          [
           689,
           51,
           false
          ],
          [
           716,
           13,
           true
          ],
          [
           721,
           45,
           true
          ],
          [
           722,
           97,
           false
          ],
          [
           732,
           29,
           true
          ],
          [
           734,
           77,
           false
          ],
          [
           736,
           46,
           false
          ],
          [
           737,
           60,
           true
          ],
          [
           741,
           24,
           false
          ],
          [
           744,
           15,
           true
          ],
          [
           746,
           32,
           true
          ],
          [
           750,
           25,
           true
          ],
          [
           754,
           92,
           false
          ],
          [
           757,
           91,
           true
          ],
          [
           759,
           99,
           true
          ],
          [
           774,
           75,
           false
          ],
          [
           776,
           58,
           false
          ],
          [
           782,
           42,
           false
          ],
          [
           784,
           98,
           false
          ],
          [
           789,
           46,
           false
          ],
          [
           793,
           65,
           true
          ],
          [
           803,
           1,
           false
          ],
          [
           807,
           94,
           false
          ],
          [
           813,
           87,
           true
          ],
          [
           827,
           17,
           false
          ],
          [
           831,
           27,
           true
          ],
          [
           832,
           35,
           true
          ],
          [
           838,
           10,
           true
          ],
          [
           841,
           40,
           false
          ],
          [
           845,
           0,
           false
          ],
          [
           853,
           95,
           false
          ],
          [
           854,
           27,
           false
          ],
          [
           856,
           34,
           false
          ],
          [
           859,
           17,
           false
          ],
          [
           863,
           42,
           true
          ],
          [
           869,
           50,
           true
          ],
          [
           872,
           52,
           false
          ],
          [
           873,
           25,
           false
          ],
          [
           874,
           75,
           false
          ],
          [
           876,
           81,
           true
          ],
          [
           877,
           5,
           true
          ],
          [
           878,
           83,
           true
          ],
          [
           883,
           91,
           false
          ],
          [
           888,
           13,
           true
          ],
          [
           892,
           25,
           false
          ],
          [
           893,
           33,
           true
          ],
          [
           895,
           47,
           false
          ],
          [
           897,
           49,
           true
          ],
          [
           898,
           62,
           false
          ],
          [
           901,
           80,
           false
          ],
          [
           904,
           9,
           true
          ],
          [
           909,
           56,
           true
          ],
          [
           910,
           78,
           true
          ],
          [
           911,
           45,
           true
          ],
          [
           912,
           33,
           true
          ],
          [
           913,
           62,
           true
          ],
          [
           915,
           69,
           true
          ],
          [
           917,
           41,
           false
          ],
          [
           921,
           22,
           false
          ],
          [
           924,
           65,
           true
          ],
          [
           925,
           10,
           true
          ],
          [
           926,
           70,
           false
          ],
          [
           927,
           16,
           false
          ],
          [
           938,
           40,
           true
          ],
          [
           948,
           58,
           false
          ],
          [
           953,
           37,
           false
          ],
          [
           966,
           31,
           false
          ],
          [
           969,
           65,
           true
          ],
          [
           972,
           23,
           true
          ],
          [
           983,
           37,
           true
          ],
          [
           986,
           26,
           true
          ],
          [
           989,
           57,
           false
          ],
          [
           993,
           23,
           true
          ],
          [
           994,
           72,
           false
          ],
          [
           996,
           18,
           true
          ],
          [
           998,
           15,
           true
          ]
         ],
         "hovertemplate": "category=B<br>age=%{x}<br>salary=%{y}<br>id=%{customdata[0]}<br>score=%{customdata[1]}<br>on_leave=%{customdata[2]}<extra></extra>",
         "legendgroup": "B",
         "marker": {
          "color": "#ab63fa",
          "symbol": "circle"
         },
         "mode": "markers",
         "name": "B",
         "orientation": "v",
         "showlegend": true,
         "type": "scatter",
         "x": [
          39,
          42,
          57,
          32,
          41,
          53,
          46,
          58,
          53,
          56,
          53,
          22,
          32,
          33,
          38,
          53,
          59,
          18,
          49,
          21,
          57,
          28,
          48,
          32,
          19,
          20,
          31,
          48,
          21,
          22,
          29,
          40,
          31,
          39,
          58,
          50,
          24,
          39,
          49,
          31,
          58,
          33,
          56,
          19,
          40,
          58,
          45,
          43,
          27,
          59,
          28,
          52,
          52,
          51,
          45,
          58,
          36,
          35,
          55,
          29,
          27,
          35,
          38,
          23,
          26,
          33,
          29,
          57,
          46,
          44,
          59,
          52,
          48,
          19,
          24,
          53,
          31,
          56,
          33,
          24,
          35,
          22,
          43,
          55,
          25,
          37,
          54,
          58,
          45,
          38,
          45,
          53,
          30,
          28,
          52,
          30,
          54,
          24,
          21,
          23,
          48,
          21,
          21,
          37,
          18,
          23,
          45,
          39,
          55,
          56,
          43,
          50,
          51,
          59,
          53,
          54,
          53,
          44,
          28,
          48,
          33,
          46,
          19,
          46,
          32,
          45,
          59,
          42,
          37,
          38,
          24,
          46,
          35,
          24,
          44,
          28,
          21,
          45,
          48,
          21,
          54,
          51,
          35,
          30,
          27,
          22,
          55,
          44,
          38,
          20,
          20,
          51,
          44,
          42,
          48,
          57,
          21,
          24,
          59,
          30,
          48,
          46,
          55,
          49,
          34,
          50,
          18,
          57,
          37,
          54,
          44,
          56,
          34,
          56,
          51,
          45,
          40,
          29,
          48,
          37,
          23,
          56,
          35,
          51,
          48,
          47,
          26,
          44,
          35,
          34,
          37,
          29,
          25,
          20,
          23,
          56,
          56,
          19,
          54,
          23,
          33,
          48,
          31,
          29,
          54,
          44,
          24,
          38,
          43,
          29,
          52,
          51,
          37,
          29,
          43,
          49,
          56,
          44,
          21,
          44,
          47,
          29,
          36,
          47,
          27,
          29,
          33,
          57,
          52,
          19,
          56,
          58,
          31,
          50
         ],
         "xaxis": "x",
         "y": [
          87427,
          122845,
          123254,
          82026,
          35703,
          60391,
          60955,
          101627,
          100577,
          114311,
          137714,
          31344,
          135126,
          82214,
          117701,
          119890,
          96147,
          77975,
          33995,
          53299,
          129963,
          82701,
          73593,
          65349,
          142538,
          110003,
          41908,
          91472,
          134022,
          115304,
          61388,
          146703,
          84690,
          35596,
          31004,
          117047,
          141904,
          148484,
          51227,
          98829,
          109013,
          92013,
          60642,
          38686,
          144853,
          57361,
          87329,
          78764,
          86467,
          58070,
          103041,
          116451,
          33958,
          131604,
          74304,
          36592,
          73155,
          40740,
          127749,
          80112,
          44929,
          42369,
          129763,
          57018,
          65661,
          101653,
          144663,
          70391,
          144748,
          42448,
          76462,
          66980,
          89364,
          108772,
          52746,
          102928,
          146564,
          50111,
          36445,
          30432,
          89351,
          80972,
          126981,
          30370,
          142197,
          57137,
          79281,
          99395,
          113245,
          116352,
          86235,
          78579,
          36720,
          91332,
          98704,
          126645,
          42629,
          79526,
          43151,
          104529,
          141131,
          33983,
          69709,
          96481,
          58856,
          145007,
          37640,
          149357,
          82330,
          82246,
          92689,
          146044,
          35785,
          68030,
          90957,
          127925,
          121914,
          121550,
          94453,
          106084,
          142590,
          100848,
          132267,
          130741,
          61098,
          97857,
          47124,
          123527,
          90206,
          48853,
          38977,
          112627,
          105953,
          74153,
          106123,
          57428,
          80834,
          122211,
          123790,
          66560,
          77376,
          130272,
          63996,
          149792,
          66174,
          68285,
          104702,
          141071,
          66535,
          113584,
          70046,
          146364,
          34983,
          92968,
          72344,
          55652,
          35393,
          131041,
          93298,
          38211,
          61940,
          84441,
          121996,
          72826,
          39820,
          78223,
          144779,
          110759,
          63865,
          88593,
          74559,
          31716,
          115831,
          41133,
          62282,
          119955,
          134689,
          133704,
          31677,
          86248,
          92997,
          119381,
          85332,
          101752,
          77628,
          47332,
          48888,
          65025,
          117471,
          40350,
          95374,
          64669,
          79746,
          83432,
          73042,
          80138,
          71483,
          131515,
          40600,
          69332,
          68704,
          75770,
          121658,
          88114,
          35103,
          31966,
          147811,
          66483,
          45168,
          83841,
          98752,
          97966,
          94327,
          71624,
          54726,
          72203,
          60425,
          128017,
          81544,
          78447,
          106693,
          144998,
          79453,
          113884,
          110303,
          139686,
          136308,
          110683,
          120543,
          108196,
          66730,
          145518,
          124035,
          38913
         ],
         "yaxis": "y"
        }
       ],
       "layout": {
        "autosize": true,
        "legend": {
         "title": {
          "text": "category"
         },
         "tracegroupgap": 0
        },
        "template": {
         "data": {
          "bar": [
           {
            "error_x": {
             "color": "#2a3f5f"
            },
            "error_y": {
             "color": "#2a3f5f"
            },
            "marker": {
             "line": {
              "color": "#E5ECF6",
              "width": 0.5
             },
             "pattern": {
              "fillmode": "overlay",
              "size": 10,
              "solidity": 0.2
             }
            },
            "type": "bar"
           }
          ],
          "barpolar": [
           {
            "marker": {
             "line": {
              "color": "#E5ECF6",
              "width": 0.5
             },
             "pattern": {
              "fillmode": "overlay",
              "size": 10,
              "solidity": 0.2
             }
            },
            "type": "barpolar"
           }
          ],
          "carpet": [
           {
            "aaxis": {
             "endlinecolor": "#2a3f5f",
             "gridcolor": "white",
             "linecolor": "white",
             "minorgridcolor": "white",
             "startlinecolor": "#2a3f5f"
            },
            "baxis": {
             "endlinecolor": "#2a3f5f",
             "gridcolor": "white",
             "linecolor": "white",
             "minorgridcolor": "white",
             "startlinecolor": "#2a3f5f"
            },
            "type": "carpet"
           }
          ],
          "choropleth": [
           {
            "colorbar": {
             "outlinewidth": 0,
             "ticks": ""
            },
            "type": "choropleth"
           }
          ],
          "contour": [
           {
            "colorbar": {
             "outlinewidth": 0,
             "ticks": ""
            },
            "colorscale": [
             [
              0,
              "#0d0887"
             ],
             [
              0.1111111111111111,
              "#46039f"
             ],
             [
              0.2222222222222222,
              "#7201a8"
             ],
             [
              0.3333333333333333,
              "#9c179e"
             ],
             [
              0.4444444444444444,
              "#bd3786"
             ],
             [
              0.5555555555555556,
              "#d8576b"
             ],
             [
              0.6666666666666666,
              "#ed7953"
             ],
             [
              0.7777777777777778,
              "#fb9f3a"
             ],
             [
              0.8888888888888888,
              "#fdca26"
             ],
             [
              1,
              "#f0f921"
             ]
            ],
            "type": "contour"
           }
          ],
          "contourcarpet": [
           {
            "colorbar": {
             "outlinewidth": 0,
             "ticks": ""
            },
            "type": "contourcarpet"
           }
          ],
          "heatmap": [
           {
            "colorbar": {
             "outlinewidth": 0,
             "ticks": ""
            },
            "colorscale": [
             [
              0,
              "#0d0887"
             ],
             [
              0.1111111111111111,
              "#46039f"
             ],
             [
              0.2222222222222222,
              "#7201a8"
             ],
             [
              0.3333333333333333,
              "#9c179e"
             ],
             [
              0.4444444444444444,
              "#bd3786"
             ],
             [
              0.5555555555555556,
              "#d8576b"
             ],
             [
              0.6666666666666666,
              "#ed7953"
             ],
             [
              0.7777777777777778,
              "#fb9f3a"
             ],
             [
              0.8888888888888888,
              "#fdca26"
             ],
             [
              1,
              "#f0f921"
             ]
            ],
            "type": "heatmap"
           }
          ],
          "heatmapgl": [
           {
            "colorbar": {
             "outlinewidth": 0,
             "ticks": ""
            },
            "colorscale": [
             [
              0,
              "#0d0887"
             ],
             [
              0.1111111111111111,
              "#46039f"
             ],
             [
              0.2222222222222222,
              "#7201a8"
             ],
             [
              0.3333333333333333,
              "#9c179e"
             ],
             [
              0.4444444444444444,
              "#bd3786"
             ],
             [
              0.5555555555555556,
              "#d8576b"
             ],
             [
              0.6666666666666666,
              "#ed7953"
             ],
             [
              0.7777777777777778,
              "#fb9f3a"
             ],
             [
              0.8888888888888888,
              "#fdca26"
             ],
             [
              1,
              "#f0f921"
             ]
            ],
            "type": "heatmapgl"
           }
          ],
          "histogram": [
           {
            "marker": {
             "pattern": {
              "fillmode": "overlay",
              "size": 10,
              "solidity": 0.2
             }
            },
            "type": "histogram"
           }
          ],
          "histogram2d": [
           {
            "colorbar": {
             "outlinewidth": 0,
             "ticks": ""
            },
            "colorscale": [
             [
              0,
              "#0d0887"
             ],
             [
              0.1111111111111111,
              "#46039f"
             ],
             [
              0.2222222222222222,
              "#7201a8"
             ],
             [
              0.3333333333333333,
              "#9c179e"
             ],
             [
              0.4444444444444444,
              "#bd3786"
             ],
             [
              0.5555555555555556,
              "#d8576b"
             ],
             [
              0.6666666666666666,
              "#ed7953"
             ],
             [
              0.7777777777777778,
              "#fb9f3a"
             ],
             [
              0.8888888888888888,
              "#fdca26"
             ],
             [
              1,
              "#f0f921"
             ]
            ],
            "type": "histogram2d"
           }
          ],
          "histogram2dcontour": [
           {
            "colorbar": {
             "outlinewidth": 0,
             "ticks": ""
            },
            "colorscale": [
             [
              0,
              "#0d0887"
             ],
             [
              0.1111111111111111,
              "#46039f"
             ],
             [
              0.2222222222222222,
              "#7201a8"
             ],
             [
              0.3333333333333333,
              "#9c179e"
             ],
             [
              0.4444444444444444,
              "#bd3786"
             ],
             [
              0.5555555555555556,
              "#d8576b"
             ],
             [
              0.6666666666666666,
              "#ed7953"
             ],
             [
              0.7777777777777778,
              "#fb9f3a"
             ],
             [
              0.8888888888888888,
              "#fdca26"
             ],
             [
              1,
              "#f0f921"
             ]
            ],
            "type": "histogram2dcontour"
           }
          ],
          "mesh3d": [
           {
            "colorbar": {
             "outlinewidth": 0,
             "ticks": ""
            },
            "type": "mesh3d"
           }
          ],
          "parcoords": [
           {
            "line": {
             "colorbar": {
              "outlinewidth": 0,
              "ticks": ""
             }
            },
            "type": "parcoords"
           }
          ],
          "pie": [
           {
            "automargin": true,
            "type": "pie"
           }
          ],
          "scatter": [
           {
            "fillpattern": {
             "fillmode": "overlay",
             "size": 10,
             "solidity": 0.2
            },
            "type": "scatter"
           }
          ],
          "scatter3d": [
           {
            "line": {
             "colorbar": {
              "outlinewidth": 0,
              "ticks": ""
             }
            },
            "marker": {
             "colorbar": {
              "outlinewidth": 0,
              "ticks": ""
             }
            },
            "type": "scatter3d"
           }
          ],
          "scattercarpet": [
           {
            "marker": {
             "colorbar": {
              "outlinewidth": 0,
              "ticks": ""
             }
            },
            "type": "scattercarpet"
           }
          ],
          "scattergeo": [
           {
            "marker": {
             "colorbar": {
              "outlinewidth": 0,
              "ticks": ""
             }
            },
            "type": "scattergeo"
           }
          ],
          "scattergl": [
           {
            "marker": {
             "colorbar": {
              "outlinewidth": 0,
              "ticks": ""
             }
            },
            "type": "scattergl"
           }
          ],
          "scattermapbox": [
           {
            "marker": {
             "colorbar": {
              "outlinewidth": 0,
              "ticks": ""
             }
            },
            "type": "scattermapbox"
           }
          ],
          "scatterpolar": [
           {
            "marker": {
             "colorbar": {
              "outlinewidth": 0,
              "ticks": ""
             }
            },
            "type": "scatterpolar"
           }
          ],
          "scatterpolargl": [
           {
            "marker": {
             "colorbar": {
              "outlinewidth": 0,
              "ticks": ""
             }
            },
            "type": "scatterpolargl"
           }
          ],
          "scatterternary": [
           {
            "marker": {
             "colorbar": {
              "outlinewidth": 0,
              "ticks": ""
             }
            },
            "type": "scatterternary"
           }
          ],
          "surface": [
           {
            "colorbar": {
             "outlinewidth": 0,
             "ticks": ""
            },
            "colorscale": [
             [
              0,
              "#0d0887"
             ],
             [
              0.1111111111111111,
              "#46039f"
             ],
             [
              0.2222222222222222,
              "#7201a8"
             ],
             [
              0.3333333333333333,
              "#9c179e"
             ],
             [
              0.4444444444444444,
              "#bd3786"
             ],
             [
              0.5555555555555556,
              "#d8576b"
             ],
             [
              0.6666666666666666,
              "#ed7953"
             ],
             [
              0.7777777777777778,
              "#fb9f3a"
             ],
             [
              0.8888888888888888,
              "#fdca26"
             ],
             [
              1,
              "#f0f921"
             ]
            ],
            "type": "surface"
           }
          ],
          "table": [
           {
            "cells": {
             "fill": {
              "color": "#EBF0F8"
             },
             "line": {
              "color": "white"
             }
            },
            "header": {
             "fill": {
              "color": "#C8D4E3"
             },
             "line": {
              "color": "white"
             }
            },
            "type": "table"
           }
          ]
         },
         "layout": {
          "annotationdefaults": {
           "arrowcolor": "#2a3f5f",
           "arrowhead": 0,
           "arrowwidth": 1
          },
          "autotypenumbers": "strict",
          "coloraxis": {
           "colorbar": {
            "outlinewidth": 0,
            "ticks": ""
           }
          },
          "colorscale": {
           "diverging": [
            [
             0,
             "#8e0152"
            ],
            [
             0.1,
             "#c51b7d"
            ],
            [
             0.2,
             "#de77ae"
            ],
            [
             0.3,
             "#f1b6da"
            ],
            [
             0.4,
             "#fde0ef"
            ],
            [
             0.5,
             "#f7f7f7"
            ],
            [
             0.6,
             "#e6f5d0"
            ],
            [
             0.7,
             "#b8e186"
            ],
            [
             0.8,
             "#7fbc41"
            ],
            [
             0.9,
             "#4d9221"
            ],
            [
             1,
             "#276419"
            ]
           ],
           "sequential": [
            [
             0,
             "#0d0887"
            ],
            [
             0.1111111111111111,
             "#46039f"
            ],
            [
             0.2222222222222222,
             "#7201a8"
            ],
            [
             0.3333333333333333,
             "#9c179e"
            ],
            [
             0.4444444444444444,
             "#bd3786"
            ],
            [
             0.5555555555555556,
             "#d8576b"
            ],
            [
             0.6666666666666666,
             "#ed7953"
            ],
            [
             0.7777777777777778,
             "#fb9f3a"
            ],
            [
             0.8888888888888888,
             "#fdca26"
            ],
            [
             1,
             "#f0f921"
            ]
           ],
           "sequentialminus": [
            [
             0,
             "#0d0887"
            ],
            [
             0.1111111111111111,
             "#46039f"
            ],
            [
             0.2222222222222222,
             "#7201a8"
            ],
            [
             0.3333333333333333,
             "#9c179e"
            ],
            [
             0.4444444444444444,
             "#bd3786"
            ],
            [
             0.5555555555555556,
             "#d8576b"
            ],
            [
             0.6666666666666666,
             "#ed7953"
            ],
            [
             0.7777777777777778,
             "#fb9f3a"
            ],
            [
             0.8888888888888888,
             "#fdca26"
            ],
            [
             1,
             "#f0f921"
            ]
           ]
          },
          "colorway": [
           "#636efa",
           "#EF553B",
           "#00cc96",
           "#ab63fa",
           "#FFA15A",
           "#19d3f3",
           "#FF6692",
           "#B6E880",
           "#FF97FF",
           "#FECB52"
          ],
          "font": {
           "color": "#2a3f5f"
          },
          "geo": {
           "bgcolor": "white",
           "lakecolor": "white",
           "landcolor": "#E5ECF6",
           "showlakes": true,
           "showland": true,
           "subunitcolor": "white"
          },
          "hoverlabel": {
           "align": "left"
          },
          "hovermode": "closest",
          "mapbox": {
           "style": "light"
          },
          "paper_bgcolor": "white",
          "plot_bgcolor": "#E5ECF6",
          "polar": {
           "angularaxis": {
            "gridcolor": "white",
            "linecolor": "white",
            "ticks": ""
           },
           "bgcolor": "#E5ECF6",
           "radialaxis": {
            "gridcolor": "white",
            "linecolor": "white",
            "ticks": ""
           }
          },
          "scene": {
           "xaxis": {
            "backgroundcolor": "#E5ECF6",
            "gridcolor": "white",
            "gridwidth": 2,
            "linecolor": "white",
            "showbackground": true,
            "ticks": "",
            "zerolinecolor": "white"
           },
           "yaxis": {
            "backgroundcolor": "#E5ECF6",
            "gridcolor": "white",
            "gridwidth": 2,
            "linecolor": "white",
            "showbackground": true,
            "ticks": "",
            "zerolinecolor": "white"
           },
           "zaxis": {
            "backgroundcolor": "#E5ECF6",
            "gridcolor": "white",
            "gridwidth": 2,
            "linecolor": "white",
            "showbackground": true,
            "ticks": "",
            "zerolinecolor": "white"
           }
          },
          "shapedefaults": {
           "line": {
            "color": "#2a3f5f"
           }
          },
          "ternary": {
           "aaxis": {
            "gridcolor": "white",
            "linecolor": "white",
            "ticks": ""
           },
           "baxis": {
            "gridcolor": "white",
            "linecolor": "white",
            "ticks": ""
           },
           "bgcolor": "#E5ECF6",
           "caxis": {
            "gridcolor": "white",
            "linecolor": "white",
            "ticks": ""
           }
          },
          "title": {
           "x": 0.05
          },
          "xaxis": {
           "automargin": true,
           "gridcolor": "white",
           "linecolor": "white",
           "ticks": "",
           "title": {
            "standoff": 15
           },
           "zerolinecolor": "white",
           "zerolinewidth": 2
          },
          "yaxis": {
           "automargin": true,
           "gridcolor": "white",
           "linecolor": "white",
           "ticks": "",
           "title": {
            "standoff": 15
           },
           "zerolinecolor": "white",
           "zerolinewidth": 2
          }
         }
        },
        "title": {
         "text": "Age vs Salary by Category"
        },
        "xaxis": {
         "anchor": "y",
         "autorange": true,
         "domain": [
          0,
          1
         ],
         "range": [
          15.518703836073385,
          61.481296163926615
         ],
         "title": {
          "text": "age"
         },
         "type": "linear"
        },
        "yaxis": {
         "anchor": "x",
         "autorange": true,
         "domain": [
          0,
          1
         ],
         "range": [
          20507.52427184466,
          159742.47572815535
         ],
         "title": {
          "text": "salary"
         },
         "type": "linear"
        }
       }
      },
      "image/png": "[encoded data removed]",
      "text/html": [
       "<div>                            <div id=\"413984d5-1824-4012-b339-e4f3973c0898\" class=\"plotly-graph-div\" style=\"height:525px; width:100%;\"></div>            <script type=\"text/javascript\">                require([\"plotly\"], function(Plotly) {                    window.PLOTLYENV=window.PLOTLYENV || {};                                    if (document.getElementById(\"413984d5-1824-4012-b339-e4f3973c0898\")) {                    Plotly.newPlot(                        \"413984d5-1824-4012-b339-e4f3973c0898\",                        [{\"customdata\":[[1,70,false],[4,9,false],[5,28,false],[13,28,false],[15,74,true],[17,2,true],[19,71,true],[20,87,true],[22,81,false],[23,3,false],[25,80,false],[26,82,false],[29,82,true],[39,83,false],[41,74,false],[42,74,true],[43,9,true],[48,38,false],[51,91,false],[55,61,true],[59,23,true],[60,52,false],[66,15,true],[67,36,false],[70,42,false],[81,6,true],[90,14,true],[92,80,true],[98,20,false],[102,65,true],[106,68,true],[107,45,true],[110,86,false],[116,97,false],[117,86,true],[118,82,false],[119,10,false],[131,54,true],[133,25,true],[134,45,true],[136,84,false],[142,7,true],[146,98,false],[159,60,true],[160,88,false],[161,61,false],[163,74,true],[165,28,false],[169,21,false],[177,3,true],[178,53,true],[181,80,true],[188,78,true],[189,5,true],[190,78,false],[193,98,false],[201,17,true],[213,15,false],[214,86,false],[215,17,true],[218,77,true],[228,10,true],[229,6,false],[235,2,true],[236,69,true],[238,29,false],[241,58,false],[245,88,true],[248,57,true],[249,50,false],[259,56,true],[260,75,false],[263,90,false],[264,79,true],[265,97,true],[270,68,false],[275,60,false],[277,29,false],[280,29,false],[284,78,false],[285,38,false],[287,74,true],[289,32,true],[292,70,false],[294,22,true],[305,91,true],[309,73,true],[317,73,true],[318,92,false],[326,37,false],[331,46,false],[346,52,false],[348,29,true],[350,14,true],[352,51,true],[355,91,false],[356,6,false],[366,35,false],[367,62,false],[371,76,false],[375,84,false],[376,77,true],[381,67,false],[384,26,true],[385,63,true],[387,41,true],[389,45,true],[394,86,true],[395,95,true],[396,89,false],[399,7,false],[404,47,true],[407,72,true],[419,93,true],[423,92,true],[429,71,true],[431,38,false],[437,59,true],[438,80,true],[440,61,true],[445,17,true],[447,31,true],[449,90,false],[451,50,false],[456,79,false],[457,13,false],[462,36,false],[463,82,true],[464,75,true],[471,8,true],[472,17,false],[474,25,false],[478,59,true],[479,58,true],[481,12,false],[483,27,true],[484,10,false],[485,67,true],[487,16,true],[495,36,false],[500,42,true],[501,97,false],[503,68,true],[504,91,true],[505,13,false],[511,12,true],[512,98,false],[514,16,false],[521,23,false],[524,34,false],[526,6,true],[529,17,false],[531,48,false],[532,37,false],[534,74,false],[535,4,false],[536,95,false],[537,60,true],[538,10,false],[549,14,false],[552,47,false],[558,69,false],[562,5,true],[564,47,true],[565,67,true],[567,18,true],[568,94,true],[569,80,false],[573,21,false],[574,97,true],[575,55,true],[577,31,true],[583,39,true],[585,61,false],[590,62,true],[591,76,true],[593,80,false],[594,6,false],[598,30,false],[601,33,false],[608,13,true],[614,45,false],[615,21,false],[617,49,false],[623,73,false],[625,72,false],[628,95,false],[630,38,true],[633,6,true],[638,21,false],[639,46,false],[646,34,true],[654,23,false],[657,59,true],[660,13,false],[663,90,true],[673,11,true],[678,80,true],[687,25,true],[688,26,false],[691,27,true],[701,77,true],[703,40,true],[704,94,true],[706,18,false],[707,2,true],[708,27,true],[709,8,true],[719,14,true],[723,4,true],[728,58,true],[733,78,true],[739,29,true],[740,75,true],[747,80,true],[753,81,true],[756,72,false],[760,30,false],[763,52,false],[770,7,false],[771,54,true],[778,13,true],[794,78,true],[796,47,true],[801,34,false],[804,38,false],[805,78,false],[808,50,false],[810,86,true],[815,93,true],[816,90,true],[817,82,false],[818,86,false],[819,6,false],[820,74,false],[825,48,true],[828,19,false],[829,19,true],[837,88,true],[844,85,true],[848,14,true],[850,88,true],[851,3,true],[861,74,false],[864,67,false],[870,44,false],[885,41,false],[886,82,false],[894,17,false],[907,88,false],[914,4,false],[918,12,false],[922,97,false],[929,27,false],[930,38,true],[942,36,false],[944,59,true],[947,56,true],[954,39,false],[959,91,false],[960,47,false],[965,39,true],[975,84,true],[976,53,true]],\"hovertemplate\":\"category=D\\u003cbr\\u003eage=%{x}\\u003cbr\\u003esalary=%{y}\\u003cbr\\u003eid=%{customdata[0]}\\u003cbr\\u003escore=%{customdata[1]}\\u003cbr\\u003eon_leave=%{customdata[2]}\\u003cextra\\u003e\\u003c\\u002fextra\\u003e\",\"legendgroup\":\"D\",\"marker\":{\"color\":\"#636efa\",\"symbol\":\"circle\"},\"mode\":\"markers\",\"name\":\"D\",\"orientation\":\"v\",\"showlegend\":true,\"x\":[18,57,27,30,56,41,35,55,31,26,38,34,18,19,50,49,28,52,54,35,49,19,29,36,32,58,23,53,54,52,27,18,20,53,38,35,45,18,37,58,48,31,49,34,42,47,43,37,54,59,36,29,21,36,21,53,28,53,57,27,41,39,51,58,54,29,34,53,54,43,38,20,30,20,45,40,36,37,39,45,27,35,18,54,42,31,46,36,22,18,22,48,44,27,24,26,31,25,38,41,41,48,41,51,40,59,18,21,19,38,34,49,27,19,54,58,46,51,25,26,45,56,25,49,27,37,26,18,58,37,44,50,22,47,35,20,38,33,59,44,52,44,34,58,18,24,48,59,20,55,54,47,30,50,34,20,26,28,44,42,24,56,54,39,49,53,26,43,34,43,55,23,26,23,21,32,23,22,42,58,25,52,41,59,25,30,25,47,38,44,41,54,55,51,43,38,36,21,18,54,51,24,56,56,39,20,30,47,43,59,44,55,30,47,23,30,30,47,33,55,35,34,44,35,31,26,50,54,47,40,48,37,22,38,28,59,58,48,57,55,24,33,55,25,50,26,27,22,31,22,51,24,34,23,25,22,47,32,32,57,19,42,39,46],\"xaxis\":\"x\",\"y\":[101071,136213,94799,84772,71808,140302,80512,117360,56418,110736,34562,147074,70719,48701,144766,103678,85060,119333,37951,64381,124318,111618,144233,136192,146464,91096,78428,53289,48058,40525,51707,124658,122807,93472,124609,142296,46627,47181,67328,130578,120557,113575,143271,85167,99502,115969,119744,52075,57532,77708,61949,66967,140565,99616,108980,40706,49641,51540,86606,84898,91868,143795,80209,36421,124887,135802,123085,50594,50324,93458,101116,99278,134013,131297,64074,106033,105262,143346,69471,121445,72694,148287,96717,75610,106573,143795,119034,139221,135251,102851,72898,107800,88158,65422,83015,77699,100775,139406,117429,145569,78193,48500,69841,51603,70921,109809,89463,72084,49021,70556,99728,103828,84137,36424,130555,98048,139966,144282,51634,90136,146716,146131,44640,30848,43189,126051,97629,133392,138094,56794,47143,131691,96413,103533,95617,130550,42316,144378,42772,106731,109280,116648,50929,64664,62647,69200,139655,98514,56068,102536,105716,43553,125816,144761,125647,89742,123513,91804,66016,89500,122792,59426,44998,54071,137319,51530,92200,87988,73251,115615,52099,34754,94916,35612,127823,126737,118687,93719,135261,114056,143048,129502,94552,74273,148276,69965,47611,53771,125019,119753,126376,61318,36462,77263,89707,123992,66564,45920,47729,31365,114402,33185,129841,65081,97409,42683,51568,65063,133124,144896,130630,31193,96443,149714,81032,77085,93382,37533,38527,51395,70766,59951,51454,101685,125078,94939,99784,118030,75119,117208,100129,106138,86543,148887,131643,112293,44074,32073,118583,140627,117669,116540,133853,111473,113406,44920,123323,110477,121513,99892,137787,149426,69206,38947,142843,122754,110979,86517,113098,54992,121934,66342,58327,128410],\"yaxis\":\"y\",\"type\":\"scatter\"},{\"customdata\":[[2,6,false],[6,77,true],[9,85,false],[18,37,true],[21,94,false],[24,98,true],[30,28,true],[31,35,false],[33,26,false],[34,42,false],[38,43,false],[40,62,false],[49,31,false],[50,22,false],[52,57,true],[53,21,true],[56,41,false],[57,99,true],[58,41,false],[63,41,false],[74,93,false],[76,31,false],[86,67,true],[87,20,true],[88,91,true],[95,43,true],[100,34,true],[103,22,true],[114,8,false],[123,30,true],[127,42,true],[132,83,true],[137,83,false],[138,37,true],[144,37,true],[145,84,true],[148,45,false],[149,39,false],[154,87,false],[158,97,false],[166,24,true],[175,89,false],[186,5,true],[192,30,false],[196,93,true],[199,61,false],[202,29,true],[205,59,true],[209,17,false],[211,79,true],[219,47,true],[220,66,true],[222,9,true],[223,40,true],[225,51,true],[226,47,true],[239,27,false],[240,17,false],[243,49,false],[244,72,false],[250,15,true],[253,60,false],[254,39,false],[261,79,false],[267,5,false],[268,30,true],[271,59,false],[278,27,true],[282,75,true],[283,97,false],[286,11,true],[290,50,true],[295,75,false],[296,35,true],[298,68,false],[299,63,true],[302,29,false],[307,90,false],[308,26,true],[310,50,false],[311,95,true],[312,94,true],[314,71,false],[315,56,false],[320,48,false],[321,71,false],[322,67,false],[323,71,true],[328,97,true],[343,10,false],[357,73,false],[358,65,false],[361,70,true],[372,18,true],[378,21,false],[382,17,true],[392,58,true],[393,17,false],[397,92,false],[398,77,false],[400,26,false],[402,68,true],[410,6,true],[412,53,true],[415,37,true],[420,56,false],[421,61,true],[428,19,true],[430,50,true],[432,67,false],[441,31,false],[455,39,true],[468,80,true],[469,28,true],[473,92,false],[475,94,true],[480,18,true],[488,27,true],[490,0,true],[491,7,true],[492,25,false],[494,59,false],[498,72,false],[502,36,true],[508,72,false],[515,5,true],[516,40,true],[520,22,true],[539,29,false],[540,97,false],[541,13,false],[546,51,true],[547,16,false],[560,16,true],[563,23,true],[570,31,false],[572,47,true],[576,74,false],[579,66,false],[582,19,true],[587,44,false],[589,94,true],[592,16,true],[596,45,false],[604,6,false],[605,2,false],[606,26,true],[611,62,true],[624,10,false],[631,48,true],[632,60,false],[634,70,false],[644,20,false],[647,61,false],[649,27,false],[650,73,false],[659,42,false],[662,27,true],[667,37,true],[669,58,false],[672,75,true],[677,26,false],[680,52,false],[684,60,true],[685,73,false],[686,99,false],[694,53,true],[695,23,false],[697,92,true],[700,13,true],[705,68,true],[711,51,false],[712,87,false],[713,47,true],[726,18,true],[729,73,false],[731,12,true],[738,76,false],[749,15,false],[752,22,false],[758,92,false],[761,41,false],[762,9,true],[765,81,true],[766,50,false],[768,64,false],[773,58,false],[775,57,false],[777,76,false],[780,18,false],[783,44,true],[785,75,true],[788,78,false],[790,54,false],[791,50,true],[792,43,true],[795,6,true],[798,9,true],[799,3,true],[802,94,false],[806,80,true],[809,13,true],[811,46,false],[812,99,true],[821,43,true],[822,1,true],[823,73,false],[826,79,true],[835,53,true],[839,43,true],[843,14,false],[847,97,false],[852,68,true],[865,27,true],[871,84,false],[875,44,true],[879,71,true],[880,68,false],[881,95,true],[882,93,true],[884,32,true],[890,54,false],[900,94,false],[902,86,false],[903,37,true],[906,12,false],[919,0,false],[920,69,false],[931,84,true],[932,41,true],[933,82,false],[934,70,false],[935,38,false],[936,34,true],[951,3,false],[952,64,true],[956,84,true],[958,76,false],[961,57,true],[962,21,true],[963,12,false],[967,29,true],[968,55,true],[971,0,true],[980,8,true],[981,6,false],[985,40,false],[987,94,true],[988,76,false],[992,58,false],[995,80,true],[997,74,true],[1000,64,true]],\"hovertemplate\":\"category=C\\u003cbr\\u003eage=%{x}\\u003cbr\\u003esalary=%{y}\\u003cbr\\u003eid=%{customdata[0]}\\u003cbr\\u003escore=%{customdata[1]}\\u003cbr\\u003eon_leave=%{customdata[2]}\\u003cextra\\u003e\\u003c\\u002fextra\\u003e\",\"legendgroup\":\"C\",\"marker\":{\"color\":\"#EF553B\",\"symbol\":\"circle\"},\"mode\":\"markers\",\"name\":\"C\",\"orientation\":\"v\",\"showlegend\":true,\"x\":[21,37,41,42,43,27,36,53,47,37,50,27,18,18,23,56,33,22,59,59,29,24,41,33,31,23,47,31,21,54,29,56,42,20,26,37,44,20,21,29,51,42,42,56,41,58,55,20,41,47,21,44,49,27,45,25,52,23,19,35,21,48,47,23,57,57,48,59,43,50,46,40,21,26,47,41,26,18,29,54,43,50,40,46,53,37,25,26,33,41,25,34,43,42,38,45,35,38,54,22,28,48,37,36,51,18,57,52,51,22,38,48,52,41,32,24,45,22,48,41,52,27,30,56,31,56,36,59,45,19,18,21,55,23,31,39,40,19,30,32,28,43,36,23,51,36,51,47,21,21,28,19,59,44,59,28,53,36,36,42,42,28,45,52,56,38,51,41,23,28,29,26,23,19,54,48,33,28,37,46,25,18,41,21,21,27,33,32,22,25,25,52,45,41,32,57,52,25,55,55,35,19,23,34,21,40,55,58,34,19,41,43,59,54,28,54,23,56,53,42,38,37,39,35,55,54,43,42,33,32,53,57,25,56,55,25,27,34,36,46,18,26,36,35,30,29,44,19,34,51,26,37,22],\"xaxis\":\"x\",\"y\":[71622,128383,95017,97267,72113,112283,39103,140108,109131,44552,126204,36034,82315,52572,138541,113543,71470,37581,117647,122209,126934,46620,71333,74192,147162,76843,105025,108438,140039,65983,48065,119283,126090,55700,80933,36437,76670,79083,53325,103914,140839,108848,78825,65364,112293,142256,149049,72160,48931,141715,46419,51262,144748,43304,86131,89165,114509,122401,72554,35912,44971,91179,34354,129879,145852,33313,49876,131084,59092,61943,51129,92133,110273,81235,50368,49991,102557,114908,97622,42837,63130,34648,107595,109492,80951,102664,76680,95775,134423,148800,47975,43666,43649,43282,122616,109222,67063,41929,66018,31435,80731,118418,77624,95908,113426,71986,118573,99697,85666,78661,50855,121578,91065,94261,116416,146028,58853,140519,99810,33670,101861,123739,137662,63848,137127,52579,136933,48586,30739,43728,68158,108945,112098,109717,35330,45469,62444,110462,81808,94870,136701,59233,147004,54391,85679,134667,62933,104756,116742,147270,37278,129796,74742,138734,136030,108587,103628,59011,107807,94284,122810,120305,37213,58903,52014,45708,48583,46371,81282,88094,107939,49961,127469,120166,111541,59827,84078,146844,65560,116734,77170,56952,131637,123993,143625,44809,138297,52627,41111,37752,69538,95198,46074,61231,117391,59659,148839,101271,45409,48293,115329,147906,84617,129869,135919,105040,69105,30833,60403,45452,68115,138605,95031,93483,135138,114588,50350,82401,50428,148730,116602,65569,34090,81472,45679,99414,35000,149880,61397,126007,115654,91052,55898,85483,122083,31339,147365,149417,35774,115319,48109,103084,147101,114442,138113,82410,126637,104518,77903,98932,132180,122332,111263],\"yaxis\":\"y\",\"type\":\"scatter\"},{\"customdata\":[[3,48,false],[8,9,false],[10,66,false],[12,36,true],[14,64,false],[27,50,false],[28,61,true],[32,53,true],[35,46,false],[37,28,true],[46,75,false],[61,23,false],[62,72,false],[68,65,false],[69,94,true],[72,83,false],[73,6,false],[77,29,true],[78,16,false],[79,67,true],[80,26,false],[89,92,true],[96,27,false],[97,87,true],[99,23,true],[105,57,true],[109,24,true],[111,17,false],[112,52,false],[115,5,false],[121,29,false],[124,71,true],[125,58,false],[126,94,false],[129,71,true],[130,25,true],[139,33,false],[141,89,true],[143,60,false],[147,16,false],[151,97,false],[152,65,true],[164,29,false],[174,26,false],[176,64,false],[183,11,false],[185,54,true],[187,17,true],[191,81,false],[195,0,true],[197,44,true],[198,44,true],[200,0,false],[203,91,false],[207,63,false],[210,38,false],[212,1,true],[221,11,false],[227,4,false],[232,8,false],[234,18,true],[237,93,true],[242,11,true],[251,57,false],[252,3,true],[255,85,true],[258,67,false],[266,11,false],[272,32,false],[273,37,true],[274,43,true],[276,45,true],[279,27,false],[288,89,false],[291,40,false],[293,30,false],[297,84,false],[300,4,true],[301,49,false],[303,63,false],[304,61,false],[313,17,true],[319,47,true],[324,62,true],[335,65,true],[336,66,false],[337,62,true],[339,61,false],[342,31,false],[347,71,true],[354,23,false],[359,75,true],[362,40,true],[363,60,false],[368,69,true],[369,62,true],[370,58,true],[374,1,true],[379,78,true],[383,5,true],[388,13,false],[406,92,true],[416,93,true],[422,55,true],[424,23,true],[425,57,true],[433,30,false],[434,37,true],[435,56,false],[442,70,false],[444,75,false],[448,84,true],[458,35,true],[461,54,true],[467,58,true],[489,6,true],[497,85,false],[499,38,false],[507,41,true],[509,6,false],[517,55,false],[527,88,true],[528,76,false],[530,95,true],[542,19,false],[544,76,false],[545,44,false],[550,36,false],[553,0,true],[555,37,true],[557,44,true],[559,16,false],[561,10,false],[571,42,true],[584,39,true],[595,68,true],[600,53,false],[603,18,true],[607,25,true],[613,37,false],[616,69,false],[618,25,true],[619,12,true],[621,70,false],[627,16,true],[636,63,true],[637,65,false],[641,86,true],[642,36,false],[645,84,false],[648,30,true],[651,72,false],[652,52,false],[655,62,true],[656,48,true],[665,70,true],[666,41,false],[668,6,true],[671,3,true],[675,78,false],[676,83,true],[679,35,false],[681,17,true],[683,10,false],[690,79,false],[692,4,false],[693,85,true],[696,22,true],[698,43,true],[699,6,false],[702,17,false],[710,79,false],[714,63,false],[715,30,true],[717,92,false],[718,46,true],[720,46,true],[724,10,true],[725,63,true],[727,72,true],[730,13,true],[735,9,false],[742,59,true],[743,72,true],[745,54,false],[748,11,true],[751,21,false],[755,91,false],[764,43,false],[767,16,false],[769,26,true],[772,82,true],[779,72,false],[781,17,true],[786,87,true],[787,70,true],[797,44,false],[800,9,false],[814,37,false],[824,90,true],[830,65,true],[833,9,false],[834,13,true],[836,70,false],[840,5,true],[842,15,true],[846,35,true],[849,6,true],[855,67,false],[857,41,true],[858,13,true],[860,40,true],[862,38,true],[866,60,true],[867,15,true],[868,34,false],[887,29,true],[889,9,true],[891,8,false],[896,16,true],[899,71,true],[905,46,false],[908,22,false],[916,76,false],[923,49,false],[928,71,false],[937,74,true],[939,40,false],[940,27,true],[941,94,false],[943,98,false],[945,89,false],[946,27,false],[949,31,false],[950,48,false],[955,12,false],[957,75,true],[964,17,false],[970,37,false],[973,13,false],[974,8,false],[977,82,true],[978,80,true],[979,13,true],[982,27,true],[984,35,false],[990,45,true],[991,80,false],[999,88,false]],\"hovertemplate\":\"category=A\\u003cbr\\u003eage=%{x}\\u003cbr\\u003esalary=%{y}\\u003cbr\\u003eid=%{customdata[0]}\\u003cbr\\u003escore=%{customdata[1]}\\u003cbr\\u003eon_leave=%{customdata[2]}\\u003cextra\\u003e\\u003c\\u002fextra\\u003e\",\"legendgroup\":\"A\",\"marker\":{\"color\":\"#00cc96\",\"symbol\":\"circle\"},\"mode\":\"markers\",\"name\":\"A\",\"orientation\":\"v\",\"showlegend\":true,\"x\":[21,54,24,42,19,23,33,42,37,57,29,19,57,45,18,30,38,22,21,30,54,39,48,18,52,39,41,52,53,36,59,28,40,58,34,50,21,52,58,26,32,50,34,25,33,47,49,42,30,23,50,29,38,46,37,38,21,21,57,42,23,18,26,57,53,51,47,39,35,24,25,46,47,59,34,48,45,50,37,25,41,32,40,31,28,45,53,36,36,34,57,40,26,53,43,20,34,54,51,47,27,24,21,42,53,23,44,50,27,25,39,38,25,46,28,31,40,33,29,25,25,49,47,51,23,52,33,24,46,20,46,55,27,55,25,35,23,42,32,50,43,18,30,36,36,34,46,56,27,43,22,30,58,57,50,46,26,43,46,37,18,24,53,37,20,30,33,30,56,19,24,27,33,30,39,36,31,39,24,58,23,50,47,44,40,54,23,37,28,34,38,27,54,41,48,34,53,22,58,47,47,55,42,53,41,18,43,42,23,40,29,51,44,36,41,39,42,20,21,35,52,39,52,51,41,20,47,21,31,42,40,56,29,43,21,29,29,39,46,21,42,39,32,19,43,29,34,51,41],\"xaxis\":\"x\",\"y\":[53616,73827,74428,35130,138137,38889,115398,98935,34409,73224,123484,70580,124748,37209,39690,69855,81473,59334,146815,68986,47570,121519,32352,84655,76404,135630,103020,69603,36388,44272,60302,65568,142401,118330,82199,62329,142774,74113,32422,113227,31631,122168,124152,31064,87556,87924,102652,71847,126873,104462,53843,117984,84833,52578,123894,109780,59030,144611,107979,129739,103784,50202,63725,56637,129073,64626,115754,140963,46138,148634,85584,102988,145917,53314,131308,32514,131651,103356,67219,142312,36932,146591,128846,44223,33436,119383,127140,128671,109850,89600,83420,41675,33799,94923,54953,83479,59409,57892,101420,135955,80787,91552,59547,131831,128547,128076,125343,52383,134645,143811,67703,49169,84522,86593,119702,50978,35947,89379,73151,65817,122932,97896,40400,95873,116589,104140,34267,52344,73010,50623,39557,49549,78248,92490,121519,41106,105841,36445,112354,51427,58558,110266,103115,34966,53722,45101,80306,49807,95720,100610,62511,133513,81917,144981,83203,125609,119689,33869,94810,74711,64274,110086,63914,92998,109392,86227,56613,32170,67990,112009,38347,134259,47700,123310,129311,115701,111598,49088,130537,56720,47800,87446,146529,75639,127338,140732,91243,104756,140415,128966,104969,38989,132098,112175,137831,88890,54983,80533,114913,35241,107772,131272,140739,52922,127806,124254,96711,80357,120791,68547,64026,35042,147675,59785,62869,57000,133970,131836,37463,62843,140505,136253,110387,50028,97124,81615,106511,118009,46243,109283,58439,52297,117865,144031,125832,66472,94427,63281,53723,47610,52613,103195,142222,99888,57660,35046,143698,91226,106016],\"yaxis\":\"y\",\"type\":\"scatter\"},{\"customdata\":[[7,56,false],[11,9,true],[16,13,true],[36,69,true],[44,91,false],[45,99,true],[47,96,true],[54,97,false],[64,60,false],[65,47,true],[71,0,false],[75,67,true],[82,11,true],[83,81,true],[84,55,false],[85,43,true],[91,14,false],[93,99,true],[94,63,false],[101,32,false],[104,21,false],[108,39,true],[113,90,false],[120,62,true],[122,11,false],[128,85,true],[135,3,true],[140,60,true],[150,33,true],[153,73,true],[155,68,false],[156,24,true],[157,6,false],[162,59,true],[167,3,false],[168,82,true],[170,6,false],[171,84,true],[172,21,true],[173,27,false],[179,37,false],[180,7,false],[182,75,true],[184,2,false],[194,3,false],[204,34,false],[206,21,false],[208,94,false],[216,53,false],[217,22,true],[224,54,false],[230,44,false],[231,72,false],[233,72,true],[246,3,true],[247,11,true],[256,29,true],[257,53,false],[262,45,false],[269,58,true],[281,72,false],[306,83,false],[316,35,false],[325,72,false],[327,5,false],[329,55,true],[330,92,false],[332,38,false],[333,49,false],[334,8,false],[338,16,true],[340,66,false],[341,11,false],[344,20,true],[345,14,true],[349,5,false],[351,79,true],[353,32,true],[360,87,false],[364,36,false],[365,12,false],[373,0,false],[377,90,false],[380,13,true],[386,27,false],[390,48,false],[391,56,true],[401,17,false],[403,43,true],[405,94,true],[408,58,true],[409,27,false],[411,7,false],[413,26,false],[414,75,true],[417,49,false],[418,20,true],[426,9,false],[427,0,true],[436,5,false],[439,90,false],[443,89,false],[446,31,true],[450,39,false],[452,74,false],[453,38,false],[454,68,false],[459,11,true],[460,75,false],[465,51,true],[466,34,true],[470,9,true],[476,59,false],[477,94,true],[482,1,true],[486,61,false],[493,67,true],[496,44,false],[506,13,true],[510,94,false],[513,3,false],[518,29,false],[519,53,true],[522,36,true],[523,59,true],[525,70,false],[533,0,true],[543,41,false],[548,37,false],[551,4,false],[554,49,true],[556,75,false],[566,38,true],[578,83,false],[580,19,false],[581,31,false],[586,97,false],[588,54,false],[597,84,true],[599,76,false],[602,90,false],[609,63,false],[610,91,false],[612,57,true],[620,52,true],[622,47,false],[626,90,true],[629,94,false],[635,1,false],[640,0,true],[643,26,true],[653,84,true],[658,43,true],[661,9,true],[664,34,true],[670,85,false],[674,29,false],[682,80,true],[689,51,false],[716,13,true],[721,45,true],[722,97,false],[732,29,true],[734,77,false],[736,46,false],[737,60,true],[741,24,false],[744,15,true],[746,32,true],[750,25,true],[754,92,false],[757,91,true],[759,99,true],[774,75,false],[776,58,false],[782,42,false],[784,98,false],[789,46,false],[793,65,true],[803,1,false],[807,94,false],[813,87,true],[827,17,false],[831,27,true],[832,35,true],[838,10,true],[841,40,false],[845,0,false],[853,95,false],[854,27,false],[856,34,false],[859,17,false],[863,42,true],[869,50,true],[872,52,false],[873,25,false],[874,75,false],[876,81,true],[877,5,true],[878,83,true],[883,91,false],[888,13,true],[892,25,false],[893,33,true],[895,47,false],[897,49,true],[898,62,false],[901,80,false],[904,9,true],[909,56,true],[910,78,true],[911,45,true],[912,33,true],[913,62,true],[915,69,true],[917,41,false],[921,22,false],[924,65,true],[925,10,true],[926,70,false],[927,16,false],[938,40,true],[948,58,false],[953,37,false],[966,31,false],[969,65,true],[972,23,true],[983,37,true],[986,26,true],[989,57,false],[993,23,true],[994,72,false],[996,18,true],[998,15,true]],\"hovertemplate\":\"category=B\\u003cbr\\u003eage=%{x}\\u003cbr\\u003esalary=%{y}\\u003cbr\\u003eid=%{customdata[0]}\\u003cbr\\u003escore=%{customdata[1]}\\u003cbr\\u003eon_leave=%{customdata[2]}\\u003cextra\\u003e\\u003c\\u002fextra\\u003e\",\"legendgroup\":\"B\",\"marker\":{\"color\":\"#ab63fa\",\"symbol\":\"circle\"},\"mode\":\"markers\",\"name\":\"B\",\"orientation\":\"v\",\"showlegend\":true,\"x\":[39,42,57,32,41,53,46,58,53,56,53,22,32,33,38,53,59,18,49,21,57,28,48,32,19,20,31,48,21,22,29,40,31,39,58,50,24,39,49,31,58,33,56,19,40,58,45,43,27,59,28,52,52,51,45,58,36,35,55,29,27,35,38,23,26,33,29,57,46,44,59,52,48,19,24,53,31,56,33,24,35,22,43,55,25,37,54,58,45,38,45,53,30,28,52,30,54,24,21,23,48,21,21,37,18,23,45,39,55,56,43,50,51,59,53,54,53,44,28,48,33,46,19,46,32,45,59,42,37,38,24,46,35,24,44,28,21,45,48,21,54,51,35,30,27,22,55,44,38,20,20,51,44,42,48,57,21,24,59,30,48,46,55,49,34,50,18,57,37,54,44,56,34,56,51,45,40,29,48,37,23,56,35,51,48,47,26,44,35,34,37,29,25,20,23,56,56,19,54,23,33,48,31,29,54,44,24,38,43,29,52,51,37,29,43,49,56,44,21,44,47,29,36,47,27,29,33,57,52,19,56,58,31,50],\"xaxis\":\"x\",\"y\":[87427,122845,123254,82026,35703,60391,60955,101627,100577,114311,137714,31344,135126,82214,117701,119890,96147,77975,33995,53299,129963,82701,73593,65349,142538,110003,41908,91472,134022,115304,61388,146703,84690,35596,31004,117047,141904,148484,51227,98829,109013,92013,60642,38686,144853,57361,87329,78764,86467,58070,103041,116451,33958,131604,74304,36592,73155,40740,127749,80112,44929,42369,129763,57018,65661,101653,144663,70391,144748,42448,76462,66980,89364,108772,52746,102928,146564,50111,36445,30432,89351,80972,126981,30370,142197,57137,79281,99395,113245,116352,86235,78579,36720,91332,98704,126645,42629,79526,43151,104529,141131,33983,69709,96481,58856,145007,37640,149357,82330,82246,92689,146044,35785,68030,90957,127925,121914,121550,94453,106084,142590,100848,132267,130741,61098,97857,47124,123527,90206,48853,38977,112627,105953,74153,106123,57428,80834,122211,123790,66560,77376,130272,63996,149792,66174,68285,104702,141071,66535,113584,70046,146364,34983,92968,72344,55652,35393,131041,93298,38211,61940,84441,121996,72826,39820,78223,144779,110759,63865,88593,74559,31716,115831,41133,62282,119955,134689,133704,31677,86248,92997,119381,85332,101752,77628,47332,48888,65025,117471,40350,95374,64669,79746,83432,73042,80138,71483,131515,40600,69332,68704,75770,121658,88114,35103,31966,147811,66483,45168,83841,98752,97966,94327,71624,54726,72203,60425,128017,81544,78447,106693,144998,79453,113884,110303,139686,136308,110683,120543,108196,66730,145518,124035,38913],\"yaxis\":\"y\",\"type\":\"scatter\"}],                        {\"template\":{\"data\":{\"histogram2dcontour\":[{\"type\":\"histogram2dcontour\",\"colorbar\":{\"outlinewidth\":0,\"ticks\":\"\"},\"colorscale\":[[0.0,\"#0d0887\"],[0.1111111111111111,\"#46039f\"],[0.2222222222222222,\"#7201a8\"],[0.3333333333333333,\"#9c179e\"],[0.4444444444444444,\"#bd3786\"],[0.5555555555555556,\"#d8576b\"],[0.6666666666666666,\"#ed7953\"],[0.7777777777777778,\"#fb9f3a\"],[0.8888888888888888,\"#fdca26\"],[1.0,\"#f0f921\"]]}],\"choropleth\":[{\"type\":\"choropleth\",\"colorbar\":{\"outlinewidth\":0,\"ticks\":\"\"}}],\"histogram2d\":[{\"type\":\"histogram2d\",\"colorbar\":{\"outlinewidth\":0,\"ticks\":\"\"},\"colorscale\":[[0.0,\"#0d0887\"],[0.1111111111111111,\"#46039f\"],[0.2222222222222222,\"#7201a8\"],[0.3333333333333333,\"#9c179e\"],[0.4444444444444444,\"#bd3786\"],[0.5555555555555556,\"#d8576b\"],[0.6666666666666666,\"#ed7953\"],[0.7777777777777778,\"#fb9f3a\"],[0.8888888888888888,\"#fdca26\"],[1.0,\"#f0f921\"]]}],\"heatmap\":[{\"type\":\"heatmap\",\"colorbar\":{\"outlinewidth\":0,\"ticks\":\"\"},\"colorscale\":[[0.0,\"#0d0887\"],[0.1111111111111111,\"#46039f\"],[0.2222222222222222,\"#7201a8\"],[0.3333333333333333,\"#9c179e\"],[0.4444444444444444,\"#bd3786\"],[0.5555555555555556,\"#d8576b\"],[0.6666666666666666,\"#ed7953\"],[0.7777777777777778,\"#fb9f3a\"],[0.8888888888888888,\"#fdca26\"],[1.0,\"#f0f921\"]]}],\"heatmapgl\":[{\"type\":\"heatmapgl\",\"colorbar\":{\"outlinewidth\":0,\"ticks\":\"\"},\"colorscale\":[[0.0,\"#0d0887\"],[0.1111111111111111,\"#46039f\"],[0.2222222222222222,\"#7201a8\"],[0.3333333333333333,\"#9c179e\"],[0.4444444444444444,\"#bd3786\"],[0.5555555555555556,\"#d8576b\"],[0.6666666666666666,\"#ed7953\"],[0.7777777777777778,\"#fb9f3a\"],[0.8888888888888888,\"#fdca26\"],[1.0,\"#f0f921\"]]}],\"contourcarpet\":[{\"type\":\"contourcarpet\",\"colorbar\":{\"outlinewidth\":0,\"ticks\":\"\"}}],\"contour\":[{\"type\":\"contour\",\"colorbar\":{\"outlinewidth\":0,\"ticks\":\"\"},\"colorscale\":[[0.0,\"#0d0887\"],[0.1111111111111111,\"#46039f\"],[0.2222222222222222,\"#7201a8\"],[0.3333333333333333,\"#9c179e\"],[0.4444444444444444,\"#bd3786\"],[0.5555555555555556,\"#d8576b\"],[0.6666666666666666,\"#ed7953\"],[0.7777777777777778,\"#fb9f3a\"],[0.8888888888888888,\"#fdca26\"],[1.0,\"#f0f921\"]]}],\"surface\":[{\"type\":\"surface\",\"colorbar\":{\"outlinewidth\":0,\"ticks\":\"\"},\"colorscale\":[[0.0,\"#0d0887\"],[0.1111111111111111,\"#46039f\"],[0.2222222222222222,\"#7201a8\"],[0.3333333333333333,\"#9c179e\"],[0.4444444444444444,\"#bd3786\"],[0.5555555555555556,\"#d8576b\"],[0.6666666666666666,\"#ed7953\"],[0.7777777777777778,\"#fb9f3a\"],[0.8888888888888888,\"#fdca26\"],[1.0,\"#f0f921\"]]}],\"mesh3d\":[{\"type\":\"mesh3d\",\"colorbar\":{\"outlinewidth\":0,\"ticks\":\"\"}}],\"scatter\":[{\"fillpattern\":{\"fillmode\":\"overlay\",\"size\":10,\"solidity\":0.2},\"type\":\"scatter\"}],\"parcoords\":[{\"type\":\"parcoords\",\"line\":{\"colorbar\":{\"outlinewidth\":0,\"ticks\":\"\"}}}],\"scatterpolargl\":[{\"type\":\"scatterpolargl\",\"marker\":{\"colorbar\":{\"outlinewidth\":0,\"ticks\":\"\"}}}],\"bar\":[{\"error_x\":{\"color\":\"#2a3f5f\"},\"error_y\":{\"color\":\"#2a3f5f\"},\"marker\":{\"line\":{\"color\":\"#E5ECF6\",\"width\":0.5},\"pattern\":{\"fillmode\":\"overlay\",\"size\":10,\"solidity\":0.2}},\"type\":\"bar\"}],\"scattergeo\":[{\"type\":\"scattergeo\",\"marker\":{\"colorbar\":{\"outlinewidth\":0,\"ticks\":\"\"}}}],\"scatterpolar\":[{\"type\":\"scatterpolar\",\"marker\":{\"colorbar\":{\"outlinewidth\":0,\"ticks\":\"\"}}}],\"histogram\":[{\"marker\":{\"pattern\":{\"fillmode\":\"overlay\",\"size\":10,\"solidity\":0.2}},\"type\":\"histogram\"}],\"scattergl\":[{\"type\":\"scattergl\",\"marker\":{\"colorbar\":{\"outlinewidth\":0,\"ticks\":\"\"}}}],\"scatter3d\":[{\"type\":\"scatter3d\",\"line\":{\"colorbar\":{\"outlinewidth\":0,\"ticks\":\"\"}},\"marker\":{\"colorbar\":{\"outlinewidth\":0,\"ticks\":\"\"}}}],\"scattermapbox\":[{\"type\":\"scattermapbox\",\"marker\":{\"colorbar\":{\"outlinewidth\":0,\"ticks\":\"\"}}}],\"scatterternary\":[{\"type\":\"scatterternary\",\"marker\":{\"colorbar\":{\"outlinewidth\":0,\"ticks\":\"\"}}}],\"scattercarpet\":[{\"type\":\"scattercarpet\",\"marker\":{\"colorbar\":{\"outlinewidth\":0,\"ticks\":\"\"}}}],\"carpet\":[{\"aaxis\":{\"endlinecolor\":\"#2a3f5f\",\"gridcolor\":\"white\",\"linecolor\":\"white\",\"minorgridcolor\":\"white\",\"startlinecolor\":\"#2a3f5f\"},\"baxis\":{\"endlinecolor\":\"#2a3f5f\",\"gridcolor\":\"white\",\"linecolor\":\"white\",\"minorgridcolor\":\"white\",\"startlinecolor\":\"#2a3f5f\"},\"type\":\"carpet\"}],\"table\":[{\"cells\":{\"fill\":{\"color\":\"#EBF0F8\"},\"line\":{\"color\":\"white\"}},\"header\":{\"fill\":{\"color\":\"#C8D4E3\"},\"line\":{\"color\":\"white\"}},\"type\":\"table\"}],\"barpolar\":[{\"marker\":{\"line\":{\"color\":\"#E5ECF6\",\"width\":0.5},\"pattern\":{\"fillmode\":\"overlay\",\"size\":10,\"solidity\":0.2}},\"type\":\"barpolar\"}],\"pie\":[{\"automargin\":true,\"type\":\"pie\"}]},\"layout\":{\"autotypenumbers\":\"strict\",\"colorway\":[\"#636efa\",\"#EF553B\",\"#00cc96\",\"#ab63fa\",\"#FFA15A\",\"#19d3f3\",\"#FF6692\",\"#B6E880\",\"#FF97FF\",\"#FECB52\"],\"font\":{\"color\":\"#2a3f5f\"},\"hovermode\":\"closest\",\"hoverlabel\":{\"align\":\"left\"},\"paper_bgcolor\":\"white\",\"plot_bgcolor\":\"#E5ECF6\",\"polar\":{\"bgcolor\":\"#E5ECF6\",\"angularaxis\":{\"gridcolor\":\"white\",\"linecolor\":\"white\",\"ticks\":\"\"},\"radialaxis\":{\"gridcolor\":\"white\",\"linecolor\":\"white\",\"ticks\":\"\"}},\"ternary\":{\"bgcolor\":\"#E5ECF6\",\"aaxis\":{\"gridcolor\":\"white\",\"linecolor\":\"white\",\"ticks\":\"\"},\"baxis\":{\"gridcolor\":\"white\",\"linecolor\":\"white\",\"ticks\":\"\"},\"caxis\":{\"gridcolor\":\"white\",\"linecolor\":\"white\",\"ticks\":\"\"}},\"coloraxis\":{\"colorbar\":{\"outlinewidth\":0,\"ticks\":\"\"}},\"colorscale\":{\"sequential\":[[0.0,\"#0d0887\"],[0.1111111111111111,\"#46039f\"],[0.2222222222222222,\"#7201a8\"],[0.3333333333333333,\"#9c179e\"],[0.4444444444444444,\"#bd3786\"],[0.5555555555555556,\"#d8576b\"],[0.6666666666666666,\"#ed7953\"],[0.7777777777777778,\"#fb9f3a\"],[0.8888888888888888,\"#fdca26\"],[1.0,\"#f0f921\"]],\"sequentialminus\":[[0.0,\"#0d0887\"],[0.1111111111111111,\"#46039f\"],[0.2222222222222222,\"#7201a8\"],[0.3333333333333333,\"#9c179e\"],[0.4444444444444444,\"#bd3786\"],[0.5555555555555556,\"#d8576b\"],[0.6666666666666666,\"#ed7953\"],[0.7777777777777778,\"#fb9f3a\"],[0.8888888888888888,\"#fdca26\"],[1.0,\"#f0f921\"]],\"diverging\":[[0,\"#8e0152\"],[0.1,\"#c51b7d\"],[0.2,\"#de77ae\"],[0.3,\"#f1b6da\"],[0.4,\"#fde0ef\"],[0.5,\"#f7f7f7\"],[0.6,\"#e6f5d0\"],[0.7,\"#b8e186\"],[0.8,\"#7fbc41\"],[0.9,\"#4d9221\"],[1,\"#276419\"]]},\"xaxis\":{\"gridcolor\":\"white\",\"linecolor\":\"white\",\"ticks\":\"\",\"title\":{\"standoff\":15},\"zerolinecolor\":\"white\",\"automargin\":true,\"zerolinewidth\":2},\"yaxis\":{\"gridcolor\":\"white\",\"linecolor\":\"white\",\"ticks\":\"\",\"title\":{\"standoff\":15},\"zerolinecolor\":\"white\",\"automargin\":true,\"zerolinewidth\":2},\"scene\":{\"xaxis\":{\"backgroundcolor\":\"#E5ECF6\",\"gridcolor\":\"white\",\"linecolor\":\"white\",\"showbackground\":true,\"ticks\":\"\",\"zerolinecolor\":\"white\",\"gridwidth\":2},\"yaxis\":{\"backgroundcolor\":\"#E5ECF6\",\"gridcolor\":\"white\",\"linecolor\":\"white\",\"showbackground\":true,\"ticks\":\"\",\"zerolinecolor\":\"white\",\"gridwidth\":2},\"zaxis\":{\"backgroundcolor\":\"#E5ECF6\",\"gridcolor\":\"white\",\"linecolor\":\"white\",\"showbackground\":true,\"ticks\":\"\",\"zerolinecolor\":\"white\",\"gridwidth\":2}},\"shapedefaults\":{\"line\":{\"color\":\"#2a3f5f\"}},\"annotationdefaults\":{\"arrowcolor\":\"#2a3f5f\",\"arrowhead\":0,\"arrowwidth\":1},\"geo\":{\"bgcolor\":\"white\",\"landcolor\":\"#E5ECF6\",\"subunitcolor\":\"white\",\"showland\":true,\"showlakes\":true,\"lakecolor\":\"white\"},\"title\":{\"x\":0.05},\"mapbox\":{\"style\":\"light\"}}},\"xaxis\":{\"anchor\":\"y\",\"domain\":[0.0,1.0],\"title\":{\"text\":\"age\"}},\"yaxis\":{\"anchor\":\"x\",\"domain\":[0.0,1.0],\"title\":{\"text\":\"salary\"}},\"legend\":{\"title\":{\"text\":\"category\"},\"tracegroupgap\":0},\"title\":{\"text\":\"Age vs Salary by Category\"}},                        {\"responsive\": true}                    ).then(function(){\n",
       "                            \n",
       "var gd = document.getElementById('413984d5-1824-4012-b339-e4f3973c0898');\n",
       "var x = new MutationObserver(function (mutations, observer) {{\n",
       "        var display = window.getComputedStyle(gd).display;\n",
       "        if (!display || display === 'none') {{\n",
       "            console.log([gd, 'removed!']);\n",
       "            Plotly.purge(gd);\n",
       "            observer.disconnect();\n",
       "        }}\n",
       "}});\n",
       "\n",
       "// Listen for the removal of the full notebook cells\n",
       "var notebookContainer = gd.closest('#notebook-container');\n",
       "if (notebookContainer) {{\n",
       "    x.observe(notebookContainer, {childList: true});\n",
       "}}\n",
       "\n",
       "// Listen for the clearing of the current output cell\n",
       "var outputEl = gd.closest('.output');\n",
       "if (outputEl) {{\n",
       "    x.observe(outputEl, {childList: true});\n",
       "}}\n",
       "\n",
       "                        })                };                });            </script>        </div>"
      ]
     },
     "metadata": {},
     "output_type": "display_data"
    }
   ],
   "source": [
    "import pandas as pd\n",
    "import plotly.express as px\n",
    "\n",
    "import pandas as pd\n",
    "\n",
    "df = pd.read_csv(\"csv_files/employees_data.csv\")\n",
    "\n",
    "# Plotly Express를 사용하여 인터랙티브한 산점도 그래프 생성\n",
    "fig = px.scatter(df, x=\"age\", y=\"salary\", color=\"category\",\n",
    "                 hover_data=[\"id\", \"score\", \"on_leave\"],\n",
    "                 title=\"Age vs Salary by Category\")\n",
    "\n",
    "# 그래프 표시\n",
    "fig.show()\n"
   ]
  }
 ],
 "metadata": {
  "kernelspec": {
   "display_name": "Python 3 (ipykernel)",
   "language": "python",
   "name": "python3"
  },
  "language_info": {
   "codemirror_mode": {
    "name": "ipython",
    "version": 3
   },
   "file_extension": ".py",
   "mimetype": "text/x-python",
   "name": "python",
   "nbconvert_exporter": "python",
   "pygments_lexer": "ipython3",
   "version": "3.11.5"
  }
 },
 "nbformat": 4,
 "nbformat_minor": 4
}
