{
 "cells": [
  {
   "cell_type": "code",
   "execution_count": 3,
   "metadata": {},
   "outputs": [
    {
     "name": "stdout",
     "output_type": "stream",
     "text": [
      "\n",
      "Mean:\n",
      "89866.466\n",
      "\n",
      "Median:\n",
      "90171.0\n",
      "\n",
      "Mode:\n",
      "0     36445\n",
      "1    104756\n",
      "2    112293\n",
      "3    121519\n",
      "4    143795\n",
      "5    144748\n",
      "Name: salary, dtype: int64\n",
      "\n",
      "Variance, Standard Deviation:\n",
      "1216300260.6735175\n",
      "34875.49656526079\n",
      "\n",
      "Skewness, Kurtosis:\n",
      "-0.0005633158265260066\n",
      "-1.2256302046834466\n"
     ]
    }
   ],
   "source": [
    "import pandas as pd\n",
    "\n",
    "df = pd.read_csv(\"csv_files/employees_data.csv\")\n",
    "print(\"\\nMean:\")\n",
    "print(df[\"salary\"].mean())\n",
    "print(\"\\nMedian:\")\n",
    "print(df[\"salary\"].median())\n",
    "print(\"\\nMode:\")\n",
    "print(df[\"salary\"].mode())\n",
    "\n",
    "print(\"\\nVariance, Standard Deviation:\")\n",
    "print(df[\"salary\"].var())\n",
    "print(df[\"salary\"].std())\n",
    "\n",
    "print(\"\\nSkewness, Kurtosis:\")\n",
    "print(df[\"salary\"].skew())\n",
    "print(df[\"salary\"].kurt())\n",
    "\n"
   ]
  }
 ],
 "metadata": {
  "kernelspec": {
   "display_name": "venv",
   "language": "python",
   "name": "python3"
  },
  "language_info": {
   "codemirror_mode": {
    "name": "ipython",
    "version": 3
   },
   "file_extension": ".py",
   "mimetype": "text/x-python",
   "name": "python",
   "nbconvert_exporter": "python",
   "pygments_lexer": "ipython3",
   "version": "3.11.5"
  }
 },
 "nbformat": 4,
 "nbformat_minor": 2
}
