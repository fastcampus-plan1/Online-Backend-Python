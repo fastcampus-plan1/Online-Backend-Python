{
 "cells": [
  {
   "cell_type": "code",
   "execution_count": 1,
   "metadata": {},
   "outputs": [
    {
     "name": "stdout",
     "output_type": "stream",
     "text": [
      "       id  age  salary  score category  on_leave\n",
      "0       1   18  101071     70        D     False\n",
      "3       4   57  136213      9        D     False\n",
      "4       5   27   94799     28        D     False\n",
      "5       6   37  128383     77        C      True\n",
      "8       9   41   95017     85        C     False\n",
      "..    ...  ...     ...    ...      ...       ...\n",
      "994   995   26  132180     80        C      True\n",
      "995   996   31  124035     18        B      True\n",
      "996   997   37  122332     74        C      True\n",
      "998   999   41  106016     88        A     False\n",
      "999  1000   22  111263     64        C      True\n",
      "\n",
      "[501 rows x 6 columns]\n"
     ]
    },
    {
     "name": "stderr",
     "output_type": "stream",
     "text": [
      "/var/folders/dg/k946k57108n2bklvf_jw_3y80000gq/T/ipykernel_60649/2980576837.py:7: DeprecationWarning: \n",
      "Pyarrow will become a required dependency of pandas in the next major release of pandas (pandas 3.0),\n",
      "(to allow more performant data types, such as the Arrow string type, and better interoperability with other libraries)\n",
      "but was not found to be installed on your system.\n",
      "If this would cause problems for you,\n",
      "please provide us feedback at https://github.com/pandas-dev/pandas/issues/54466\n",
      "        \n",
      "  import pandas as pd\n"
     ]
    }
   ],
   "source": [
    "\"\"\"\n",
    "SELECT *\n",
    "FROM employees\n",
    "WHERE salary > (SELECT AVG(salary) FROM employees);\n",
    "\"\"\"\n",
    "\n",
    "import pandas as pd\n",
    "\n",
    "df = pd.read_csv(\"csv_files/employees_data.csv\")\n",
    "avg_salary = df['salary'].mean()\n",
    "subquery_df = df[df['salary'] > avg_salary]\n",
    "print(subquery_df)"
   ]
  },
  {
   "cell_type": "code",
   "execution_count": 2,
   "metadata": {},
   "outputs": [
    {
     "name": "stdout",
     "output_type": "stream",
     "text": [
      "category\n",
      "A    88060.751004\n",
      "B    87983.196581\n",
      "C    89353.031621\n",
      "D    93730.886364\n",
      "Name: salary, dtype: float64\n"
     ]
    }
   ],
   "source": [
    "\"\"\"\n",
    "SELECT category, AVG(salary) AS avg_salary\n",
    "FROM employees\n",
    "GROUP BY category;\n",
    "\"\"\"\n",
    "\n",
    "import pandas as pd\n",
    "\n",
    "df = pd.read_csv(\"csv_files/employees_data.csv\")\n",
    "avg_salary_by_category = df.groupby('category')['salary'].mean()\n",
    "print(avg_salary_by_category)"
   ]
  },
  {
   "cell_type": "code",
   "execution_count": 3,
   "metadata": {},
   "outputs": [
    {
     "name": "stdout",
     "output_type": "stream",
     "text": [
      "       id  age  salary  score category  on_leave  running_avg_salary\n",
      "0       1   18  101071     70        D     False       101071.000000\n",
      "1       2   21   71622      6        C     False        86346.500000\n",
      "2       3   21   53616     48        A     False        75436.333333\n",
      "3       4   57  136213      9        D     False        90630.500000\n",
      "4       5   27   94799     28        D     False        91464.200000\n",
      "..    ...  ...     ...    ...      ...       ...                 ...\n",
      "995   996   31  124035     18        B      True        89847.331325\n",
      "996   997   37  122332     74        C      True        89879.913741\n",
      "997   998   50   38913     15        B      True        89828.844689\n",
      "998   999   41  106016     88        A     False        89845.048048\n",
      "999  1000   22  111263     64        C      True        89866.466000\n",
      "\n",
      "[1000 rows x 7 columns]\n"
     ]
    }
   ],
   "source": [
    "\"\"\"\n",
    "SELECT id, salary, AVG(salary) OVER (ORDER BY salary) AS running_avg_salary\n",
    "FROM employees;\n",
    "\"\"\"\n",
    "\n",
    "import pandas as pd\n",
    "\n",
    "df = pd.read_csv(\"csv_files/employees_data.csv\")\n",
    "df['running_avg_salary'] = df['salary'].expanding().mean()\n",
    "print(df)"
   ]
  }
 ],
 "metadata": {
  "kernelspec": {
   "display_name": "venv",
   "language": "python",
   "name": "python3"
  },
  "language_info": {
   "codemirror_mode": {
    "name": "ipython",
    "version": 3
   },
   "file_extension": ".py",
   "mimetype": "text/x-python",
   "name": "python",
   "nbconvert_exporter": "python",
   "pygments_lexer": "ipython3",
   "version": "3.11.5"
  }
 },
 "nbformat": 4,
 "nbformat_minor": 2
}
