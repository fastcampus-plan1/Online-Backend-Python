{
 "cells": [
  {
   "cell_type": "code",
   "execution_count": 3,
   "metadata": {},
   "outputs": [
    {
     "name": "stdout",
     "output_type": "stream",
     "text": [
      "     customer_id         name  age                    email  \\\n",
      "0              1    Customer1    0    customer1@example.com   \n",
      "1              2    Customer2    0    customer2@example.com   \n",
      "2              3    Customer3    0    customer3@example.com   \n",
      "3              4    Customer4    0    customer4@example.com   \n",
      "4              5    Customer5    0    customer5@example.com   \n",
      "..           ...          ...  ...                      ...   \n",
      "495          396  Customer396   54  customer396@example.com   \n",
      "496          397  Customer397   57  customer397@example.com   \n",
      "497          398  Customer398   68  customer398@example.com   \n",
      "498          399  Customer399   29  customer399@example.com   \n",
      "499          400  Customer400   57  customer400@example.com   \n",
      "\n",
      "                      join_date  \n",
      "0    2023-01-27 06:52:22.275679  \n",
      "1    2023-07-15 06:52:22.275698  \n",
      "2    2023-01-24 06:52:22.275704  \n",
      "3    2023-03-25 06:52:22.275709  \n",
      "4    2023-03-25 06:52:22.275713  \n",
      "..                          ...  \n",
      "495  2023-02-09 06:54:12.151607  \n",
      "496  2023-03-25 06:54:12.151613  \n",
      "497  2023-02-19 06:54:12.151618  \n",
      "498  2023-07-18 06:54:12.151624  \n",
      "499  2023-01-22 06:54:12.151629  \n",
      "\n",
      "[500 rows x 5 columns]\n"
     ]
    },
    {
     "name": "stderr",
     "output_type": "stream",
     "text": [
      "/var/folders/dg/k946k57108n2bklvf_jw_3y80000gq/T/ipykernel_43917/2464339338.py:4: FutureWarning: A value is trying to be set on a copy of a DataFrame or Series through chained assignment using an inplace method.\n",
      "The behavior will change in pandas 3.0. This inplace method will never work because the intermediate object on which we are setting values always behaves as a copy.\n",
      "\n",
      "For example, when doing 'df[col].method(value, inplace=True)', try using 'df.method({col: value}, inplace=True)' or df[col] = df[col].method(value) instead, to perform the operation inplace on the original object.\n",
      "\n",
      "\n",
      "  df['age'].fillna(0, inplace=True)\n"
     ]
    }
   ],
   "source": [
    "import pandas as pd\n",
    "\n",
    "df = pd.read_csv(\"csv_files/combined_customers.csv\")\n",
    "df['age'].fillna(0, inplace=True)\n",
    "df['age'] = df['age'].astype('int')\n",
    "print(df)\n"
   ]
  },
  {
   "cell_type": "code",
   "execution_count": 4,
   "metadata": {},
   "outputs": [
    {
     "name": "stdout",
     "output_type": "stream",
     "text": [
      "     customer_id         name   age                    email  \\\n",
      "0              1    Customer1   NaN    customer1@example.com   \n",
      "1              2    Customer2   NaN    customer2@example.com   \n",
      "2              3    Customer3   NaN    customer3@example.com   \n",
      "3              4    Customer4   NaN    customer4@example.com   \n",
      "4              5    Customer5   NaN    customer5@example.com   \n",
      "..           ...          ...   ...                      ...   \n",
      "495          396  Customer396  54.0  customer396@example.com   \n",
      "496          397  Customer397  57.0  customer397@example.com   \n",
      "497          398  Customer398  68.0  customer398@example.com   \n",
      "498          399  Customer399  29.0  customer399@example.com   \n",
      "499          400  Customer400  57.0  customer400@example.com   \n",
      "\n",
      "                     join_date  year  month  day  hour  minute  \n",
      "0   2023-01-27 06:52:22.275679  2023      1   27     6      52  \n",
      "1   2023-07-15 06:52:22.275698  2023      7   15     6      52  \n",
      "2   2023-01-24 06:52:22.275704  2023      1   24     6      52  \n",
      "3   2023-03-25 06:52:22.275709  2023      3   25     6      52  \n",
      "4   2023-03-25 06:52:22.275713  2023      3   25     6      52  \n",
      "..                         ...   ...    ...  ...   ...     ...  \n",
      "495 2023-02-09 06:54:12.151607  2023      2    9     6      54  \n",
      "496 2023-03-25 06:54:12.151613  2023      3   25     6      54  \n",
      "497 2023-02-19 06:54:12.151618  2023      2   19     6      54  \n",
      "498 2023-07-18 06:54:12.151624  2023      7   18     6      54  \n",
      "499 2023-01-22 06:54:12.151629  2023      1   22     6      54  \n",
      "\n",
      "[500 rows x 10 columns]\n"
     ]
    }
   ],
   "source": [
    "import pandas as pd\n",
    "\n",
    "df = pd.read_csv(\"csv_files/combined_customers.csv\")\n",
    "df['join_date'] = pd.to_datetime(df['join_date'])\n",
    "df[\"year\"] = df[\"join_date\"].dt.year\n",
    "df[\"month\"] = df[\"join_date\"].dt.month\n",
    "df[\"day\"] = df[\"join_date\"].dt.day\n",
    "df[\"hour\"] = df[\"join_date\"].dt.hour\n",
    "df[\"minute\"] = df[\"join_date\"].dt.minute\n",
    "print(df)\n"
   ]
  }
 ],
 "metadata": {
  "kernelspec": {
   "display_name": "venv",
   "language": "python",
   "name": "python3"
  },
  "language_info": {
   "codemirror_mode": {
    "name": "ipython",
    "version": 3
   },
   "file_extension": ".py",
   "mimetype": "text/x-python",
   "name": "python",
   "nbconvert_exporter": "python",
   "pygments_lexer": "ipython3",
   "version": "3.11.5"
  }
 },
 "nbformat": 4,
 "nbformat_minor": 2
}
