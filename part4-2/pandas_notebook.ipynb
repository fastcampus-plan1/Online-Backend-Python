{
 "cells": [
  {
   "cell_type": "code",
   "execution_count": 26,
   "id": "59d0dd55-3145-4284-87fa-a5aa83616e3d",
   "metadata": {},
   "outputs": [
    {
     "data": {
      "text/plain": [
       "age\n",
       "18.0     5\n",
       "19.0    10\n",
       "20.0     7\n",
       "21.0    13\n",
       "22.0    11\n",
       "23.0    11\n",
       "24.0    10\n",
       "25.0     9\n",
       "26.0     9\n",
       "27.0    10\n",
       "28.0    11\n",
       "29.0    10\n",
       "30.0     4\n",
       "31.0    11\n",
       "32.0     4\n",
       "33.0     3\n",
       "34.0    11\n",
       "35.0     2\n",
       "36.0    11\n",
       "37.0    10\n",
       "38.0     6\n",
       "39.0     7\n",
       "40.0     8\n",
       "41.0     8\n",
       "42.0     7\n",
       "43.0    14\n",
       "44.0     9\n",
       "45.0     8\n",
       "46.0    10\n",
       "47.0    12\n",
       "48.0    14\n",
       "49.0     5\n",
       "50.0     9\n",
       "51.0     6\n",
       "52.0    13\n",
       "53.0    14\n",
       "54.0    10\n",
       "55.0     5\n",
       "56.0     8\n",
       "57.0    13\n",
       "58.0     7\n",
       "59.0    15\n",
       "60.0     7\n",
       "61.0    10\n",
       "62.0     8\n",
       "63.0    10\n",
       "64.0     8\n",
       "65.0     7\n",
       "66.0     9\n",
       "67.0     5\n",
       "68.0    14\n",
       "69.0    10\n",
       "70.0    10\n",
       "Name: customer_id, dtype: int64"
      ]
     },
     "execution_count": 26,
     "metadata": {},
     "output_type": "execute_result"
    }
   ],
   "source": [
    "import pandas as pd\n",
    "\n",
    "df = pd.read_csv(\"csv_files/combined_customers.csv\")\n",
    "df.groupby(\"age\")[\"customer_id\"].count()"
   ]
  },
  {
   "cell_type": "code",
   "execution_count": null,
   "id": "07a25bf3-3003-42c2-ab35-a55af5b71afe",
   "metadata": {},
   "outputs": [],
   "source": []
  }
 ],
 "metadata": {
  "kernelspec": {
   "display_name": "Python 3 (ipykernel)",
   "language": "python",
   "name": "python3"
  },
  "language_info": {
   "codemirror_mode": {
    "name": "ipython",
    "version": 3
   },
   "file_extension": ".py",
   "mimetype": "text/x-python",
   "name": "python",
   "nbconvert_exporter": "python",
   "pygments_lexer": "ipython3",
   "version": "3.11.5"
  }
 },
 "nbformat": 4,
 "nbformat_minor": 5
}
